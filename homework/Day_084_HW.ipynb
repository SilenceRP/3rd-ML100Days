{
 "cells": [
  {
   "cell_type": "markdown",
   "metadata": {},
   "source": [
    "## Work\n",
    "### 請結合前面的知識與程式碼，比較不同的 regularization 的組合對訓練的結果與影響：如 dropout, regularizers, batch-normalization 等"
   ]
  },
  {
   "cell_type": "code",
   "execution_count": 5,
   "metadata": {},
   "outputs": [],
   "source": [
    "import os\n",
    "import keras\n",
    "import itertools\n",
    "# Disable GPU\n",
    "os.environ[\"CUDA_VISIBLE_DEVICES\"] = \"\""
   ]
  },
  {
   "cell_type": "code",
   "execution_count": 6,
   "metadata": {},
   "outputs": [],
   "source": [
    "train, test = keras.datasets.cifar10.load_data()"
   ]
  },
  {
   "cell_type": "code",
   "execution_count": 7,
   "metadata": {},
   "outputs": [],
   "source": [
    "## 資料前處理\n",
    "def preproc_x(x, flatten=True):\n",
    "    x = x / 255.\n",
    "    if flatten:\n",
    "        x = x.reshape((len(x), -1))\n",
    "    return x\n",
    "\n",
    "def preproc_y(y, num_classes=10):\n",
    "    if y.shape[-1] == 1:\n",
    "        y = keras.utils.to_categorical(y, num_classes)\n",
    "    return y    "
   ]
  },
  {
   "cell_type": "code",
   "execution_count": 8,
   "metadata": {},
   "outputs": [],
   "source": [
    "x_train, y_train = train\n",
    "x_test, y_test = test\n",
    "\n",
    "# Preproc the inputs\n",
    "x_train = preproc_x(x_train)\n",
    "x_test = preproc_x(x_test)\n",
    "\n",
    "# Preprc the outputs\n",
    "y_train = preproc_y(y_train)\n",
    "y_test = preproc_y(y_test)"
   ]
  },
  {
   "cell_type": "code",
   "execution_count": null,
   "metadata": {},
   "outputs": [],
   "source": [
    "# BatchNormalization"
   ]
  },
  {
   "cell_type": "code",
   "execution_count": 9,
   "metadata": {},
   "outputs": [],
   "source": [
    "from keras.layers import BatchNormalization\n",
    "\n",
    "\"\"\"\n",
    "建立神經網路，並加入 BN layer\n",
    "\"\"\"\n",
    "def build_mlp(input_shape, output_units=10, num_neurons=[512, 256, 128]):\n",
    "    input_layer = keras.layers.Input(input_shape)\n",
    "    x = BatchNormalization()(input_layer)\n",
    "    for i, n_units in enumerate(num_neurons):\n",
    "        if i == 0:\n",
    "            x = keras.layers.Dense(units=n_units,                            \n",
    "                                   activation=\"relu\", \n",
    "                                   name=\"hidden_layer\"+str(i+1))(x)\n",
    "        else:\n",
    "            x = keras.layers.Dense(units=n_units, \n",
    "                                   activation=\"relu\", \n",
    "                                   name=\"hidden_layer\"+str(i+1))(x)\n",
    "    \n",
    "    out = keras.layers.Dense(units=output_units, activation=\"softmax\", name=\"output\")(x)\n",
    "    \n",
    "    model = keras.models.Model(inputs=[input_layer], outputs=[out])\n",
    "    return model"
   ]
  },
  {
   "cell_type": "code",
   "execution_count": 10,
   "metadata": {},
   "outputs": [],
   "source": [
    "## 超參數設定\n",
    "LEARNING_RATE = 1e-3\n",
    "EPOCHS = 25\n",
    "BATCH_SIZE = 1024\n",
    "MOMENTUM = 0.95"
   ]
  },
  {
   "cell_type": "code",
   "execution_count": 11,
   "metadata": {
    "scrolled": true
   },
   "outputs": [
    {
     "name": "stdout",
     "output_type": "stream",
     "text": [
      "WARNING:tensorflow:From C:\\Anaconda3\\lib\\site-packages\\tensorflow\\python\\framework\\op_def_library.py:263: colocate_with (from tensorflow.python.framework.ops) is deprecated and will be removed in a future version.\n",
      "Instructions for updating:\n",
      "Colocations handled automatically by placer.\n",
      "_________________________________________________________________\n",
      "Layer (type)                 Output Shape              Param #   \n",
      "=================================================================\n",
      "input_1 (InputLayer)         (None, 3072)              0         \n",
      "_________________________________________________________________\n",
      "batch_normalization_1 (Batch (None, 3072)              12288     \n",
      "_________________________________________________________________\n",
      "hidden_layer1 (Dense)        (None, 512)               1573376   \n",
      "_________________________________________________________________\n",
      "hidden_layer2 (Dense)        (None, 256)               131328    \n",
      "_________________________________________________________________\n",
      "hidden_layer3 (Dense)        (None, 128)               32896     \n",
      "_________________________________________________________________\n",
      "output (Dense)               (None, 10)                1290      \n",
      "=================================================================\n",
      "Total params: 1,751,178\n",
      "Trainable params: 1,745,034\n",
      "Non-trainable params: 6,144\n",
      "_________________________________________________________________\n",
      "WARNING:tensorflow:From C:\\Anaconda3\\lib\\site-packages\\tensorflow\\python\\ops\\math_ops.py:3066: to_int32 (from tensorflow.python.ops.math_ops) is deprecated and will be removed in a future version.\n",
      "Instructions for updating:\n",
      "Use tf.cast instead.\n",
      "Train on 50000 samples, validate on 10000 samples\n",
      "Epoch 1/25\n",
      "50000/50000 [==============================] - 12s 232us/step - loss: 2.1840 - acc: 0.2164 - val_loss: 1.9580 - val_acc: 0.3044\n",
      "Epoch 2/25\n",
      "50000/50000 [==============================] - 11s 216us/step - loss: 1.8728 - acc: 0.3363 - val_loss: 1.8020 - val_acc: 0.3622\n",
      "Epoch 3/25\n",
      "50000/50000 [==============================] - 11s 228us/step - loss: 1.7495 - acc: 0.3874 - val_loss: 1.7206 - val_acc: 0.3926\n",
      "Epoch 4/25\n",
      "50000/50000 [==============================] - 11s 226us/step - loss: 1.6756 - acc: 0.4154 - val_loss: 1.6674 - val_acc: 0.4139\n",
      "Epoch 5/25\n",
      "50000/50000 [==============================] - 11s 223us/step - loss: 1.6219 - acc: 0.4330 - val_loss: 1.6294 - val_acc: 0.4312\n",
      "Epoch 6/25\n",
      "50000/50000 [==============================] - 11s 223us/step - loss: 1.5801 - acc: 0.4489 - val_loss: 1.5978 - val_acc: 0.4399\n",
      "Epoch 7/25\n",
      "50000/50000 [==============================] - 11s 219us/step - loss: 1.5431 - acc: 0.4650 - val_loss: 1.5747 - val_acc: 0.4505\n",
      "Epoch 8/25\n",
      "50000/50000 [==============================] - 11s 221us/step - loss: 1.5120 - acc: 0.4751 - val_loss: 1.5538 - val_acc: 0.4573\n",
      "Epoch 9/25\n",
      "50000/50000 [==============================] - 11s 221us/step - loss: 1.4836 - acc: 0.4851 - val_loss: 1.5347 - val_acc: 0.4629\n",
      "Epoch 10/25\n",
      "50000/50000 [==============================] - 11s 218us/step - loss: 1.4564 - acc: 0.4940 - val_loss: 1.5195 - val_acc: 0.4682\n",
      "Epoch 11/25\n",
      "50000/50000 [==============================] - 11s 221us/step - loss: 1.4324 - acc: 0.5045 - val_loss: 1.5056 - val_acc: 0.4716\n",
      "Epoch 12/25\n",
      "50000/50000 [==============================] - 11s 219us/step - loss: 1.4101 - acc: 0.5132 - val_loss: 1.4926 - val_acc: 0.4744\n",
      "Epoch 13/25\n",
      "50000/50000 [==============================] - 11s 220us/step - loss: 1.3878 - acc: 0.5202 - val_loss: 1.4828 - val_acc: 0.4758\n",
      "Epoch 14/25\n",
      "50000/50000 [==============================] - 11s 226us/step - loss: 1.3665 - acc: 0.5286 - val_loss: 1.4695 - val_acc: 0.4819\n",
      "Epoch 15/25\n",
      "50000/50000 [==============================] - 11s 221us/step - loss: 1.3462 - acc: 0.5361 - val_loss: 1.4586 - val_acc: 0.4852\n",
      "Epoch 16/25\n",
      "50000/50000 [==============================] - 11s 222us/step - loss: 1.3274 - acc: 0.5428 - val_loss: 1.4505 - val_acc: 0.4881\n",
      "Epoch 17/25\n",
      "50000/50000 [==============================] - 11s 223us/step - loss: 1.3085 - acc: 0.5501 - val_loss: 1.4437 - val_acc: 0.4897\n",
      "Epoch 18/25\n",
      "50000/50000 [==============================] - 11s 220us/step - loss: 1.2901 - acc: 0.5565 - val_loss: 1.4367 - val_acc: 0.4926\n",
      "Epoch 19/25\n",
      "50000/50000 [==============================] - 11s 219us/step - loss: 1.2713 - acc: 0.5636 - val_loss: 1.4284 - val_acc: 0.4938\n",
      "Epoch 20/25\n",
      "50000/50000 [==============================] - 11s 220us/step - loss: 1.2544 - acc: 0.5685 - val_loss: 1.4210 - val_acc: 0.4974\n",
      "Epoch 21/25\n",
      "50000/50000 [==============================] - 11s 222us/step - loss: 1.2379 - acc: 0.5768 - val_loss: 1.4163 - val_acc: 0.5005\n",
      "Epoch 22/25\n",
      "50000/50000 [==============================] - 11s 222us/step - loss: 1.2210 - acc: 0.5830 - val_loss: 1.4094 - val_acc: 0.5015\n",
      "Epoch 23/25\n",
      "50000/50000 [==============================] - 11s 222us/step - loss: 1.2047 - acc: 0.5868 - val_loss: 1.4075 - val_acc: 0.5034\n",
      "Epoch 24/25\n",
      "50000/50000 [==============================] - 11s 223us/step - loss: 1.1896 - acc: 0.5922 - val_loss: 1.4008 - val_acc: 0.5078\n",
      "Epoch 25/25\n",
      "50000/50000 [==============================] - 11s 225us/step - loss: 1.1728 - acc: 0.5990 - val_loss: 1.3963 - val_acc: 0.5099\n"
     ]
    }
   ],
   "source": [
    "model = build_mlp(input_shape=x_train.shape[1:])\n",
    "model.summary()\n",
    "optimizer = keras.optimizers.SGD(lr=LEARNING_RATE, nesterov=True, momentum=MOMENTUM)\n",
    "model.compile(loss=\"categorical_crossentropy\", metrics=[\"accuracy\"], optimizer=optimizer)\n",
    "\n",
    "model.fit(x_train, y_train, \n",
    "          epochs=EPOCHS, \n",
    "          batch_size=BATCH_SIZE, \n",
    "          validation_data=(x_test, y_test), \n",
    "          shuffle=True)\n",
    "\n",
    "# Collect results\n",
    "train_loss = model.history.history[\"loss\"]\n",
    "valid_loss = model.history.history[\"val_loss\"]\n",
    "train_acc = model.history.history[\"acc\"]\n",
    "valid_acc = model.history.history[\"val_acc\"]"
   ]
  },
  {
   "cell_type": "code",
   "execution_count": 12,
   "metadata": {},
   "outputs": [
    {
     "data": {
      "image/png": "[encoded data removed]",
      "text/plain": [
       "<Figure size 432x288 with 1 Axes>"
      ]
     },
     "metadata": {
      "needs_background": "light"
     },
     "output_type": "display_data"
    },
    {
     "data": {
      "image/png": "[encoded data removed]",
      "text/plain": [
       "<Figure size 432x288 with 1 Axes>"
      ]
     },
     "metadata": {
      "needs_background": "light"
     },
     "output_type": "display_data"
    }
   ],
   "source": [
    "import matplotlib.pyplot as plt\n",
    "%matplotlib inline\n",
    "\n",
    "plt.plot(range(len(train_loss)), train_loss, label=\"train loss\")\n",
    "plt.plot(range(len(valid_loss)), valid_loss, label=\"valid loss\")\n",
    "plt.legend()\n",
    "plt.title(\"Loss\")\n",
    "plt.show()\n",
    "\n",
    "plt.plot(range(len(train_acc)), train_acc, label=\"train accuracy\")\n",
    "plt.plot(range(len(valid_acc)), valid_acc, label=\"valid accuracy\")\n",
    "plt.legend()\n",
    "plt.title(\"Accuracy\")\n",
    "plt.show()"
   ]
  },
  {
   "cell_type": "code",
   "execution_count": null,
   "metadata": {},
   "outputs": [],
   "source": [
    "# Dropout"
   ]
  },
  {
   "cell_type": "code",
   "execution_count": 13,
   "metadata": {},
   "outputs": [],
   "source": [
    "from keras.layers import Dropout\n",
    "\n",
    "\"\"\"\n",
    "建立神經網路，並加入 dropout layer\n",
    "\"\"\"\n",
    "def build_mlp(input_shape, output_units=10, num_neurons=[256, 128], drp_ratio=0.2):\n",
    "    input_layer = keras.layers.Input(input_shape)\n",
    "    \n",
    "    for i, n_units in enumerate(num_neurons):\n",
    "        if i == 0:\n",
    "            x = keras.layers.Dense(units=n_units, \n",
    "                                   activation=\"relu\", \n",
    "                                   name=\"hidden_layer\"+str(i+1))(input_layer)\n",
    "            x = Dropout(drp_ratio)(x)\n",
    "        else:\n",
    "            x = keras.layers.Dense(units=n_units, \n",
    "                                   activation=\"relu\", \n",
    "                                   name=\"hidden_layer\"+str(i+1))(x)\n",
    "            x = Dropout(drp_ratio)(x)\n",
    "    \n",
    "    out = keras.layers.Dense(units=output_units, activation=\"softmax\", name=\"output\")(x)\n",
    "    \n",
    "    model = keras.models.Model(inputs=[input_layer], outputs=[out])\n",
    "    return model"
   ]
  },
  {
   "cell_type": "code",
   "execution_count": 14,
   "metadata": {},
   "outputs": [],
   "source": [
    "## 超參數設定\n",
    "LEARNING_RATE = 1e-3\n",
    "EPOCHS = 25\n",
    "BATCH_SIZE = 256\n",
    "MOMENTUM = 0.95\n",
    "Dropout_EXP = 0.20"
   ]
  },
  {
   "cell_type": "code",
   "execution_count": 15,
   "metadata": {},
   "outputs": [
    {
     "name": "stdout",
     "output_type": "stream",
     "text": [
      "WARNING:tensorflow:From C:\\Anaconda3\\lib\\site-packages\\keras\\backend\\tensorflow_backend.py:3445: calling dropout (from tensorflow.python.ops.nn_ops) with keep_prob is deprecated and will be removed in a future version.\n",
      "Instructions for updating:\n",
      "Please use `rate` instead of `keep_prob`. Rate should be set to `rate = 1 - keep_prob`.\n",
      "_________________________________________________________________\n",
      "Layer (type)                 Output Shape              Param #   \n",
      "=================================================================\n",
      "input_2 (InputLayer)         (None, 3072)              0         \n",
      "_________________________________________________________________\n",
      "hidden_layer1 (Dense)        (None, 256)               786688    \n",
      "_________________________________________________________________\n",
      "dropout_1 (Dropout)          (None, 256)               0         \n",
      "_________________________________________________________________\n",
      "hidden_layer2 (Dense)        (None, 128)               32896     \n",
      "_________________________________________________________________\n",
      "dropout_2 (Dropout)          (None, 128)               0         \n",
      "_________________________________________________________________\n",
      "output (Dense)               (None, 10)                1290      \n",
      "=================================================================\n",
      "Total params: 820,874\n",
      "Trainable params: 820,874\n",
      "Non-trainable params: 0\n",
      "_________________________________________________________________\n",
      "Train on 50000 samples, validate on 10000 samples\n",
      "Epoch 1/25\n",
      "50000/50000 [==============================] - 6s 128us/step - loss: 2.0914 - acc: 0.2310 - val_loss: 1.8944 - val_acc: 0.3313\n",
      "Epoch 2/25\n",
      "50000/50000 [==============================] - 6s 115us/step - loss: 1.8995 - acc: 0.3166 - val_loss: 1.8100 - val_acc: 0.3625\n",
      "Epoch 3/25\n",
      "50000/50000 [==============================] - 6s 117us/step - loss: 1.8322 - acc: 0.3458 - val_loss: 1.7516 - val_acc: 0.3862\n",
      "Epoch 4/25\n",
      "50000/50000 [==============================] - 8s 153us/step - loss: 1.7848 - acc: 0.3626 - val_loss: 1.7079 - val_acc: 0.3961\n",
      "Epoch 5/25\n",
      "50000/50000 [==============================] - 7s 146us/step - loss: 1.7490 - acc: 0.3778 - val_loss: 1.6760 - val_acc: 0.4135\n",
      "Epoch 6/25\n",
      "50000/50000 [==============================] - 7s 138us/step - loss: 1.7203 - acc: 0.3900 - val_loss: 1.6484 - val_acc: 0.4229\n",
      "Epoch 7/25\n",
      "50000/50000 [==============================] - 7s 139us/step - loss: 1.6936 - acc: 0.4002 - val_loss: 1.6236 - val_acc: 0.4309\n",
      "Epoch 8/25\n",
      "50000/50000 [==============================] - 7s 139us/step - loss: 1.6748 - acc: 0.4069 - val_loss: 1.6094 - val_acc: 0.4368\n",
      "Epoch 9/25\n",
      "50000/50000 [==============================] - 7s 140us/step - loss: 1.6560 - acc: 0.4117 - val_loss: 1.5800 - val_acc: 0.4444\n",
      "Epoch 10/25\n",
      "50000/50000 [==============================] - 7s 140us/step - loss: 1.6375 - acc: 0.4194 - val_loss: 1.5667 - val_acc: 0.4456\n",
      "Epoch 11/25\n",
      "50000/50000 [==============================] - 7s 141us/step - loss: 1.6197 - acc: 0.4255 - val_loss: 1.5547 - val_acc: 0.4535\n",
      "Epoch 12/25\n",
      "50000/50000 [==============================] - 8s 151us/step - loss: 1.6010 - acc: 0.4329 - val_loss: 1.5385 - val_acc: 0.4589\n",
      "Epoch 13/25\n",
      "50000/50000 [==============================] - 8s 154us/step - loss: 1.5887 - acc: 0.4351 - val_loss: 1.5202 - val_acc: 0.4630\n",
      "Epoch 14/25\n",
      "50000/50000 [==============================] - 8s 152us/step - loss: 1.5739 - acc: 0.4430 - val_loss: 1.5123 - val_acc: 0.4684\n",
      "Epoch 15/25\n",
      "50000/50000 [==============================] - 7s 141us/step - loss: 1.5618 - acc: 0.4460 - val_loss: 1.4990 - val_acc: 0.4713\n",
      "Epoch 16/25\n",
      "50000/50000 [==============================] - 7s 138us/step - loss: 1.5482 - acc: 0.4517 - val_loss: 1.4863 - val_acc: 0.4760\n",
      "Epoch 17/25\n",
      "50000/50000 [==============================] - 7s 139us/step - loss: 1.5359 - acc: 0.4575 - val_loss: 1.4831 - val_acc: 0.4807\n",
      "Epoch 18/25\n",
      "50000/50000 [==============================] - 7s 139us/step - loss: 1.5263 - acc: 0.4589 - val_loss: 1.4699 - val_acc: 0.4787\n",
      "Epoch 19/25\n",
      "50000/50000 [==============================] - 7s 142us/step - loss: 1.5148 - acc: 0.4612 - val_loss: 1.4589 - val_acc: 0.4848\n",
      "Epoch 20/25\n",
      "50000/50000 [==============================] - 8s 158us/step - loss: 1.5049 - acc: 0.4647 - val_loss: 1.4541 - val_acc: 0.4897\n",
      "Epoch 21/25\n",
      "50000/50000 [==============================] - 7s 146us/step - loss: 1.5002 - acc: 0.4689 - val_loss: 1.4507 - val_acc: 0.4879\n",
      "Epoch 22/25\n",
      "50000/50000 [==============================] - 7s 140us/step - loss: 1.4872 - acc: 0.4715 - val_loss: 1.4453 - val_acc: 0.4914\n",
      "Epoch 23/25\n",
      "50000/50000 [==============================] - 7s 140us/step - loss: 1.4767 - acc: 0.4786 - val_loss: 1.4458 - val_acc: 0.4897\n",
      "Epoch 24/25\n",
      "50000/50000 [==============================] - 7s 141us/step - loss: 1.4709 - acc: 0.4800 - val_loss: 1.4354 - val_acc: 0.4964\n",
      "Epoch 25/25\n",
      "50000/50000 [==============================] - 7s 142us/step - loss: 1.4597 - acc: 0.4818 - val_loss: 1.4216 - val_acc: 0.4978\n"
     ]
    }
   ],
   "source": [
    "model = build_mlp(input_shape=x_train.shape[1:], drp_ratio=Dropout_EXP)\n",
    "model.summary()\n",
    "optimizer = keras.optimizers.SGD(lr=LEARNING_RATE, nesterov=True, momentum=MOMENTUM)\n",
    "model.compile(loss=\"categorical_crossentropy\", metrics=[\"accuracy\"], optimizer=optimizer)\n",
    "\n",
    "model.fit(x_train, y_train, \n",
    "          epochs=EPOCHS, \n",
    "          batch_size=BATCH_SIZE, \n",
    "          validation_data=(x_test, y_test), \n",
    "          shuffle=True)\n",
    "\n",
    "# Collect results\n",
    "train_loss = model.history.history[\"loss\"]\n",
    "valid_loss = model.history.history[\"val_loss\"]\n",
    "train_acc = model.history.history[\"acc\"]\n",
    "valid_acc = model.history.history[\"val_acc\"]"
   ]
  },
  {
   "cell_type": "code",
   "execution_count": 16,
   "metadata": {},
   "outputs": [
    {
     "data": {
      "image/png": "[encoded data removed]",
      "text/plain": [
       "<Figure size 432x288 with 1 Axes>"
      ]
     },
     "metadata": {
      "needs_background": "light"
     },
     "output_type": "display_data"
    },
    {
     "data": {
      "image/png": "[encoded data removed]",
      "text/plain": [
       "<Figure size 432x288 with 1 Axes>"
      ]
     },
     "metadata": {
      "needs_background": "light"
     },
     "output_type": "display_data"
    }
   ],
   "source": [
    "import matplotlib.pyplot as plt\n",
    "%matplotlib inline\n",
    "\n",
    "plt.plot(range(len(train_loss)), train_loss, label=\"train loss\")\n",
    "plt.plot(range(len(valid_loss)), valid_loss, label=\"valid loss\")\n",
    "plt.legend()\n",
    "plt.title(\"Loss\")\n",
    "plt.show()\n",
    "\n",
    "plt.plot(range(len(train_acc)), train_acc, label=\"train accuracy\")\n",
    "plt.plot(range(len(valid_acc)), valid_acc, label=\"valid accuracy\")\n",
    "plt.legend()\n",
    "plt.title(\"Accuracy\")\n",
    "plt.show()"
   ]
  },
  {
   "cell_type": "code",
   "execution_count": null,
   "metadata": {},
   "outputs": [],
   "source": []
  }
 ],
 "metadata": {
  "kernelspec": {
   "display_name": "Python 3",
   "language": "python",
   "name": "python3"
  },
  "language_info": {
   "codemirror_mode": {
    "name": "ipython",
    "version": 3
   },
   "file_extension": ".py",
   "mimetype": "text/x-python",
   "name": "python",
   "nbconvert_exporter": "python",
   "pygments_lexer": "ipython3",
   "version": "3.7.3"
  }
 },
 "nbformat": 4,
 "nbformat_minor": 2
}
