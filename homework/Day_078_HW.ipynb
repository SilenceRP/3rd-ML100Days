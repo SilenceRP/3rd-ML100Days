{
 "cells": [
  {
   "cell_type": "markdown",
   "metadata": {},
   "source": [
    "## Work\n",
    "1. 請嘗試將 preproc_x 替換成以每筆資料的 min/max 進行標準化至 -1 ~ 1 間，再進行訓練\n",
    "2. 請嘗試將 mlp 疊更深 (e.g 5~10 層)，進行訓練後觀察 learning curve 的走勢\n",
    "3. (optional) 請改用 GPU 進行訓練 (如果你有 GPU 的話)，比較使用 CPU 與 GPU 的訓練速度"
   ]
  },
  {
   "cell_type": "code",
   "execution_count": 1,
   "metadata": {},
   "outputs": [
    {
     "name": "stderr",
     "output_type": "stream",
     "text": [
      "'nvidia-smi' 不是內部或外部命令、可執行的程式或批次檔。\n"
     ]
    }
   ],
   "source": [
    "## \n",
    "\"\"\"\n",
    "Your code here (optional)\n",
    "確認硬體資源\n",
    "\"\"\"\n",
    "!nvidia-smi"
   ]
  },
  {
   "cell_type": "code",
   "execution_count": 2,
   "metadata": {},
   "outputs": [
    {
     "name": "stderr",
     "output_type": "stream",
     "text": [
      "Using TensorFlow backend.\n"
     ]
    }
   ],
   "source": [
    "import os\n",
    "import keras\n",
    "\n",
    "# 請嘗試設定 GPU：os.environ\n",
    "os.environ[\"CUDA_VISIBLE_DEVICES\"] = \"\""
   ]
  },
  {
   "cell_type": "code",
   "execution_count": 3,
   "metadata": {},
   "outputs": [],
   "source": [
    "train, test = keras.datasets.cifar10.load_data()"
   ]
  },
  {
   "cell_type": "code",
   "execution_count": 4,
   "metadata": {},
   "outputs": [],
   "source": [
    "## 資料前處理\n",
    "\"\"\"\n",
    "Your code here\n",
    "\"\"\"\n",
    "## 資料前處理\n",
    "def preproc_x(x, flatten=True):\n",
    "    x = x / 255.\n",
    "    if flatten:\n",
    "        x = x.reshape((len(x), -1))\n",
    "    return x\n",
    "\n",
    "def preproc_y(y, num_classes=10):\n",
    "    if y.shape[-1] == 1:\n",
    "        y = keras.utils.to_categorical(y, num_classes)\n",
    "    return y  "
   ]
  },
  {
   "cell_type": "code",
   "execution_count": 5,
   "metadata": {},
   "outputs": [],
   "source": [
    "x_train, y_train = train\n",
    "x_test, y_test = test\n",
    "\n",
    "# Preproc the inputs\n",
    "x_train = preproc_x(x_train)\n",
    "x_test = preproc_x(x_test)\n",
    "\n",
    "# Preprc the outputs\n",
    "y_train = preproc_y(y_train)\n",
    "y_test = preproc_y(y_test)"
   ]
  },
  {
   "cell_type": "code",
   "execution_count": 9,
   "metadata": {},
   "outputs": [],
   "source": [
    "\"\"\"Code Here\n",
    "建立你的神經網路\n",
    "\"\"\"\n",
    "def build_mlp():\n",
    "   \n",
    "    input_layer = keras.layers.Input([x_train.shape[-1]])\n",
    "    x = keras.layers.Dense(units=128, activation=\"relu\")(input_layer)\n",
    "    x = keras.layers.Dense(units=64, activation=\"relu\")(x)\n",
    "    x = keras.layers.Dense(units=32, activation=\"relu\")(x)\n",
    "    x = keras.layers.Dense(units=16, activation=\"relu\")(x)\n",
    "    x = keras.layers.Dense(units=8, activation=\"relu\")(x)\n",
    "    out = keras.layers.Dense(units=10, activation=\"softmax\")(x)\n",
    "    model = keras.models.Model(inputs=[input_layer], outputs=[out])\n",
    "    return model\n",
    "model = build_mlp()"
   ]
  },
  {
   "cell_type": "code",
   "execution_count": 10,
   "metadata": {},
   "outputs": [],
   "source": [
    "## 超參數設定\n",
    "LEARNING_RATE = 0.001\n",
    "EPOCHS = 100\n",
    "BATCH_SIZE = 256"
   ]
  },
  {
   "cell_type": "code",
   "execution_count": 11,
   "metadata": {},
   "outputs": [],
   "source": [
    "optimizer = keras.optimizers.Adam(lr=LEARNING_RATE)\n",
    "model.compile(loss=\"categorical_crossentropy\", metrics=[\"accuracy\"], optimizer=optimizer)"
   ]
  },
  {
   "cell_type": "code",
   "execution_count": 14,
   "metadata": {},
   "outputs": [
    {
     "name": "stdout",
     "output_type": "stream",
     "text": [
      "WARNING:tensorflow:From C:\\Anaconda3\\lib\\site-packages\\tensorflow\\python\\ops\\math_ops.py:3066: to_int32 (from tensorflow.python.ops.math_ops) is deprecated and will be removed in a future version.\n",
      "Instructions for updating:\n",
      "Use tf.cast instead.\n",
      "Train on 50000 samples, validate on 10000 samples\n",
      "Epoch 1/100\n",
      "50000/50000 [==============================] - 5s 106us/step - loss: 2.1742 - acc: 0.1726 - val_loss: 2.0351 - val_acc: 0.2311\n",
      "Epoch 2/100\n",
      "50000/50000 [==============================] - 5s 90us/step - loss: 1.9708 - acc: 0.2585 - val_loss: 1.9180 - val_acc: 0.2659\n",
      "Epoch 3/100\n",
      "50000/50000 [==============================] - 5s 95us/step - loss: 1.8962 - acc: 0.2843 - val_loss: 1.8748 - val_acc: 0.2856\n",
      "Epoch 4/100\n",
      "50000/50000 [==============================] - 5s 91us/step - loss: 1.8329 - acc: 0.3106 - val_loss: 1.8117 - val_acc: 0.3159\n",
      "Epoch 5/100\n",
      "50000/50000 [==============================] - 5s 93us/step - loss: 1.7893 - acc: 0.3276 - val_loss: 1.7785 - val_acc: 0.3313\n",
      "Epoch 6/100\n",
      "50000/50000 [==============================] - 5s 94us/step - loss: 1.7468 - acc: 0.3437 - val_loss: 1.7360 - val_acc: 0.3437\n",
      "Epoch 7/100\n",
      "50000/50000 [==============================] - 5s 95us/step - loss: 1.7121 - acc: 0.3666 - val_loss: 1.6996 - val_acc: 0.3703\n",
      "Epoch 8/100\n",
      "50000/50000 [==============================] - 5s 94us/step - loss: 1.6741 - acc: 0.3839 - val_loss: 1.6475 - val_acc: 0.3974\n",
      "Epoch 9/100\n",
      "50000/50000 [==============================] - 5s 94us/step - loss: 1.6404 - acc: 0.4003 - val_loss: 1.6640 - val_acc: 0.3953\n",
      "Epoch 10/100\n",
      "50000/50000 [==============================] - 5s 94us/step - loss: 1.6123 - acc: 0.4119 - val_loss: 1.6163 - val_acc: 0.4013\n",
      "Epoch 11/100\n",
      "50000/50000 [==============================] - 5s 95us/step - loss: 1.5764 - acc: 0.4278 - val_loss: 1.5790 - val_acc: 0.4296\n",
      "Epoch 12/100\n",
      "50000/50000 [==============================] - 5s 96us/step - loss: 1.5573 - acc: 0.4374 - val_loss: 1.5730 - val_acc: 0.4313\n",
      "Epoch 13/100\n",
      "50000/50000 [==============================] - 5s 95us/step - loss: 1.5408 - acc: 0.4428 - val_loss: 1.6320 - val_acc: 0.4014\n",
      "Epoch 14/100\n",
      "50000/50000 [==============================] - 5s 96us/step - loss: 1.5361 - acc: 0.4444 - val_loss: 1.5998 - val_acc: 0.4220\n",
      "Epoch 15/100\n",
      "50000/50000 [==============================] - 5s 96us/step - loss: 1.5109 - acc: 0.4548 - val_loss: 1.5612 - val_acc: 0.4422\n",
      "Epoch 16/100\n",
      "50000/50000 [==============================] - 5s 96us/step - loss: 1.4968 - acc: 0.4616 - val_loss: 1.5338 - val_acc: 0.4521\n",
      "Epoch 17/100\n",
      "50000/50000 [==============================] - 5s 97us/step - loss: 1.4821 - acc: 0.4674 - val_loss: 1.5396 - val_acc: 0.4526\n",
      "Epoch 18/100\n",
      "50000/50000 [==============================] - 5s 97us/step - loss: 1.4707 - acc: 0.4693 - val_loss: 1.5193 - val_acc: 0.4554\n",
      "Epoch 19/100\n",
      "50000/50000 [==============================] - 5s 96us/step - loss: 1.4621 - acc: 0.4740 - val_loss: 1.5225 - val_acc: 0.4551\n",
      "Epoch 20/100\n",
      "50000/50000 [==============================] - 5s 96us/step - loss: 1.4469 - acc: 0.4790 - val_loss: 1.5168 - val_acc: 0.4580\n",
      "Epoch 21/100\n",
      "50000/50000 [==============================] - 5s 97us/step - loss: 1.4546 - acc: 0.4768 - val_loss: 1.5241 - val_acc: 0.4548\n",
      "Epoch 22/100\n",
      "50000/50000 [==============================] - 5s 96us/step - loss: 1.4358 - acc: 0.4836 - val_loss: 1.4872 - val_acc: 0.4710\n",
      "Epoch 23/100\n",
      "50000/50000 [==============================] - 5s 96us/step - loss: 1.4222 - acc: 0.4876 - val_loss: 1.5055 - val_acc: 0.4603\n",
      "Epoch 24/100\n",
      "50000/50000 [==============================] - 5s 98us/step - loss: 1.4117 - acc: 0.4907 - val_loss: 1.5462 - val_acc: 0.4540\n",
      "Epoch 25/100\n",
      "50000/50000 [==============================] - 5s 97us/step - loss: 1.4139 - acc: 0.4910 - val_loss: 1.5286 - val_acc: 0.4575\n",
      "Epoch 26/100\n",
      "50000/50000 [==============================] - 5s 97us/step - loss: 1.4026 - acc: 0.4972 - val_loss: 1.4806 - val_acc: 0.4685\n",
      "Epoch 27/100\n",
      "50000/50000 [==============================] - 5s 97us/step - loss: 1.3925 - acc: 0.4978 - val_loss: 1.5010 - val_acc: 0.4672\n",
      "Epoch 28/100\n",
      "50000/50000 [==============================] - 5s 97us/step - loss: 1.3844 - acc: 0.5009 - val_loss: 1.5194 - val_acc: 0.4608\n",
      "Epoch 29/100\n",
      "50000/50000 [==============================] - 5s 97us/step - loss: 1.3725 - acc: 0.5058 - val_loss: 1.4994 - val_acc: 0.4712\n",
      "Epoch 30/100\n",
      "50000/50000 [==============================] - 5s 97us/step - loss: 1.3740 - acc: 0.5058 - val_loss: 1.4764 - val_acc: 0.4773\n",
      "Epoch 31/100\n",
      "50000/50000 [==============================] - 5s 97us/step - loss: 1.3719 - acc: 0.5048 - val_loss: 1.4635 - val_acc: 0.4808\n",
      "Epoch 32/100\n",
      "50000/50000 [==============================] - 5s 98us/step - loss: 1.3617 - acc: 0.5121 - val_loss: 1.5280 - val_acc: 0.4616\n",
      "Epoch 33/100\n",
      "50000/50000 [==============================] - 5s 98us/step - loss: 1.3515 - acc: 0.5131 - val_loss: 1.4787 - val_acc: 0.4810\n",
      "Epoch 34/100\n",
      "50000/50000 [==============================] - 5s 98us/step - loss: 1.3429 - acc: 0.5165 - val_loss: 1.4582 - val_acc: 0.4843\n",
      "Epoch 35/100\n",
      "50000/50000 [==============================] - 5s 98us/step - loss: 1.3419 - acc: 0.5172 - val_loss: 1.4689 - val_acc: 0.4782\n",
      "Epoch 36/100\n",
      "50000/50000 [==============================] - 5s 98us/step - loss: 1.3412 - acc: 0.5169 - val_loss: 1.4786 - val_acc: 0.4790\n",
      "Epoch 37/100\n",
      "50000/50000 [==============================] - 5s 97us/step - loss: 1.3243 - acc: 0.5238 - val_loss: 1.4942 - val_acc: 0.4757\n",
      "Epoch 38/100\n",
      "50000/50000 [==============================] - 5s 98us/step - loss: 1.3287 - acc: 0.5202 - val_loss: 1.4857 - val_acc: 0.4776\n",
      "Epoch 39/100\n",
      "50000/50000 [==============================] - 5s 97us/step - loss: 1.3210 - acc: 0.5233 - val_loss: 1.4683 - val_acc: 0.4780\n",
      "Epoch 40/100\n",
      "50000/50000 [==============================] - 5s 98us/step - loss: 1.3127 - acc: 0.5274 - val_loss: 1.4578 - val_acc: 0.4839\n",
      "Epoch 41/100\n",
      "50000/50000 [==============================] - 5s 97us/step - loss: 1.3035 - acc: 0.5282 - val_loss: 1.4888 - val_acc: 0.4780\n",
      "Epoch 42/100\n",
      "50000/50000 [==============================] - 5s 98us/step - loss: 1.3052 - acc: 0.5295 - val_loss: 1.4820 - val_acc: 0.4756\n",
      "Epoch 43/100\n",
      "50000/50000 [==============================] - 5s 98us/step - loss: 1.2978 - acc: 0.5328 - val_loss: 1.4778 - val_acc: 0.4800\n",
      "Epoch 44/100\n",
      "50000/50000 [==============================] - 5s 98us/step - loss: 1.2947 - acc: 0.5311 - val_loss: 1.4639 - val_acc: 0.4861\n",
      "Epoch 45/100\n",
      "50000/50000 [==============================] - 5s 98us/step - loss: 1.2931 - acc: 0.5323 - val_loss: 1.4696 - val_acc: 0.4848\n",
      "Epoch 46/100\n",
      "50000/50000 [==============================] - 5s 98us/step - loss: 1.2834 - acc: 0.5360 - val_loss: 1.4848 - val_acc: 0.4800\n",
      "Epoch 47/100\n",
      "50000/50000 [==============================] - 5s 98us/step - loss: 1.2774 - acc: 0.5391 - val_loss: 1.4788 - val_acc: 0.4850\n",
      "Epoch 48/100\n",
      "50000/50000 [==============================] - 5s 98us/step - loss: 1.2716 - acc: 0.5405 - val_loss: 1.5103 - val_acc: 0.4728\n",
      "Epoch 49/100\n",
      "50000/50000 [==============================] - 5s 101us/step - loss: 1.2768 - acc: 0.5382 - val_loss: 1.4656 - val_acc: 0.4849\n",
      "Epoch 50/100\n",
      "50000/50000 [==============================] - 5s 99us/step - loss: 1.2669 - acc: 0.5418 - val_loss: 1.4803 - val_acc: 0.4812\n",
      "Epoch 51/100\n",
      "50000/50000 [==============================] - 5s 98us/step - loss: 1.2608 - acc: 0.5453 - val_loss: 1.4740 - val_acc: 0.4808\n",
      "Epoch 52/100\n",
      "50000/50000 [==============================] - 5s 99us/step - loss: 1.2588 - acc: 0.5436 - val_loss: 1.4648 - val_acc: 0.4911\n",
      "Epoch 53/100\n",
      "50000/50000 [==============================] - 5s 98us/step - loss: 1.2547 - acc: 0.5443 - val_loss: 1.4819 - val_acc: 0.4848\n",
      "Epoch 54/100\n",
      "50000/50000 [==============================] - 5s 99us/step - loss: 1.2525 - acc: 0.5477 - val_loss: 1.4863 - val_acc: 0.4868\n",
      "Epoch 55/100\n",
      "50000/50000 [==============================] - 5s 99us/step - loss: 1.2458 - acc: 0.5500 - val_loss: 1.5135 - val_acc: 0.4741\n",
      "Epoch 56/100\n",
      "50000/50000 [==============================] - 5s 99us/step - loss: 1.2322 - acc: 0.5547 - val_loss: 1.4664 - val_acc: 0.4861\n",
      "Epoch 57/100\n",
      "50000/50000 [==============================] - 5s 99us/step - loss: 1.2356 - acc: 0.5515 - val_loss: 1.4775 - val_acc: 0.4804\n"
     ]
    },
    {
     "name": "stdout",
     "output_type": "stream",
     "text": [
      "Epoch 58/100\n",
      "50000/50000 [==============================] - 5s 97us/step - loss: 1.2399 - acc: 0.5516 - val_loss: 1.4634 - val_acc: 0.4914\n",
      "Epoch 59/100\n",
      "50000/50000 [==============================] - 5s 97us/step - loss: 1.2271 - acc: 0.5563 - val_loss: 1.5049 - val_acc: 0.4788\n",
      "Epoch 60/100\n",
      "50000/50000 [==============================] - 5s 97us/step - loss: 1.2257 - acc: 0.5568 - val_loss: 1.4867 - val_acc: 0.4849\n",
      "Epoch 61/100\n",
      "50000/50000 [==============================] - 5s 98us/step - loss: 1.2204 - acc: 0.5585 - val_loss: 1.5036 - val_acc: 0.4791\n",
      "Epoch 62/100\n",
      "50000/50000 [==============================] - 5s 98us/step - loss: 1.2150 - acc: 0.5585 - val_loss: 1.5256 - val_acc: 0.4713\n",
      "Epoch 63/100\n",
      "50000/50000 [==============================] - 5s 98us/step - loss: 1.2081 - acc: 0.5622 - val_loss: 1.4924 - val_acc: 0.4811\n",
      "Epoch 64/100\n",
      "50000/50000 [==============================] - 5s 98us/step - loss: 1.2047 - acc: 0.5620 - val_loss: 1.5095 - val_acc: 0.4805\n",
      "Epoch 65/100\n",
      "50000/50000 [==============================] - 5s 97us/step - loss: 1.2081 - acc: 0.5605 - val_loss: 1.4951 - val_acc: 0.4874\n",
      "Epoch 66/100\n",
      "50000/50000 [==============================] - 5s 97us/step - loss: 1.2064 - acc: 0.5621 - val_loss: 1.4937 - val_acc: 0.4784\n",
      "Epoch 67/100\n",
      "50000/50000 [==============================] - 5s 98us/step - loss: 1.2002 - acc: 0.5635 - val_loss: 1.4967 - val_acc: 0.4807\n",
      "Epoch 68/100\n",
      "50000/50000 [==============================] - 5s 97us/step - loss: 1.1944 - acc: 0.5673 - val_loss: 1.4785 - val_acc: 0.4909\n",
      "Epoch 69/100\n",
      "50000/50000 [==============================] - 5s 98us/step - loss: 1.1926 - acc: 0.5681 - val_loss: 1.5381 - val_acc: 0.4683\n",
      "Epoch 70/100\n",
      "50000/50000 [==============================] - 5s 98us/step - loss: 1.1903 - acc: 0.5698 - val_loss: 1.5005 - val_acc: 0.4900\n",
      "Epoch 71/100\n",
      "50000/50000 [==============================] - 5s 100us/step - loss: 1.1809 - acc: 0.5727 - val_loss: 1.5098 - val_acc: 0.4851\n",
      "Epoch 72/100\n",
      "50000/50000 [==============================] - 5s 101us/step - loss: 1.1817 - acc: 0.5723 - val_loss: 1.5311 - val_acc: 0.4756\n",
      "Epoch 73/100\n",
      "50000/50000 [==============================] - 5s 107us/step - loss: 1.1817 - acc: 0.5723 - val_loss: 1.5206 - val_acc: 0.4732\n",
      "Epoch 74/100\n",
      "50000/50000 [==============================] - 5s 100us/step - loss: 1.1802 - acc: 0.5703 - val_loss: 1.5167 - val_acc: 0.4763\n",
      "Epoch 75/100\n",
      "50000/50000 [==============================] - 5s 99us/step - loss: 1.1646 - acc: 0.5789 - val_loss: 1.4984 - val_acc: 0.4866\n",
      "Epoch 76/100\n",
      "50000/50000 [==============================] - 5s 99us/step - loss: 1.1710 - acc: 0.5730 - val_loss: 1.5193 - val_acc: 0.4852\n",
      "Epoch 77/100\n",
      "50000/50000 [==============================] - 5s 98us/step - loss: 1.1757 - acc: 0.5732 - val_loss: 1.5379 - val_acc: 0.4785\n",
      "Epoch 78/100\n",
      "50000/50000 [==============================] - 5s 99us/step - loss: 1.1670 - acc: 0.5780 - val_loss: 1.4995 - val_acc: 0.4823\n",
      "Epoch 79/100\n",
      "50000/50000 [==============================] - 5s 98us/step - loss: 1.1532 - acc: 0.5826 - val_loss: 1.5818 - val_acc: 0.4731\n",
      "Epoch 80/100\n",
      "50000/50000 [==============================] - 5s 99us/step - loss: 1.1668 - acc: 0.5773 - val_loss: 1.5295 - val_acc: 0.4792\n",
      "Epoch 81/100\n",
      "50000/50000 [==============================] - 5s 98us/step - loss: 1.1501 - acc: 0.5834 - val_loss: 1.5169 - val_acc: 0.4818\n",
      "Epoch 82/100\n",
      "50000/50000 [==============================] - 5s 100us/step - loss: 1.1738 - acc: 0.5726 - val_loss: 1.5338 - val_acc: 0.4729\n",
      "Epoch 83/100\n",
      "50000/50000 [==============================] - 5s 101us/step - loss: 1.1485 - acc: 0.5837 - val_loss: 1.5216 - val_acc: 0.4831\n",
      "Epoch 84/100\n",
      "50000/50000 [==============================] - 5s 110us/step - loss: 1.1416 - acc: 0.5860 - val_loss: 1.5242 - val_acc: 0.4815\n",
      "Epoch 85/100\n",
      "50000/50000 [==============================] - 5s 99us/step - loss: 1.1440 - acc: 0.5845 - val_loss: 1.5292 - val_acc: 0.4800\n",
      "Epoch 86/100\n",
      "50000/50000 [==============================] - 5s 98us/step - loss: 1.1376 - acc: 0.5859 - val_loss: 1.5552 - val_acc: 0.4821\n",
      "Epoch 87/100\n",
      "50000/50000 [==============================] - 5s 98us/step - loss: 1.1299 - acc: 0.5884 - val_loss: 1.5409 - val_acc: 0.4773\n",
      "Epoch 88/100\n",
      "50000/50000 [==============================] - 5s 99us/step - loss: 1.1348 - acc: 0.5874 - val_loss: 1.5359 - val_acc: 0.4835\n",
      "Epoch 89/100\n",
      "50000/50000 [==============================] - 5s 101us/step - loss: 1.1390 - acc: 0.5878 - val_loss: 1.5318 - val_acc: 0.4819\n",
      "Epoch 90/100\n",
      "50000/50000 [==============================] - 5s 99us/step - loss: 1.1406 - acc: 0.5854 - val_loss: 1.5602 - val_acc: 0.4760\n",
      "Epoch 91/100\n",
      "50000/50000 [==============================] - 5s 99us/step - loss: 1.1243 - acc: 0.5916 - val_loss: 1.5211 - val_acc: 0.4812\n",
      "Epoch 92/100\n",
      "50000/50000 [==============================] - 5s 99us/step - loss: 1.1205 - acc: 0.5927 - val_loss: 1.5401 - val_acc: 0.4850\n",
      "Epoch 93/100\n",
      "50000/50000 [==============================] - 5s 99us/step - loss: 1.1282 - acc: 0.5900 - val_loss: 1.5337 - val_acc: 0.4832\n",
      "Epoch 94/100\n",
      "50000/50000 [==============================] - 5s 99us/step - loss: 1.1198 - acc: 0.5924 - val_loss: 1.5528 - val_acc: 0.4808\n",
      "Epoch 95/100\n",
      "50000/50000 [==============================] - 5s 99us/step - loss: 1.1165 - acc: 0.5945 - val_loss: 1.5359 - val_acc: 0.4820\n",
      "Epoch 96/100\n",
      "50000/50000 [==============================] - 5s 98us/step - loss: 1.1198 - acc: 0.5929 - val_loss: 1.5419 - val_acc: 0.4814\n",
      "Epoch 97/100\n",
      "50000/50000 [==============================] - 5s 100us/step - loss: 1.1168 - acc: 0.5937 - val_loss: 1.5615 - val_acc: 0.4829\n",
      "Epoch 98/100\n",
      "50000/50000 [==============================] - 5s 99us/step - loss: 1.1078 - acc: 0.5957 - val_loss: 1.5344 - val_acc: 0.4853\n",
      "Epoch 99/100\n",
      "50000/50000 [==============================] - 5s 99us/step - loss: 1.1093 - acc: 0.5962 - val_loss: 1.5686 - val_acc: 0.4791\n",
      "Epoch 100/100\n",
      "50000/50000 [==============================] - 5s 99us/step - loss: 1.1091 - acc: 0.5982 - val_loss: 1.5765 - val_acc: 0.4726\n"
     ]
    },
    {
     "data": {
      "text/plain": [
       "<keras.callbacks.History at 0x25d3d1896d8>"
      ]
     },
     "execution_count": 14,
     "metadata": {},
     "output_type": "execute_result"
    }
   ],
   "source": [
    "model.fit(x_train, y_train, \n",
    "          epochs=EPOCHS, \n",
    "          batch_size=BATCH_SIZE, \n",
    "          validation_data=(x_test, y_test), \n",
    "          shuffle=True)"
   ]
  },
  {
   "cell_type": "code",
   "execution_count": 15,
   "metadata": {},
   "outputs": [
    {
     "data": {
      "image/png": "[encoded data removed]",
      "text/plain": [
       "<Figure size 432x288 with 1 Axes>"
      ]
     },
     "metadata": {
      "needs_background": "light"
     },
     "output_type": "display_data"
    },
    {
     "data": {
      "image/png": "[encoded data removed]",
      "text/plain": [
       "<Figure size 432x288 with 1 Axes>"
      ]
     },
     "metadata": {
      "needs_background": "light"
     },
     "output_type": "display_data"
    }
   ],
   "source": [
    "import matplotlib.pyplot as plt\n",
    "\n",
    "\n",
    "train_loss = model.history.history[\"loss\"]\n",
    "valid_loss = model.history.history[\"val_loss\"]\n",
    "\n",
    "train_acc = model.history.history[\"acc\"]\n",
    "valid_acc = model.history.history[\"val_acc\"]\n",
    "\n",
    "plt.plot(range(len(train_loss)), train_loss, label=\"train loss\")\n",
    "plt.plot(range(len(valid_loss)), valid_loss, label=\"valid loss\")\n",
    "plt.legend()\n",
    "plt.title(\"Loss\")\n",
    "plt.show()\n",
    "\n",
    "plt.plot(range(len(train_acc)), train_acc, label=\"train accuracy\")\n",
    "plt.plot(range(len(valid_acc)), valid_acc, label=\"valid accuracy\")\n",
    "plt.legend()\n",
    "plt.title(\"Accuracy\")\n",
    "plt.show()"
   ]
  },
  {
   "cell_type": "code",
   "execution_count": null,
   "metadata": {},
   "outputs": [],
   "source": []
  }
 ],
 "metadata": {
  "kernelspec": {
   "display_name": "Python 3",
   "language": "python",
   "name": "python3"
  },
  "language_info": {
   "codemirror_mode": {
    "name": "ipython",
    "version": 3
   },
   "file_extension": ".py",
   "mimetype": "text/x-python",
   "name": "python",
   "nbconvert_exporter": "python",
   "pygments_lexer": "ipython3",
   "version": "3.7.3"
  }
 },
 "nbformat": 4,
 "nbformat_minor": 2
}
