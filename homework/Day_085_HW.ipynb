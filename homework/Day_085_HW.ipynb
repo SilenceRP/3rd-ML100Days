{
 "cells": [
  {
   "cell_type": "markdown",
   "metadata": {},
   "source": [
    "## Work\n",
    "1. 試改變 monitor \"Validation Accuracy\" 並比較結果\n",
    "2. 調整 earlystop 的等待次數至 10, 25 並比較結果"
   ]
  },
  {
   "cell_type": "code",
   "execution_count": 1,
   "metadata": {},
   "outputs": [
    {
     "name": "stderr",
     "output_type": "stream",
     "text": [
      "Using TensorFlow backend.\n"
     ]
    }
   ],
   "source": [
    "import os\n",
    "import keras\n",
    "import matplotlib.pyplot as plt\n",
    "%matplotlib inline\n",
    "\n",
    "\n",
    "# Disable GPU\n",
    "os.environ[\"CUDA_VISIBLE_DEVICES\"] = \"\""
   ]
  },
  {
   "cell_type": "code",
   "execution_count": 2,
   "metadata": {},
   "outputs": [],
   "source": [
    "train, test = keras.datasets.cifar10.load_data()"
   ]
  },
  {
   "cell_type": "code",
   "execution_count": 3,
   "metadata": {},
   "outputs": [],
   "source": [
    "## 資料前處理\n",
    "def preproc_x(x, flatten=True):\n",
    "    x = x / 255.\n",
    "    if flatten:\n",
    "        x = x.reshape((len(x), -1))\n",
    "    return x\n",
    "\n",
    "def preproc_y(y, num_classes=10):\n",
    "    if y.shape[-1] == 1:\n",
    "        y = keras.utils.to_categorical(y, num_classes)\n",
    "    return y    "
   ]
  },
  {
   "cell_type": "code",
   "execution_count": 4,
   "metadata": {},
   "outputs": [],
   "source": [
    "x_train, y_train = train\n",
    "x_test, y_test = test\n",
    "\n",
    "# Preproc the inputs\n",
    "x_train = preproc_x(x_train)\n",
    "x_test = preproc_x(x_test)\n",
    "\n",
    "# Preprc the outputs\n",
    "y_train = preproc_y(y_train)\n",
    "y_test = preproc_y(y_test)"
   ]
  },
  {
   "cell_type": "code",
   "execution_count": 8,
   "metadata": {},
   "outputs": [],
   "source": [
    "from keras.layers import BatchNormalization\n",
    "\n",
    "\"\"\"\n",
    "建立神經網路，並加入 BN layer\n",
    "\"\"\"\n",
    "def build_mlp(input_shape, output_units=10, num_neurons=[512, 256, 128]):\n",
    "    input_layer = keras.layers.Input(input_shape)\n",
    "    \n",
    "    for i, n_units in enumerate(num_neurons):\n",
    "        if i == 0:\n",
    "            x = keras.layers.Dense(units=n_units, \n",
    "                                   activation=\"relu\", \n",
    "                                   name=\"hidden_layer\"+str(i+1))(input_layer)\n",
    "            x = BatchNormalization()(x)\n",
    "        else:\n",
    "            x = keras.layers.Dense(units=n_units, \n",
    "                                   activation=\"relu\", \n",
    "                                   name=\"hidden_layer\"+str(i+1))(x)\n",
    "            x = BatchNormalization()(x)\n",
    "    \n",
    "    out = keras.layers.Dense(units=output_units, activation=\"softmax\", name=\"output\")(x)\n",
    "    \n",
    "    model = keras.models.Model(inputs=[input_layer], outputs=[out])\n",
    "    return model"
   ]
  },
  {
   "cell_type": "code",
   "execution_count": 9,
   "metadata": {},
   "outputs": [],
   "source": [
    "## 超參數設定\n",
    "LEARNING_RATE = 1e-3\n",
    "EPOCHS = 25\n",
    "BATCH_SIZE = 1024\n",
    "MOMENTUM = 0.95"
   ]
  },
  {
   "cell_type": "code",
   "execution_count": 10,
   "metadata": {},
   "outputs": [],
   "source": [
    "\"\"\"\n",
    "# 載入 Callbacks, 並將 monitor 設定為監控 validation accuracy\n",
    "\"\"\"\n",
    "from keras.callbacks import EarlyStopping\n",
    "\n",
    "earlystop = EarlyStopping(monitor=\"val_acc\", \n",
    "                          patience=5, \n",
    "                          verbose=1)"
   ]
  },
  {
   "cell_type": "code",
   "execution_count": 11,
   "metadata": {},
   "outputs": [
    {
     "name": "stdout",
     "output_type": "stream",
     "text": [
      "WARNING:tensorflow:From C:\\Anaconda3\\lib\\site-packages\\tensorflow\\python\\framework\\op_def_library.py:263: colocate_with (from tensorflow.python.framework.ops) is deprecated and will be removed in a future version.\n",
      "Instructions for updating:\n",
      "Colocations handled automatically by placer.\n",
      "_________________________________________________________________\n",
      "Layer (type)                 Output Shape              Param #   \n",
      "=================================================================\n",
      "input_1 (InputLayer)         (None, 3072)              0         \n",
      "_________________________________________________________________\n",
      "hidden_layer1 (Dense)        (None, 512)               1573376   \n",
      "_________________________________________________________________\n",
      "batch_normalization_1 (Batch (None, 512)               2048      \n",
      "_________________________________________________________________\n",
      "hidden_layer2 (Dense)        (None, 256)               131328    \n",
      "_________________________________________________________________\n",
      "batch_normalization_2 (Batch (None, 256)               1024      \n",
      "_________________________________________________________________\n",
      "hidden_layer3 (Dense)        (None, 128)               32896     \n",
      "_________________________________________________________________\n",
      "batch_normalization_3 (Batch (None, 128)               512       \n",
      "_________________________________________________________________\n",
      "output (Dense)               (None, 10)                1290      \n",
      "=================================================================\n",
      "Total params: 1,742,474\n",
      "Trainable params: 1,740,682\n",
      "Non-trainable params: 1,792\n",
      "_________________________________________________________________\n",
      "WARNING:tensorflow:From C:\\Anaconda3\\lib\\site-packages\\tensorflow\\python\\ops\\math_ops.py:3066: to_int32 (from tensorflow.python.ops.math_ops) is deprecated and will be removed in a future version.\n",
      "Instructions for updating:\n",
      "Use tf.cast instead.\n",
      "Train on 50000 samples, validate on 10000 samples\n",
      "Epoch 1/25\n",
      "50000/50000 [==============================] - 9s 177us/step - loss: 2.2067 - acc: 0.2711 - val_loss: 2.1225 - val_acc: 0.3284\n",
      "Epoch 2/25\n",
      "50000/50000 [==============================] - 7s 143us/step - loss: 1.7391 - acc: 0.3958 - val_loss: 1.8078 - val_acc: 0.3870\n",
      "Epoch 3/25\n",
      "50000/50000 [==============================] - 9s 189us/step - loss: 1.6167 - acc: 0.4361 - val_loss: 1.6986 - val_acc: 0.4109\n",
      "Epoch 4/25\n",
      "50000/50000 [==============================] - 10s 195us/step - loss: 1.5457 - acc: 0.4599 - val_loss: 1.6331 - val_acc: 0.4319\n",
      "Epoch 5/25\n",
      "50000/50000 [==============================] - 10s 190us/step - loss: 1.4906 - acc: 0.4789 - val_loss: 1.6007 - val_acc: 0.4385\n",
      "Epoch 6/25\n",
      "50000/50000 [==============================] - 9s 181us/step - loss: 1.4466 - acc: 0.4958 - val_loss: 1.5768 - val_acc: 0.4468\n",
      "Epoch 7/25\n",
      "50000/50000 [==============================] - 9s 187us/step - loss: 1.4063 - acc: 0.5100 - val_loss: 1.5547 - val_acc: 0.4575\n",
      "Epoch 8/25\n",
      "50000/50000 [==============================] - 9s 178us/step - loss: 1.3704 - acc: 0.5230 - val_loss: 1.5321 - val_acc: 0.4621\n",
      "Epoch 9/25\n",
      "50000/50000 [==============================] - 9s 176us/step - loss: 1.3391 - acc: 0.5329 - val_loss: 1.5153 - val_acc: 0.4681\n",
      "Epoch 10/25\n",
      "50000/50000 [==============================] - 9s 188us/step - loss: 1.3082 - acc: 0.5438 - val_loss: 1.5293 - val_acc: 0.4646\n",
      "Epoch 11/25\n",
      "50000/50000 [==============================] - 10s 193us/step - loss: 1.2808 - acc: 0.5565 - val_loss: 1.4953 - val_acc: 0.4741\n",
      "Epoch 12/25\n",
      "50000/50000 [==============================] - 9s 177us/step - loss: 1.2546 - acc: 0.5649 - val_loss: 1.4872 - val_acc: 0.4792\n",
      "Epoch 13/25\n",
      "50000/50000 [==============================] - 10s 194us/step - loss: 1.2274 - acc: 0.5754 - val_loss: 1.4882 - val_acc: 0.4798\n",
      "Epoch 14/25\n",
      "50000/50000 [==============================] - 10s 202us/step - loss: 1.2034 - acc: 0.5843 - val_loss: 1.4716 - val_acc: 0.4880\n",
      "Epoch 15/25\n",
      "50000/50000 [==============================] - 9s 177us/step - loss: 1.1814 - acc: 0.5915 - val_loss: 1.4816 - val_acc: 0.4850\n",
      "Epoch 16/25\n",
      "50000/50000 [==============================] - 9s 177us/step - loss: 1.1553 - acc: 0.6031 - val_loss: 1.4648 - val_acc: 0.4859\n",
      "Epoch 17/25\n",
      "50000/50000 [==============================] - 9s 179us/step - loss: 1.1323 - acc: 0.6092 - val_loss: 1.4654 - val_acc: 0.4885\n",
      "Epoch 18/25\n",
      "50000/50000 [==============================] - 9s 176us/step - loss: 1.1105 - acc: 0.6183 - val_loss: 1.4511 - val_acc: 0.4922\n",
      "Epoch 19/25\n",
      "50000/50000 [==============================] - 9s 185us/step - loss: 1.0889 - acc: 0.6268 - val_loss: 1.4521 - val_acc: 0.4920\n",
      "Epoch 20/25\n",
      "50000/50000 [==============================] - 9s 177us/step - loss: 1.0672 - acc: 0.6347 - val_loss: 1.4619 - val_acc: 0.4861\n",
      "Epoch 21/25\n",
      "50000/50000 [==============================] - 10s 194us/step - loss: 1.0441 - acc: 0.6425 - val_loss: 1.4484 - val_acc: 0.4955\n",
      "Epoch 22/25\n",
      "50000/50000 [==============================] - 10s 191us/step - loss: 1.0256 - acc: 0.6491 - val_loss: 1.4529 - val_acc: 0.4964\n",
      "Epoch 23/25\n",
      "50000/50000 [==============================] - 9s 183us/step - loss: 1.0026 - acc: 0.6589 - val_loss: 1.4541 - val_acc: 0.4924\n",
      "Epoch 24/25\n",
      "50000/50000 [==============================] - 9s 187us/step - loss: 0.9831 - acc: 0.6668 - val_loss: 1.4636 - val_acc: 0.4950\n",
      "Epoch 25/25\n",
      "50000/50000 [==============================] - 10s 197us/step - loss: 0.9615 - acc: 0.6750 - val_loss: 1.4650 - val_acc: 0.4876\n"
     ]
    }
   ],
   "source": [
    "model = build_mlp(input_shape=x_train.shape[1:])\n",
    "model.summary()\n",
    "optimizer = keras.optimizers.SGD(lr=LEARNING_RATE, nesterov=True, momentum=MOMENTUM)\n",
    "model.compile(loss=\"categorical_crossentropy\", metrics=[\"accuracy\"], optimizer=optimizer)\n",
    "\n",
    "model.fit(x_train, y_train, \n",
    "          epochs=EPOCHS, \n",
    "          batch_size=BATCH_SIZE, \n",
    "          validation_data=(x_test, y_test), \n",
    "          shuffle=True,\n",
    "          callbacks=[earlystop]\n",
    "         )\n",
    "\n",
    "# Collect results\n",
    "train_loss = model.history.history[\"loss\"]\n",
    "valid_loss = model.history.history[\"val_loss\"]\n",
    "train_acc = model.history.history[\"acc\"]\n",
    "valid_acc = model.history.history[\"val_acc\"]"
   ]
  },
  {
   "cell_type": "code",
   "execution_count": 12,
   "metadata": {},
   "outputs": [
    {
     "data": {
      "image/png": "[encoded data removed]",
      "text/plain": [
       "<Figure size 432x288 with 1 Axes>"
      ]
     },
     "metadata": {
      "needs_background": "light"
     },
     "output_type": "display_data"
    },
    {
     "data": {
      "image/png": "[encoded data removed]",
      "text/plain": [
       "<Figure size 432x288 with 1 Axes>"
      ]
     },
     "metadata": {
      "needs_background": "light"
     },
     "output_type": "display_data"
    }
   ],
   "source": [
    "import matplotlib.pyplot as plt\n",
    "%matplotlib inline\n",
    "\n",
    "plt.plot(range(len(train_loss)), train_loss, label=\"train loss\")\n",
    "plt.plot(range(len(valid_loss)), valid_loss, label=\"valid loss\")\n",
    "plt.legend()\n",
    "plt.title(\"Loss\")\n",
    "plt.show()\n",
    "\n",
    "plt.plot(range(len(train_acc)), train_acc, label=\"train accuracy\")\n",
    "plt.plot(range(len(valid_acc)), valid_acc, label=\"valid accuracy\")\n",
    "plt.legend()\n",
    "plt.title(\"Accuracy\")\n",
    "plt.show()"
   ]
  },
  {
   "cell_type": "code",
   "execution_count": null,
   "metadata": {},
   "outputs": [],
   "source": [
    "# 調整 earlystop 的等待次數至 10, 25 並比較結果"
   ]
  },
  {
   "cell_type": "code",
   "execution_count": 13,
   "metadata": {},
   "outputs": [],
   "source": [
    "from keras.layers import BatchNormalization\n",
    "\n",
    "\"\"\"\n",
    "建立神經網路，並加入 BN layer\n",
    "\"\"\"\n",
    "def build_mlp(input_shape, output_units=10, num_neurons=[512, 256, 128]):\n",
    "    input_layer = keras.layers.Input(input_shape)\n",
    "    \n",
    "    for i, n_units in enumerate(num_neurons):\n",
    "        if i == 0:\n",
    "            x = keras.layers.Dense(units=n_units, \n",
    "                                   activation=\"relu\", \n",
    "                                   name=\"hidden_layer\"+str(i+1))(input_layer)\n",
    "            x = BatchNormalization()(x)\n",
    "        else:\n",
    "            x = keras.layers.Dense(units=n_units, \n",
    "                                   activation=\"relu\", \n",
    "                                   name=\"hidden_layer\"+str(i+1))(x)\n",
    "            x = BatchNormalization()(x)\n",
    "    \n",
    "    out = keras.layers.Dense(units=output_units, activation=\"softmax\", name=\"output\")(x)\n",
    "    \n",
    "    model = keras.models.Model(inputs=[input_layer], outputs=[out])\n",
    "    return model"
   ]
  },
  {
   "cell_type": "code",
   "execution_count": 14,
   "metadata": {},
   "outputs": [],
   "source": [
    "## 超參數設定\n",
    "LEARNING_RATE = 1e-3\n",
    "EPOCHS = 25\n",
    "BATCH_SIZE = 1024\n",
    "MOMENTUM = 0.95"
   ]
  },
  {
   "cell_type": "code",
   "execution_count": 15,
   "metadata": {},
   "outputs": [],
   "source": [
    "\"\"\"\n",
    "# 載入 Callbacks, 並將 monitor 設定為監控 validation accuracy\n",
    "# 等待時間10\n",
    "\"\"\"\n",
    "from keras.callbacks import EarlyStopping\n",
    "\n",
    "earlystop = EarlyStopping(monitor=\"val_acc\", \n",
    "                          patience=10, \n",
    "                          verbose=1)"
   ]
  },
  {
   "cell_type": "code",
   "execution_count": 16,
   "metadata": {},
   "outputs": [
    {
     "name": "stdout",
     "output_type": "stream",
     "text": [
      "_________________________________________________________________\n",
      "Layer (type)                 Output Shape              Param #   \n",
      "=================================================================\n",
      "input_2 (InputLayer)         (None, 3072)              0         \n",
      "_________________________________________________________________\n",
      "hidden_layer1 (Dense)        (None, 512)               1573376   \n",
      "_________________________________________________________________\n",
      "batch_normalization_4 (Batch (None, 512)               2048      \n",
      "_________________________________________________________________\n",
      "hidden_layer2 (Dense)        (None, 256)               131328    \n",
      "_________________________________________________________________\n",
      "batch_normalization_5 (Batch (None, 256)               1024      \n",
      "_________________________________________________________________\n",
      "hidden_layer3 (Dense)        (None, 128)               32896     \n",
      "_________________________________________________________________\n",
      "batch_normalization_6 (Batch (None, 128)               512       \n",
      "_________________________________________________________________\n",
      "output (Dense)               (None, 10)                1290      \n",
      "=================================================================\n",
      "Total params: 1,742,474\n",
      "Trainable params: 1,740,682\n",
      "Non-trainable params: 1,792\n",
      "_________________________________________________________________\n",
      "Train on 50000 samples, validate on 10000 samples\n",
      "Epoch 1/25\n",
      "50000/50000 [==============================] - 9s 179us/step - loss: 2.2096 - acc: 0.2763 - val_loss: 2.1602 - val_acc: 0.3122\n",
      "Epoch 2/25\n",
      "50000/50000 [==============================] - 8s 169us/step - loss: 1.7386 - acc: 0.3946 - val_loss: 1.7684 - val_acc: 0.3980\n",
      "Epoch 3/25\n",
      "50000/50000 [==============================] - 10s 191us/step - loss: 1.6153 - acc: 0.4339 - val_loss: 1.6642 - val_acc: 0.4148\n",
      "Epoch 4/25\n",
      "50000/50000 [==============================] - 10s 204us/step - loss: 1.5418 - acc: 0.4602 - val_loss: 1.6166 - val_acc: 0.4307\n",
      "Epoch 5/25\n",
      "50000/50000 [==============================] - 10s 195us/step - loss: 1.4846 - acc: 0.4793 - val_loss: 1.5901 - val_acc: 0.4418\n",
      "Epoch 6/25\n",
      "50000/50000 [==============================] - 10s 195us/step - loss: 1.4396 - acc: 0.4969 - val_loss: 1.5702 - val_acc: 0.4453\n",
      "Epoch 7/25\n",
      "50000/50000 [==============================] - 9s 183us/step - loss: 1.3991 - acc: 0.5121 - val_loss: 1.5509 - val_acc: 0.4557\n",
      "Epoch 8/25\n",
      "50000/50000 [==============================] - 9s 180us/step - loss: 1.3638 - acc: 0.5244 - val_loss: 1.5230 - val_acc: 0.4637\n",
      "Epoch 9/25\n",
      "50000/50000 [==============================] - 9s 177us/step - loss: 1.3290 - acc: 0.5362 - val_loss: 1.5132 - val_acc: 0.4663\n",
      "Epoch 10/25\n",
      "50000/50000 [==============================] - 9s 176us/step - loss: 1.3004 - acc: 0.5469 - val_loss: 1.5029 - val_acc: 0.4704\n",
      "Epoch 11/25\n",
      "50000/50000 [==============================] - 9s 176us/step - loss: 1.2727 - acc: 0.5583 - val_loss: 1.4949 - val_acc: 0.4749\n",
      "Epoch 12/25\n",
      "50000/50000 [==============================] - 9s 176us/step - loss: 1.2463 - acc: 0.5671 - val_loss: 1.5052 - val_acc: 0.4759\n",
      "Epoch 13/25\n",
      "50000/50000 [==============================] - 9s 176us/step - loss: 1.2187 - acc: 0.5788 - val_loss: 1.4738 - val_acc: 0.4802\n",
      "Epoch 14/25\n",
      "50000/50000 [==============================] - 9s 178us/step - loss: 1.1956 - acc: 0.5855 - val_loss: 1.4712 - val_acc: 0.4770\n",
      "Epoch 15/25\n",
      "50000/50000 [==============================] - 9s 178us/step - loss: 1.1707 - acc: 0.5957 - val_loss: 1.4618 - val_acc: 0.4868\n",
      "Epoch 16/25\n",
      "50000/50000 [==============================] - 9s 179us/step - loss: 1.1478 - acc: 0.6053 - val_loss: 1.4648 - val_acc: 0.4804\n",
      "Epoch 17/25\n",
      "50000/50000 [==============================] - 9s 179us/step - loss: 1.1255 - acc: 0.6137 - val_loss: 1.4635 - val_acc: 0.4877\n",
      "Epoch 18/25\n",
      "50000/50000 [==============================] - 10s 194us/step - loss: 1.1048 - acc: 0.6225 - val_loss: 1.4723 - val_acc: 0.4867\n",
      "Epoch 19/25\n",
      "50000/50000 [==============================] - 9s 186us/step - loss: 1.0824 - acc: 0.6298 - val_loss: 1.4696 - val_acc: 0.4845\n",
      "Epoch 20/25\n",
      "50000/50000 [==============================] - 9s 178us/step - loss: 1.0611 - acc: 0.6390 - val_loss: 1.4503 - val_acc: 0.4912\n",
      "Epoch 21/25\n",
      "50000/50000 [==============================] - 9s 179us/step - loss: 1.0400 - acc: 0.6460 - val_loss: 1.4653 - val_acc: 0.4873\n",
      "Epoch 22/25\n",
      "50000/50000 [==============================] - 9s 180us/step - loss: 1.0205 - acc: 0.6558 - val_loss: 1.4556 - val_acc: 0.4938\n",
      "Epoch 23/25\n",
      "50000/50000 [==============================] - 9s 178us/step - loss: 0.9981 - acc: 0.6618 - val_loss: 1.4575 - val_acc: 0.4931\n",
      "Epoch 24/25\n",
      "50000/50000 [==============================] - 9s 176us/step - loss: 0.9782 - acc: 0.6705 - val_loss: 1.4652 - val_acc: 0.4922\n",
      "Epoch 25/25\n",
      "50000/50000 [==============================] - 9s 177us/step - loss: 0.9591 - acc: 0.6800 - val_loss: 1.4675 - val_acc: 0.4916\n"
     ]
    }
   ],
   "source": [
    "model = build_mlp(input_shape=x_train.shape[1:])\n",
    "model.summary()\n",
    "optimizer = keras.optimizers.SGD(lr=LEARNING_RATE, nesterov=True, momentum=MOMENTUM)\n",
    "model.compile(loss=\"categorical_crossentropy\", metrics=[\"accuracy\"], optimizer=optimizer)\n",
    "\n",
    "model.fit(x_train, y_train, \n",
    "          epochs=EPOCHS, \n",
    "          batch_size=BATCH_SIZE, \n",
    "          validation_data=(x_test, y_test), \n",
    "          shuffle=True,\n",
    "          callbacks=[earlystop]\n",
    "         )\n",
    "\n",
    "# Collect results\n",
    "train_loss = model.history.history[\"loss\"]\n",
    "valid_loss = model.history.history[\"val_loss\"]\n",
    "train_acc = model.history.history[\"acc\"]\n",
    "valid_acc = model.history.history[\"val_acc\"]"
   ]
  },
  {
   "cell_type": "code",
   "execution_count": 17,
   "metadata": {},
   "outputs": [
    {
     "data": {
      "image/png": "[encoded data removed]",
      "text/plain": [
       "<Figure size 432x288 with 1 Axes>"
      ]
     },
     "metadata": {
      "needs_background": "light"
     },
     "output_type": "display_data"
    },
    {
     "data": {
      "image/png": "[encoded data removed]",
      "text/plain": [
       "<Figure size 432x288 with 1 Axes>"
      ]
     },
     "metadata": {
      "needs_background": "light"
     },
     "output_type": "display_data"
    }
   ],
   "source": [
    "import matplotlib.pyplot as plt\n",
    "%matplotlib inline\n",
    "\n",
    "plt.plot(range(len(train_loss)), train_loss, label=\"train loss\")\n",
    "plt.plot(range(len(valid_loss)), valid_loss, label=\"valid loss\")\n",
    "plt.legend()\n",
    "plt.title(\"Loss\")\n",
    "plt.show()\n",
    "\n",
    "plt.plot(range(len(train_acc)), train_acc, label=\"train accuracy\")\n",
    "plt.plot(range(len(valid_acc)), valid_acc, label=\"valid accuracy\")\n",
    "plt.legend()\n",
    "plt.title(\"Accuracy\")\n",
    "plt.show()"
   ]
  },
  {
   "cell_type": "code",
   "execution_count": 18,
   "metadata": {},
   "outputs": [],
   "source": [
    "from keras.layers import BatchNormalization\n",
    "\n",
    "\"\"\"\n",
    "建立神經網路，並加入 BN layer\n",
    "\"\"\"\n",
    "def build_mlp(input_shape, output_units=10, num_neurons=[512, 256, 128]):\n",
    "    input_layer = keras.layers.Input(input_shape)\n",
    "    \n",
    "    for i, n_units in enumerate(num_neurons):\n",
    "        if i == 0:\n",
    "            x = keras.layers.Dense(units=n_units, \n",
    "                                   activation=\"relu\", \n",
    "                                   name=\"hidden_layer\"+str(i+1))(input_layer)\n",
    "            x = BatchNormalization()(x)\n",
    "        else:\n",
    "            x = keras.layers.Dense(units=n_units, \n",
    "                                   activation=\"relu\", \n",
    "                                   name=\"hidden_layer\"+str(i+1))(x)\n",
    "            x = BatchNormalization()(x)\n",
    "    \n",
    "    out = keras.layers.Dense(units=output_units, activation=\"softmax\", name=\"output\")(x)\n",
    "    \n",
    "    model = keras.models.Model(inputs=[input_layer], outputs=[out])\n",
    "    return model"
   ]
  },
  {
   "cell_type": "code",
   "execution_count": 19,
   "metadata": {},
   "outputs": [],
   "source": [
    "## 超參數設定\n",
    "LEARNING_RATE = 1e-3\n",
    "EPOCHS = 25\n",
    "BATCH_SIZE = 1024\n",
    "MOMENTUM = 0.95"
   ]
  },
  {
   "cell_type": "code",
   "execution_count": 20,
   "metadata": {},
   "outputs": [],
   "source": [
    "\"\"\"\n",
    "# 載入 Callbacks, 並將 monitor 設定為監控 validation accuracy\n",
    "# 等待時間15\n",
    "\"\"\"\n",
    "from keras.callbacks import EarlyStopping\n",
    "\n",
    "earlystop = EarlyStopping(monitor=\"val_acc\", \n",
    "                          patience=15, \n",
    "                          verbose=1)"
   ]
  },
  {
   "cell_type": "code",
   "execution_count": 21,
   "metadata": {},
   "outputs": [
    {
     "name": "stdout",
     "output_type": "stream",
     "text": [
      "_________________________________________________________________\n",
      "Layer (type)                 Output Shape              Param #   \n",
      "=================================================================\n",
      "input_3 (InputLayer)         (None, 3072)              0         \n",
      "_________________________________________________________________\n",
      "hidden_layer1 (Dense)        (None, 512)               1573376   \n",
      "_________________________________________________________________\n",
      "batch_normalization_7 (Batch (None, 512)               2048      \n",
      "_________________________________________________________________\n",
      "hidden_layer2 (Dense)        (None, 256)               131328    \n",
      "_________________________________________________________________\n",
      "batch_normalization_8 (Batch (None, 256)               1024      \n",
      "_________________________________________________________________\n",
      "hidden_layer3 (Dense)        (None, 128)               32896     \n",
      "_________________________________________________________________\n",
      "batch_normalization_9 (Batch (None, 128)               512       \n",
      "_________________________________________________________________\n",
      "output (Dense)               (None, 10)                1290      \n",
      "=================================================================\n",
      "Total params: 1,742,474\n",
      "Trainable params: 1,740,682\n",
      "Non-trainable params: 1,792\n",
      "_________________________________________________________________\n",
      "Train on 50000 samples, validate on 10000 samples\n",
      "Epoch 1/25\n",
      "50000/50000 [==============================] - 9s 180us/step - loss: 2.1993 - acc: 0.2749 - val_loss: 2.1782 - val_acc: 0.3195\n",
      "Epoch 2/25\n",
      "50000/50000 [==============================] - 8s 152us/step - loss: 1.7305 - acc: 0.4008 - val_loss: 1.8441 - val_acc: 0.3819\n",
      "Epoch 3/25\n",
      "50000/50000 [==============================] - 9s 180us/step - loss: 1.6088 - acc: 0.4370 - val_loss: 1.7102 - val_acc: 0.4084\n",
      "Epoch 4/25\n",
      "50000/50000 [==============================] - 9s 178us/step - loss: 1.5395 - acc: 0.4615 - val_loss: 1.6490 - val_acc: 0.4269\n",
      "Epoch 5/25\n",
      "50000/50000 [==============================] - 9s 181us/step - loss: 1.4844 - acc: 0.4825 - val_loss: 1.5921 - val_acc: 0.4427\n",
      "Epoch 6/25\n",
      "50000/50000 [==============================] - 9s 185us/step - loss: 1.4398 - acc: 0.4991 - val_loss: 1.5709 - val_acc: 0.4511\n",
      "Epoch 7/25\n",
      "50000/50000 [==============================] - 9s 176us/step - loss: 1.4007 - acc: 0.5147 - val_loss: 1.5503 - val_acc: 0.4581\n",
      "Epoch 8/25\n",
      "50000/50000 [==============================] - 9s 176us/step - loss: 1.3665 - acc: 0.5228 - val_loss: 1.5317 - val_acc: 0.4639\n",
      "Epoch 9/25\n",
      "50000/50000 [==============================] - 9s 176us/step - loss: 1.3346 - acc: 0.5351 - val_loss: 1.5174 - val_acc: 0.4703\n",
      "Epoch 10/25\n",
      "50000/50000 [==============================] - 9s 182us/step - loss: 1.3049 - acc: 0.5468 - val_loss: 1.5029 - val_acc: 0.4728\n",
      "Epoch 11/25\n",
      "50000/50000 [==============================] - 9s 177us/step - loss: 1.2781 - acc: 0.5587 - val_loss: 1.5019 - val_acc: 0.4759\n",
      "Epoch 12/25\n",
      "50000/50000 [==============================] - 9s 177us/step - loss: 1.2503 - acc: 0.5689 - val_loss: 1.4861 - val_acc: 0.4803\n",
      "Epoch 13/25\n",
      "50000/50000 [==============================] - 9s 178us/step - loss: 1.2256 - acc: 0.5763 - val_loss: 1.4832 - val_acc: 0.4837\n",
      "Epoch 14/25\n",
      "50000/50000 [==============================] - 9s 177us/step - loss: 1.1992 - acc: 0.5872 - val_loss: 1.4861 - val_acc: 0.4743\n",
      "Epoch 15/25\n",
      "50000/50000 [==============================] - 9s 177us/step - loss: 1.1764 - acc: 0.5959 - val_loss: 1.4732 - val_acc: 0.4856\n",
      "Epoch 16/25\n",
      "50000/50000 [==============================] - 9s 181us/step - loss: 1.1529 - acc: 0.6057 - val_loss: 1.4647 - val_acc: 0.4878\n",
      "Epoch 17/25\n",
      "50000/50000 [==============================] - 9s 178us/step - loss: 1.1299 - acc: 0.6146 - val_loss: 1.4755 - val_acc: 0.4860\n",
      "Epoch 18/25\n",
      "50000/50000 [==============================] - 9s 179us/step - loss: 1.1086 - acc: 0.6212 - val_loss: 1.4569 - val_acc: 0.4915\n",
      "Epoch 19/25\n",
      "50000/50000 [==============================] - 9s 178us/step - loss: 1.0867 - acc: 0.6295 - val_loss: 1.4570 - val_acc: 0.4890\n",
      "Epoch 20/25\n",
      "50000/50000 [==============================] - 9s 186us/step - loss: 1.0647 - acc: 0.6376 - val_loss: 1.4791 - val_acc: 0.4814\n",
      "Epoch 21/25\n",
      "50000/50000 [==============================] - 9s 182us/step - loss: 1.0439 - acc: 0.6450 - val_loss: 1.4567 - val_acc: 0.4929\n",
      "Epoch 22/25\n",
      "50000/50000 [==============================] - 9s 184us/step - loss: 1.0232 - acc: 0.6541 - val_loss: 1.4556 - val_acc: 0.4934\n",
      "Epoch 23/25\n",
      "50000/50000 [==============================] - 9s 181us/step - loss: 1.0025 - acc: 0.6602 - val_loss: 1.4584 - val_acc: 0.4968\n",
      "Epoch 24/25\n",
      "50000/50000 [==============================] - 10s 202us/step - loss: 0.9801 - acc: 0.6695 - val_loss: 1.4591 - val_acc: 0.4947\n",
      "Epoch 25/25\n",
      "50000/50000 [==============================] - 10s 194us/step - loss: 0.9603 - acc: 0.6791 - val_loss: 1.4686 - val_acc: 0.4932\n"
     ]
    }
   ],
   "source": [
    "model = build_mlp(input_shape=x_train.shape[1:])\n",
    "model.summary()\n",
    "optimizer = keras.optimizers.SGD(lr=LEARNING_RATE, nesterov=True, momentum=MOMENTUM)\n",
    "model.compile(loss=\"categorical_crossentropy\", metrics=[\"accuracy\"], optimizer=optimizer)\n",
    "\n",
    "model.fit(x_train, y_train, \n",
    "          epochs=EPOCHS, \n",
    "          batch_size=BATCH_SIZE, \n",
    "          validation_data=(x_test, y_test), \n",
    "          shuffle=True,\n",
    "          callbacks=[earlystop]\n",
    "         )\n",
    "\n",
    "# Collect results\n",
    "train_loss = model.history.history[\"loss\"]\n",
    "valid_loss = model.history.history[\"val_loss\"]\n",
    "train_acc = model.history.history[\"acc\"]\n",
    "valid_acc = model.history.history[\"val_acc\"]"
   ]
  },
  {
   "cell_type": "code",
   "execution_count": 22,
   "metadata": {},
   "outputs": [
    {
     "data": {
      "image/png": "[encoded data removed]",
      "text/plain": [
       "<Figure size 432x288 with 1 Axes>"
      ]
     },
     "metadata": {
      "needs_background": "light"
     },
     "output_type": "display_data"
    },
    {
     "data": {
      "image/png": "[encoded data removed]",
      "text/plain": [
       "<Figure size 432x288 with 1 Axes>"
      ]
     },
     "metadata": {
      "needs_background": "light"
     },
     "output_type": "display_data"
    }
   ],
   "source": [
    "import matplotlib.pyplot as plt\n",
    "%matplotlib inline\n",
    "\n",
    "plt.plot(range(len(train_loss)), train_loss, label=\"train loss\")\n",
    "plt.plot(range(len(valid_loss)), valid_loss, label=\"valid loss\")\n",
    "plt.legend()\n",
    "plt.title(\"Loss\")\n",
    "plt.show()\n",
    "\n",
    "plt.plot(range(len(train_acc)), train_acc, label=\"train accuracy\")\n",
    "plt.plot(range(len(valid_acc)), valid_acc, label=\"valid accuracy\")\n",
    "plt.legend()\n",
    "plt.title(\"Accuracy\")\n",
    "plt.show()"
   ]
  },
  {
   "cell_type": "code",
   "execution_count": null,
   "metadata": {},
   "outputs": [],
   "source": []
  }
 ],
 "metadata": {
  "kernelspec": {
   "display_name": "Python 3",
   "language": "python",
   "name": "python3"
  },
  "language_info": {
   "codemirror_mode": {
    "name": "ipython",
    "version": 3
   },
   "file_extension": ".py",
   "mimetype": "text/x-python",
   "name": "python",
   "nbconvert_exporter": "python",
   "pygments_lexer": "ipython3",
   "version": "3.7.3"
  }
 },
 "nbformat": 4,
 "nbformat_minor": 2
}
