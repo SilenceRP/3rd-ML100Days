{
 "cells": [
  {
   "cell_type": "markdown",
   "metadata": {},
   "source": [
    "## Work\n",
    "1. 請嘗試寫一個 callback 用來記錄各類別在訓練過程中，對驗證集的 True Positive 與 True Negative"
   ]
  },
  {
   "cell_type": "code",
   "execution_count": 1,
   "metadata": {},
   "outputs": [
    {
     "name": "stderr",
     "output_type": "stream",
     "text": [
      "Using TensorFlow backend.\n"
     ]
    }
   ],
   "source": [
    "import os\n",
    "import keras\n",
    "\n",
    "# Disable GPU\n",
    "os.environ[\"CUDA_VISIBLE_DEVICES\"] = \"\""
   ]
  },
  {
   "cell_type": "code",
   "execution_count": 2,
   "metadata": {},
   "outputs": [],
   "source": [
    "train, test = keras.datasets.cifar10.load_data()"
   ]
  },
  {
   "cell_type": "code",
   "execution_count": 3,
   "metadata": {},
   "outputs": [],
   "source": [
    "## 資料前處理\n",
    "def preproc_x(x, flatten=True):\n",
    "    x = x / 255.\n",
    "    if flatten:\n",
    "        x = x.reshape((len(x), -1))\n",
    "    return x\n",
    "\n",
    "def preproc_y(y, num_classes=10):\n",
    "    if y.shape[-1] == 1:\n",
    "        y = keras.utils.to_categorical(y, num_classes)\n",
    "    return y    "
   ]
  },
  {
   "cell_type": "code",
   "execution_count": 4,
   "metadata": {},
   "outputs": [],
   "source": [
    "x_train, y_train = train\n",
    "x_test, y_test = test\n",
    "\n",
    "# Preproc the inputs\n",
    "x_train = preproc_x(x_train)\n",
    "x_test = preproc_x(x_test)\n",
    "\n",
    "# Preprc the outputs\n",
    "y_train = preproc_y(y_train)\n",
    "y_test = preproc_y(y_test)"
   ]
  },
  {
   "cell_type": "code",
   "execution_count": 5,
   "metadata": {},
   "outputs": [],
   "source": [
    "from keras.layers import BatchNormalization\n",
    "\n",
    "\"\"\"\n",
    "建立神經網路，並加入 BN layer\n",
    "\"\"\"\n",
    "def build_mlp(input_shape, output_units=10, num_neurons=[512, 256, 128]):\n",
    "    input_layer = keras.layers.Input(input_shape)\n",
    "    \n",
    "    for i, n_units in enumerate(num_neurons):\n",
    "        if i == 0:\n",
    "            x = keras.layers.Dense(units=n_units, \n",
    "                                   activation=\"relu\", \n",
    "                                   name=\"hidden_layer\"+str(i+1))(input_layer)\n",
    "            x = BatchNormalization()(x)\n",
    "        else:\n",
    "            x = keras.layers.Dense(units=n_units, \n",
    "                                   activation=\"relu\", \n",
    "                                   name=\"hidden_layer\"+str(i+1))(x)\n",
    "            x = BatchNormalization()(x)\n",
    "    \n",
    "    out = keras.layers.Dense(units=output_units, activation=\"softmax\", name=\"output\")(x)\n",
    "    \n",
    "    model = keras.models.Model(inputs=[input_layer], outputs=[out])\n",
    "    return model"
   ]
  },
  {
   "cell_type": "code",
   "execution_count": 6,
   "metadata": {},
   "outputs": [],
   "source": [
    "## 超參數設定\n",
    "LEARNING_RATE = 1e-3\n",
    "EPOCHS = 25\n",
    "BATCH_SIZE = 1024\n",
    "MOMENTUM = 0.95"
   ]
  },
  {
   "cell_type": "code",
   "execution_count": 8,
   "metadata": {},
   "outputs": [],
   "source": [
    "# 載入 Callbacks\n",
    "\"\"\"\n",
    "# 載入 Callbacks，撰寫一個 f1 score 的 callback function\n",
    "\"\"\"\n",
    "\n",
    "from keras.callbacks import Callback\n",
    "from sklearn.metrics import precision_score, recall_score\n",
    "\n",
    "class Record_tp_tn(Callback):\n",
    "    def on_train_begin(self, epoch, logs = {}):\n",
    "        logs = logs or {}\n",
    "        record_items = [\"val_auc\", \"val_f1sc\", \"val_fp\", \"val_fn\", \"val_tp\", \"val_tn\"]\n",
    "        for i in record_items:\n",
    "            if i not in self.params['metrics']:\n",
    "                self.params['metrics'].append(i)\n",
    "    \n",
    "    def on_epoch_end(self, epoch, logs = {}, thres=0.5):\n",
    "        logs = logs or {}\n",
    "        y_true = self.validation_data[1].argmax(axis = 1)\n",
    "        y_pred = self.model.predict(self.validation_data[0])\n",
    "        y_pred = (y_pred[:, 1] >= thres) * 1\n",
    "        \n",
    "        logs[\"val_tn\"] = precision_score(y_true = y_true, y_pred = y_pred, average=\"weighted\")\n",
    "        logs[\"val_tp\"] = recall_score(y_true = y_true, y_pred = y_pred, average=\"weighted\")\n",
    "        \n",
    "rec_tptn = Record_tp_tn()"
   ]
  },
  {
   "cell_type": "code",
   "execution_count": 9,
   "metadata": {
    "scrolled": true
   },
   "outputs": [
    {
     "name": "stdout",
     "output_type": "stream",
     "text": [
      "WARNING:tensorflow:From C:\\Anaconda3\\lib\\site-packages\\tensorflow\\python\\framework\\op_def_library.py:263: colocate_with (from tensorflow.python.framework.ops) is deprecated and will be removed in a future version.\n",
      "Instructions for updating:\n",
      "Colocations handled automatically by placer.\n",
      "_________________________________________________________________\n",
      "Layer (type)                 Output Shape              Param #   \n",
      "=================================================================\n",
      "input_1 (InputLayer)         (None, 3072)              0         \n",
      "_________________________________________________________________\n",
      "hidden_layer1 (Dense)        (None, 512)               1573376   \n",
      "_________________________________________________________________\n",
      "batch_normalization_1 (Batch (None, 512)               2048      \n",
      "_________________________________________________________________\n",
      "hidden_layer2 (Dense)        (None, 256)               131328    \n",
      "_________________________________________________________________\n",
      "batch_normalization_2 (Batch (None, 256)               1024      \n",
      "_________________________________________________________________\n",
      "hidden_layer3 (Dense)        (None, 128)               32896     \n",
      "_________________________________________________________________\n",
      "batch_normalization_3 (Batch (None, 128)               512       \n",
      "_________________________________________________________________\n",
      "output (Dense)               (None, 10)                1290      \n",
      "=================================================================\n",
      "Total params: 1,742,474\n",
      "Trainable params: 1,740,682\n",
      "Non-trainable params: 1,792\n",
      "_________________________________________________________________\n",
      "WARNING:tensorflow:From C:\\Anaconda3\\lib\\site-packages\\tensorflow\\python\\ops\\math_ops.py:3066: to_int32 (from tensorflow.python.ops.math_ops) is deprecated and will be removed in a future version.\n",
      "Instructions for updating:\n",
      "Use tf.cast instead.\n",
      "Train on 50000 samples, validate on 10000 samples\n",
      "Epoch 1/25\n",
      "50000/50000 [==============================] - 9s 177us/step - loss: 2.1973 - acc: 0.2726 - val_loss: 2.1034 - val_acc: 0.3264\n",
      "Epoch 2/25\n",
      " 1024/50000 [..............................] - ETA: 7s - loss: 1.9089 - acc: 0.3398"
     ]
    },
    {
     "name": "stderr",
     "output_type": "stream",
     "text": [
      "C:\\Anaconda3\\lib\\site-packages\\sklearn\\metrics\\classification.py:1143: UndefinedMetricWarning: Precision is ill-defined and being set to 0.0 in labels with no predicted samples.\n",
      "  'precision', 'predicted', average, warn_for)\n"
     ]
    },
    {
     "name": "stdout",
     "output_type": "stream",
     "text": [
      "50000/50000 [==============================] - 7s 147us/step - loss: 1.7503 - acc: 0.3893 - val_loss: 1.8297 - val_acc: 0.3779\n",
      "Epoch 3/25\n",
      "50000/50000 [==============================] - 7s 144us/step - loss: 1.6247 - acc: 0.4289 - val_loss: 1.7032 - val_acc: 0.4179\n",
      "Epoch 4/25\n",
      "50000/50000 [==============================] - 7s 146us/step - loss: 1.5496 - acc: 0.4568 - val_loss: 1.6386 - val_acc: 0.4265\n",
      "Epoch 5/25\n",
      "50000/50000 [==============================] - 7s 149us/step - loss: 1.4923 - acc: 0.4772 - val_loss: 1.5970 - val_acc: 0.4418\n",
      "Epoch 6/25\n",
      "50000/50000 [==============================] - 7s 150us/step - loss: 1.4459 - acc: 0.4958 - val_loss: 1.5682 - val_acc: 0.4471\n",
      "Epoch 7/25\n",
      "50000/50000 [==============================] - 7s 149us/step - loss: 1.4048 - acc: 0.5102 - val_loss: 1.5408 - val_acc: 0.4539\n",
      "Epoch 8/25\n",
      "50000/50000 [==============================] - 8s 150us/step - loss: 1.3690 - acc: 0.5231 - val_loss: 1.5236 - val_acc: 0.4639\n",
      "Epoch 9/25\n",
      "50000/50000 [==============================] - 7s 149us/step - loss: 1.3346 - acc: 0.5331 - val_loss: 1.5124 - val_acc: 0.4694\n",
      "Epoch 10/25\n",
      "50000/50000 [==============================] - 8s 153us/step - loss: 1.3040 - acc: 0.5463 - val_loss: 1.5057 - val_acc: 0.4733\n",
      "Epoch 11/25\n",
      "50000/50000 [==============================] - 8s 151us/step - loss: 1.2783 - acc: 0.5573 - val_loss: 1.4966 - val_acc: 0.4783\n",
      "Epoch 12/25\n",
      "50000/50000 [==============================] - 8s 151us/step - loss: 1.2516 - acc: 0.5667 - val_loss: 1.4874 - val_acc: 0.4772\n",
      "Epoch 13/25\n",
      "50000/50000 [==============================] - 8s 152us/step - loss: 1.2262 - acc: 0.5758 - val_loss: 1.4840 - val_acc: 0.4808\n",
      "Epoch 14/25\n",
      "50000/50000 [==============================] - 8s 152us/step - loss: 1.2004 - acc: 0.5853 - val_loss: 1.4899 - val_acc: 0.4827\n",
      "Epoch 15/25\n",
      "50000/50000 [==============================] - 8s 152us/step - loss: 1.1750 - acc: 0.5946 - val_loss: 1.4755 - val_acc: 0.4839\n",
      "Epoch 16/25\n",
      "50000/50000 [==============================] - 8s 152us/step - loss: 1.1514 - acc: 0.6042 - val_loss: 1.4754 - val_acc: 0.4806\n",
      "Epoch 17/25\n",
      "50000/50000 [==============================] - 8s 152us/step - loss: 1.1299 - acc: 0.6123 - val_loss: 1.4770 - val_acc: 0.4808\n",
      "Epoch 18/25\n",
      "50000/50000 [==============================] - 8s 153us/step - loss: 1.1043 - acc: 0.6203 - val_loss: 1.4607 - val_acc: 0.4917\n",
      "Epoch 19/25\n",
      "50000/50000 [==============================] - 8s 152us/step - loss: 1.0832 - acc: 0.6282 - val_loss: 1.4651 - val_acc: 0.4928\n",
      "Epoch 20/25\n",
      "50000/50000 [==============================] - 8s 153us/step - loss: 1.0616 - acc: 0.6373 - val_loss: 1.4646 - val_acc: 0.4856\n",
      "Epoch 21/25\n",
      "50000/50000 [==============================] - 8s 153us/step - loss: 1.0367 - acc: 0.6475 - val_loss: 1.4758 - val_acc: 0.4825\n",
      "Epoch 22/25\n",
      "50000/50000 [==============================] - 8s 155us/step - loss: 1.0174 - acc: 0.6534 - val_loss: 1.4760 - val_acc: 0.4903\n",
      "Epoch 23/25\n",
      "50000/50000 [==============================] - 8s 154us/step - loss: 0.9945 - acc: 0.6611 - val_loss: 1.4653 - val_acc: 0.4944\n",
      "Epoch 24/25\n",
      "50000/50000 [==============================] - 8s 154us/step - loss: 0.9744 - acc: 0.6690 - val_loss: 1.4799 - val_acc: 0.4883\n",
      "Epoch 25/25\n",
      "50000/50000 [==============================] - 8s 154us/step - loss: 0.9548 - acc: 0.6779 - val_loss: 1.4801 - val_acc: 0.4883\n"
     ]
    }
   ],
   "source": [
    "model = build_mlp(input_shape=x_train.shape[1:])\n",
    "model.summary()\n",
    "optimizer = keras.optimizers.SGD(lr=LEARNING_RATE, nesterov=True, momentum=MOMENTUM)\n",
    "model.compile(loss=\"categorical_crossentropy\", metrics=[\"accuracy\"], optimizer=optimizer)\n",
    "\n",
    "\"\"\"Code Here\n",
    "將 callbacks 放入模型訓練流程中\n",
    "\"\"\"\n",
    "model.fit(x_train, y_train, \n",
    "          epochs=EPOCHS, \n",
    "          batch_size=BATCH_SIZE, \n",
    "          validation_data=(x_test, y_test), \n",
    "          shuffle=True,\n",
    "          callbacks=[rec_tptn]\n",
    "         )\n",
    "\n",
    "\n",
    "# Collect results\n",
    "train_loss = model.history.history[\"loss\"]\n",
    "valid_loss = model.history.history[\"val_loss\"]\n",
    "train_acc = model.history.history[\"acc\"]\n",
    "valid_acc = model.history.history[\"val_acc\"]\n",
    "\n",
    "\"\"\"Code Here\n",
    "將 tp/tn 從訓練完的模型中取出\n",
    "\"\"\"\n",
    "valid_tp = model.history.history['val_tp']\n",
    "valid_tn = model.history.history['val_tn']"
   ]
  },
  {
   "cell_type": "code",
   "execution_count": 10,
   "metadata": {},
   "outputs": [
    {
     "data": {
      "image/png": "[encoded data removed]",
      "text/plain": [
       "<Figure size 432x288 with 1 Axes>"
      ]
     },
     "metadata": {
      "needs_background": "light"
     },
     "output_type": "display_data"
    },
    {
     "data": {
      "image/png": "[encoded data removed]",
      "text/plain": [
       "<Figure size 432x288 with 1 Axes>"
      ]
     },
     "metadata": {
      "needs_background": "light"
     },
     "output_type": "display_data"
    },
    {
     "data": {
      "image/png": "[encoded data removed]",
      "text/plain": [
       "<Figure size 432x288 with 1 Axes>"
      ]
     },
     "metadata": {
      "needs_background": "light"
     },
     "output_type": "display_data"
    }
   ],
   "source": [
    "import matplotlib.pyplot as plt\n",
    "%matplotlib inline\n",
    "\n",
    "plt.plot(range(len(train_loss)), train_loss, label=\"train loss\")\n",
    "plt.plot(range(len(valid_loss)), valid_loss, label=\"valid loss\")\n",
    "plt.legend()\n",
    "plt.title(\"Loss\")\n",
    "plt.show()\n",
    "\n",
    "plt.plot(range(len(train_acc)), train_acc, label=\"train accuracy\")\n",
    "plt.plot(range(len(valid_acc)), valid_acc, label=\"valid accuracy\")\n",
    "plt.legend()\n",
    "plt.title(\"Accuracy\")\n",
    "plt.show()\n",
    "\n",
    "plt.plot(range(len(valid_tp)), valid_tp, label=\"valid tp\", color=\"navy\")\n",
    "plt.plot(range(len(valid_tn)), valid_tn, label=\"valid tn\", color=\"red\")\n",
    "plt.legend()\n",
    "plt.title(\"True positives and True Negatives\")\n",
    "plt.show()\n"
   ]
  },
  {
   "cell_type": "code",
   "execution_count": null,
   "metadata": {},
   "outputs": [],
   "source": []
  }
 ],
 "metadata": {
  "kernelspec": {
   "display_name": "Python 3",
   "language": "python",
   "name": "python3"
  },
  "language_info": {
   "codemirror_mode": {
    "name": "ipython",
    "version": 3
   },
   "file_extension": ".py",
   "mimetype": "text/x-python",
   "name": "python",
   "nbconvert_exporter": "python",
   "pygments_lexer": "ipython3",
   "version": "3.7.3"
  }
 },
 "nbformat": 4,
 "nbformat_minor": 2
}
