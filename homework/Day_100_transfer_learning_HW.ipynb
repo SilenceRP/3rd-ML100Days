{
 "cells": [
  {
   "cell_type": "code",
   "execution_count": 1,
   "metadata": {},
   "outputs": [
    {
     "name": "stderr",
     "output_type": "stream",
     "text": [
      "Using TensorFlow backend.\n"
     ]
    }
   ],
   "source": [
    "import keras\n",
    "from keras.datasets import cifar10\n",
    "from keras.preprocessing.image import ImageDataGenerator\n",
    "from keras.models import Sequential\n",
    "from keras.layers import Dense, Dropout, Activation, Flatten\n",
    "from keras.layers import Conv2D, MaxPooling2D\n",
    "from keras.optimizers import RMSprop, Adam\n",
    "import os"
   ]
  },
  {
   "cell_type": "code",
   "execution_count": 15,
   "metadata": {},
   "outputs": [
    {
     "name": "stdout",
     "output_type": "stream",
     "text": [
      "x_train shape: (50000, 32, 32, 3)\n",
      "50000 train samples\n",
      "10000 test samples\n"
     ]
    }
   ],
   "source": [
    "batch_size = 128 # batch 的大小，如果出現 OOM error，請降低這個值\n",
    "num_classes = 10 # 類別的數量，Cifar 10 共有 10 個類別\n",
    "epochs = 20 # 訓練的 epochs 數量\n",
    "\n",
    "# 讀取資料並檢視\n",
    "(x_train, y_train), (x_test, y_test) = cifar10.load_data()\n",
    "print('x_train shape:', x_train.shape)\n",
    "print(x_train.shape[0], 'train samples')\n",
    "print(x_test.shape[0], 'test samples')\n",
    "\n",
    "# 對 label 進行 one-hot encoding (y_trian 原本是純數字)\n",
    "y_train = keras.utils.to_categorical(y_train, num_classes)\n",
    "y_test = keras.utils.to_categorical(y_test, num_classes)"
   ]
  },
  {
   "cell_type": "code",
   "execution_count": 9,
   "metadata": {},
   "outputs": [
    {
     "name": "stdout",
     "output_type": "stream",
     "text": [
      "50000 train samples\n",
      "10000 test samples\n"
     ]
    }
   ],
   "source": [
    "# 將資料攤平成一維資料\n",
    "x_train = x_train.reshape(50000, 3072) \n",
    "x_test = x_test.reshape(10000, 3072)\n",
    "\n",
    "# 將資料變為 float32 並標準化\n",
    "x_train = x_train.astype('float32')\n",
    "x_test = x_test.astype('float32')\n",
    "x_train /= 255\n",
    "x_test /= 255\n",
    "print(x_train.shape[0], 'train samples')\n",
    "print(x_test.shape[0], 'test samples')"
   ]
  },
  {
   "cell_type": "code",
   "execution_count": 16,
   "metadata": {},
   "outputs": [
    {
     "name": "stdout",
     "output_type": "stream",
     "text": [
      "x_train shape: (50000, 32, 32, 3)\n",
      "50000 train samples\n",
      "10000 test samples\n"
     ]
    }
   ],
   "source": [
    "(x_train, y_train), (x_test, y_test) = cifar10.load_data()\n",
    "print('x_train shape:', x_train.shape)\n",
    "print(x_train.shape[0], 'train samples')\n",
    "print(x_test.shape[0], 'test samples')\n",
    "x_train = x_train.astype('float32')\n",
    "x_test = x_test.astype('float32')\n",
    "x_train /= 255\n",
    "x_test /= 255\n",
    "\n",
    "# Convert class vectors to binary class matrices.\n",
    "y_train = keras.utils.to_categorical(y_train, num_classes)\n",
    "y_test = keras.utils.to_categorical(y_test, num_classes)"
   ]
  },
  {
   "cell_type": "code",
   "execution_count": 17,
   "metadata": {},
   "outputs": [
    {
     "name": "stdout",
     "output_type": "stream",
     "text": [
      "_________________________________________________________________\n",
      "Layer (type)                 Output Shape              Param #   \n",
      "=================================================================\n",
      "conv2d_9 (Conv2D)            (None, 32, 32, 32)        896       \n",
      "_________________________________________________________________\n",
      "activation_13 (Activation)   (None, 32, 32, 32)        0         \n",
      "_________________________________________________________________\n",
      "conv2d_10 (Conv2D)           (None, 30, 30, 32)        9248      \n",
      "_________________________________________________________________\n",
      "activation_14 (Activation)   (None, 30, 30, 32)        0         \n",
      "_________________________________________________________________\n",
      "max_pooling2d_5 (MaxPooling2 (None, 15, 15, 32)        0         \n",
      "_________________________________________________________________\n",
      "dropout_11 (Dropout)         (None, 15, 15, 32)        0         \n",
      "_________________________________________________________________\n",
      "conv2d_11 (Conv2D)           (None, 15, 15, 64)        18496     \n",
      "_________________________________________________________________\n",
      "activation_15 (Activation)   (None, 15, 15, 64)        0         \n",
      "_________________________________________________________________\n",
      "conv2d_12 (Conv2D)           (None, 13, 13, 64)        36928     \n",
      "_________________________________________________________________\n",
      "activation_16 (Activation)   (None, 13, 13, 64)        0         \n",
      "_________________________________________________________________\n",
      "max_pooling2d_6 (MaxPooling2 (None, 6, 6, 64)          0         \n",
      "_________________________________________________________________\n",
      "dropout_12 (Dropout)         (None, 6, 6, 64)          0         \n",
      "_________________________________________________________________\n",
      "flatten_3 (Flatten)          (None, 2304)              0         \n",
      "_________________________________________________________________\n",
      "dense_11 (Dense)             (None, 512)               1180160   \n",
      "_________________________________________________________________\n",
      "activation_17 (Activation)   (None, 512)               0         \n",
      "_________________________________________________________________\n",
      "dropout_13 (Dropout)         (None, 512)               0         \n",
      "_________________________________________________________________\n",
      "dense_12 (Dense)             (None, 10)                5130      \n",
      "_________________________________________________________________\n",
      "activation_18 (Activation)   (None, 10)                0         \n",
      "=================================================================\n",
      "Total params: 1,250,858\n",
      "Trainable params: 1,250,858\n",
      "Non-trainable params: 0\n",
      "_________________________________________________________________\n",
      "Train on 50000 samples, validate on 10000 samples\n",
      "Epoch 1/20\n",
      "50000/50000 [==============================] - 116s 2ms/step - loss: 1.7366 - acc: 0.3734 - val_loss: 1.3214 - val_acc: 0.5153\n",
      "Epoch 2/20\n",
      "50000/50000 [==============================] - 115s 2ms/step - loss: 1.3084 - acc: 0.5353 - val_loss: 1.1616 - val_acc: 0.5923\n",
      "Epoch 3/20\n",
      "50000/50000 [==============================] - 116s 2ms/step - loss: 1.0880 - acc: 0.6208 - val_loss: 0.9422 - val_acc: 0.6705\n",
      "Epoch 4/20\n",
      "50000/50000 [==============================] - 115s 2ms/step - loss: 0.9555 - acc: 0.6664 - val_loss: 0.8722 - val_acc: 0.6990\n",
      "Epoch 5/20\n",
      "50000/50000 [==============================] - 115s 2ms/step - loss: 0.8681 - acc: 0.6966 - val_loss: 0.8718 - val_acc: 0.7008\n",
      "Epoch 6/20\n",
      "50000/50000 [==============================] - 114s 2ms/step - loss: 0.8030 - acc: 0.7231 - val_loss: 0.8168 - val_acc: 0.7195\n",
      "Epoch 7/20\n",
      "50000/50000 [==============================] - 114s 2ms/step - loss: 0.7523 - acc: 0.7376 - val_loss: 0.8350 - val_acc: 0.7177\n",
      "Epoch 8/20\n",
      "50000/50000 [==============================] - 114s 2ms/step - loss: 0.7140 - acc: 0.7491 - val_loss: 0.7082 - val_acc: 0.7573\n",
      "Epoch 9/20\n",
      "50000/50000 [==============================] - 114s 2ms/step - loss: 0.6844 - acc: 0.7631 - val_loss: 0.8109 - val_acc: 0.7271\n",
      "Epoch 10/20\n",
      "50000/50000 [==============================] - 115s 2ms/step - loss: 0.6638 - acc: 0.7725 - val_loss: 0.7386 - val_acc: 0.7601\n",
      "Epoch 11/20\n",
      "50000/50000 [==============================] - 114s 2ms/step - loss: 0.6589 - acc: 0.7770 - val_loss: 0.6865 - val_acc: 0.7659\n",
      "Epoch 12/20\n",
      "50000/50000 [==============================] - 115s 2ms/step - loss: 0.6412 - acc: 0.7817 - val_loss: 0.8495 - val_acc: 0.7326\n",
      "Epoch 13/20\n",
      "50000/50000 [==============================] - 115s 2ms/step - loss: 0.6351 - acc: 0.7836 - val_loss: 0.6921 - val_acc: 0.7728\n",
      "Epoch 14/20\n",
      "50000/50000 [==============================] - 115s 2ms/step - loss: 0.6340 - acc: 0.7874 - val_loss: 0.6795 - val_acc: 0.7867\n",
      "Epoch 15/20\n",
      "50000/50000 [==============================] - 115s 2ms/step - loss: 0.6241 - acc: 0.7910 - val_loss: 0.6815 - val_acc: 0.7882\n",
      "Epoch 16/20\n",
      "50000/50000 [==============================] - 115s 2ms/step - loss: 0.6199 - acc: 0.7940 - val_loss: 0.6962 - val_acc: 0.7778\n",
      "Epoch 17/20\n",
      "50000/50000 [==============================] - 115s 2ms/step - loss: 0.6188 - acc: 0.7937 - val_loss: 0.7793 - val_acc: 0.7665\n",
      "Epoch 18/20\n",
      "50000/50000 [==============================] - 115s 2ms/step - loss: 0.6132 - acc: 0.7950 - val_loss: 0.7321 - val_acc: 0.7789\n",
      "Epoch 19/20\n",
      "50000/50000 [==============================] - 115s 2ms/step - loss: 0.6151 - acc: 0.7964 - val_loss: 0.6923 - val_acc: 0.7738\n",
      "Epoch 20/20\n",
      "50000/50000 [==============================] - 115s 2ms/step - loss: 0.6040 - acc: 0.7996 - val_loss: 0.6635 - val_acc: 0.7823\n",
      "Test loss: 0.6634909987449646\n",
      "Test accuracy: 0.7823\n"
     ]
    }
   ],
   "source": [
    "model = Sequential()\n",
    "model.add(Conv2D(32, (3, 3), padding='same',\n",
    "                 input_shape=x_train.shape[1:]))\n",
    "model.add(Activation('relu'))\n",
    "model.add(Conv2D(32, (3, 3)))\n",
    "model.add(Activation('relu'))\n",
    "model.add(MaxPooling2D(pool_size=(2, 2)))\n",
    "model.add(Dropout(0.25))\n",
    "\n",
    "model.add(Conv2D(64, (3, 3), padding='same'))\n",
    "model.add(Activation('relu'))\n",
    "model.add(Conv2D(64, (3, 3)))\n",
    "model.add(Activation('relu'))\n",
    "model.add(MaxPooling2D(pool_size=(2, 2)))\n",
    "model.add(Dropout(0.25))\n",
    "\n",
    "model.add(Flatten())\n",
    "model.add(Dense(512))\n",
    "model.add(Activation('relu'))\n",
    "model.add(Dropout(0.5))\n",
    "model.add(Dense(num_classes))\n",
    "model.add(Activation('softmax'))\n",
    "model.summary()\n",
    "\n",
    "model.compile(loss='categorical_crossentropy',\n",
    "              optimizer=RMSprop(),\n",
    "              metrics=['accuracy'])\n",
    "\n",
    "history = model.fit(x_train, y_train,\n",
    "                    batch_size=batch_size,\n",
    "                    epochs=epochs,\n",
    "                    verbose=1,\n",
    "                    validation_data=(x_test, y_test))\n",
    "score = model.evaluate(x_test, y_test, verbose=0)\n",
    "print('Test loss:', score[0])\n",
    "print('Test accuracy:', score[1])"
   ]
  }
 ],
 "metadata": {
  "kernelspec": {
   "display_name": "Python 3",
   "language": "python",
   "name": "python3"
  },
  "language_info": {
   "codemirror_mode": {
    "name": "ipython",
    "version": 3
   },
   "file_extension": ".py",
   "mimetype": "text/x-python",
   "name": "python",
   "nbconvert_exporter": "python",
   "pygments_lexer": "ipython3",
   "version": "3.7.3"
  }
 },
 "nbformat": 4,
 "nbformat_minor": 2
}
