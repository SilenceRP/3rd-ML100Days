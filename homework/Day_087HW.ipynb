{
 "cells": [
  {
   "cell_type": "markdown",
   "metadata": {},
   "source": [
    "## Work\n",
    "1. 請改變 reduce_lr 的 patience 和 factor 並比較不同設定下，對訓練/驗證集的影響\n",
    "2. 請將 optimizer 換成 Adam、RMSprop 搭配 reduce_lr 並比較訓練結果"
   ]
  },
  {
   "cell_type": "code",
   "execution_count": 1,
   "metadata": {},
   "outputs": [
    {
     "name": "stderr",
     "output_type": "stream",
     "text": [
      "Using TensorFlow backend.\n"
     ]
    }
   ],
   "source": [
    "import os\n",
    "import keras\n",
    "\n",
    "# Disable GPU\n",
    "os.environ[\"CUDA_VISIBLE_DEVICES\"] = \"\""
   ]
  },
  {
   "cell_type": "code",
   "execution_count": 2,
   "metadata": {},
   "outputs": [],
   "source": [
    "train, test = keras.datasets.cifar10.load_data()"
   ]
  },
  {
   "cell_type": "code",
   "execution_count": 3,
   "metadata": {},
   "outputs": [],
   "source": [
    "## 資料前處理\n",
    "def preproc_x(x, flatten=True):\n",
    "    x = x / 255.\n",
    "    if flatten:\n",
    "        x = x.reshape((len(x), -1))\n",
    "    return x\n",
    "\n",
    "def preproc_y(y, num_classes=10):\n",
    "    if y.shape[-1] == 1:\n",
    "        y = keras.utils.to_categorical(y, num_classes)\n",
    "    return y    "
   ]
  },
  {
   "cell_type": "code",
   "execution_count": 4,
   "metadata": {},
   "outputs": [],
   "source": [
    "x_train, y_train = train\n",
    "x_test, y_test = test\n",
    "\n",
    "# Preproc the inputs\n",
    "x_train = preproc_x(x_train)\n",
    "x_test = preproc_x(x_test)\n",
    "\n",
    "# Preprc the outputs\n",
    "y_train = preproc_y(y_train)\n",
    "y_test = preproc_y(y_test)"
   ]
  },
  {
   "cell_type": "code",
   "execution_count": 5,
   "metadata": {},
   "outputs": [],
   "source": [
    "from keras.layers import BatchNormalization\n",
    "\n",
    "\"\"\"\n",
    "建立神經網路，並加入 BN layer\n",
    "\"\"\"\n",
    "def build_mlp(input_shape, output_units=10, num_neurons=[512, 256, 128]):\n",
    "    input_layer = keras.layers.Input(input_shape)\n",
    "    \n",
    "    for i, n_units in enumerate(num_neurons):\n",
    "        if i == 0:\n",
    "            x = keras.layers.Dense(units=n_units, \n",
    "                                   activation=\"relu\", \n",
    "                                   name=\"hidden_layer\"+str(i+1))(input_layer)\n",
    "            x = BatchNormalization()(x)\n",
    "        else:\n",
    "            x = keras.layers.Dense(units=n_units, \n",
    "                                   activation=\"relu\", \n",
    "                                   name=\"hidden_layer\"+str(i+1))(x)\n",
    "            x = BatchNormalization()(x)\n",
    "    \n",
    "    out = keras.layers.Dense(units=output_units, activation=\"softmax\", name=\"output\")(x)\n",
    "    \n",
    "    model = keras.models.Model(inputs=[input_layer], outputs=[out])\n",
    "    return model"
   ]
  },
  {
   "cell_type": "code",
   "execution_count": 6,
   "metadata": {},
   "outputs": [],
   "source": [
    "LEARNING_RATE = 1e-3\n",
    "EPOCHS = 25 # IF you feel too run to finish, try to make it smaller\n",
    "BATCH_SIZE = 1024 "
   ]
  },
  {
   "cell_type": "code",
   "execution_count": 7,
   "metadata": {},
   "outputs": [
    {
     "name": "stdout",
     "output_type": "stream",
     "text": [
      "WARNING:tensorflow:From C:\\Anaconda3\\lib\\site-packages\\tensorflow\\python\\framework\\op_def_library.py:263: colocate_with (from tensorflow.python.framework.ops) is deprecated and will be removed in a future version.\n",
      "Instructions for updating:\n",
      "Colocations handled automatically by placer.\n"
     ]
    }
   ],
   "source": [
    "# 載入 Callbacks\n",
    "from keras.callbacks import ReduceLROnPlateau\n",
    "\n",
    "optimizer_set = [keras.optimizers.SGD(lr=LEARNING_RATE, nesterov=True, momentum=0.95),\n",
    "                 keras.optimizers.Adam(lr=LEARNING_RATE),\n",
    "                 keras.optimizers.RMSprop(lr=LEARNING_RATE)]\n",
    "\n",
    "\"\"\"Code Here\n",
    "建立實驗的比較組合\n",
    "\"\"\"\n",
    "reduce_lr_factor = []\n",
    "redice_lr_patient = []"
   ]
  },
  {
   "cell_type": "code",
   "execution_count": 17,
   "metadata": {
    "scrolled": true
   },
   "outputs": [],
   "source": [
    "import itertools\n",
    "from keras.callbacks import ReduceLROnPlateau\n",
    "\"\"\"\n",
    "# 載入 Callbacks, 並設定監控目標為 validation loss\n",
    "\"\"\"\n",
    "\n",
    "\n",
    "reduce_lr = ReduceLROnPlateau(factor=0.5, \n",
    "                              min_lr=1e-12, \n",
    "                              monitor='val_loss', \n",
    "                              patience=5, \n",
    "                              verbose=1)\n",
    "    \n",
    "results = {}\n",
    "for i, (optim, reduce_factor, reduce_patient) in enumerate(itertools.product(optimizer_set, reduce_lr_factor, redice_lr_patient)):\n",
    "    print(\"Numbers of exp: %i, reduce_factor: %.2f, reduce_patient: %i\" % (i, reduce_factor, reduce_patient))\n",
    "    model = build_mlp(input_shape=x_train.shape[1:])\n",
    "    model.summary()\n",
    "    model.compile(loss=\"categorical_crossentropy\", metrics=[\"accuracy\"], optimizer=optim)\n",
    "    \n",
    "    \"\"\"Code Here\n",
    "    設定 reduce learning rate 的 callback function\n",
    "    \"\"\"    \n",
    "    \n",
    "    \n",
    "   \n",
    "    model.fit(x_train, y_train, \n",
    "              epochs=EPOCHS, \n",
    "              batch_size=BATCH_SIZE, \n",
    "              validation_data=(x_test, y_test), \n",
    "              shuffle=True,\n",
    "              callbacks=[reduce_lr]\n",
    "             )\n",
    "\n",
    "    # Collect results\n",
    "    exp_name_tag = (\"exp-%s\" % (i))\n",
    "    results[exp_name_tag] = {'train-loss': model.history.history[\"loss\"],\n",
    "                             'valid-loss': model.history.history[\"val_loss\"],\n",
    "                             'train-acc': model.history.history[\"acc\"],\n",
    "                             'valid-acc': model.history.history[\"val_acc\"]}"
   ]
  },
  {
   "cell_type": "code",
   "execution_count": 20,
   "metadata": {},
   "outputs": [],
   "source": [
    "## 超參數設定\n",
    "LEARNING_RATE = 1e-3\n",
    "EPOCHS = 25\n",
    "BATCH_SIZE = 1024\n",
    "MOMENTUM = 0.95"
   ]
  },
  {
   "cell_type": "code",
   "execution_count": 21,
   "metadata": {},
   "outputs": [
    {
     "name": "stdout",
     "output_type": "stream",
     "text": [
      "_________________________________________________________________\n",
      "Layer (type)                 Output Shape              Param #   \n",
      "=================================================================\n",
      "input_4 (InputLayer)         (None, 3072)              0         \n",
      "_________________________________________________________________\n",
      "hidden_layer1 (Dense)        (None, 512)               1573376   \n",
      "_________________________________________________________________\n",
      "batch_normalization_10 (Batc (None, 512)               2048      \n",
      "_________________________________________________________________\n",
      "hidden_layer2 (Dense)        (None, 256)               131328    \n",
      "_________________________________________________________________\n",
      "batch_normalization_11 (Batc (None, 256)               1024      \n",
      "_________________________________________________________________\n",
      "hidden_layer3 (Dense)        (None, 128)               32896     \n",
      "_________________________________________________________________\n",
      "batch_normalization_12 (Batc (None, 128)               512       \n",
      "_________________________________________________________________\n",
      "output (Dense)               (None, 10)                1290      \n",
      "=================================================================\n",
      "Total params: 1,742,474\n",
      "Trainable params: 1,740,682\n",
      "Non-trainable params: 1,792\n",
      "_________________________________________________________________\n",
      "Train on 50000 samples, validate on 10000 samples\n",
      "Epoch 1/25\n",
      "50000/50000 [==============================] - 10s 200us/step - loss: 2.1821 - acc: 0.2756 - val_loss: 2.1365 - val_acc: 0.3178\n",
      "Epoch 2/25\n",
      "50000/50000 [==============================] - 8s 152us/step - loss: 1.7431 - acc: 0.3903 - val_loss: 1.8051 - val_acc: 0.3726\n",
      "Epoch 3/25\n",
      "50000/50000 [==============================] - 8s 153us/step - loss: 1.6188 - acc: 0.4319 - val_loss: 1.6969 - val_acc: 0.4097\n",
      "Epoch 4/25\n",
      "50000/50000 [==============================] - 8s 153us/step - loss: 1.5481 - acc: 0.4587 - val_loss: 1.6484 - val_acc: 0.4203\n",
      "Epoch 5/25\n",
      "50000/50000 [==============================] - 8s 153us/step - loss: 1.4906 - acc: 0.4793 - val_loss: 1.6110 - val_acc: 0.4398\n",
      "Epoch 6/25\n",
      "50000/50000 [==============================] - 8s 154us/step - loss: 1.4442 - acc: 0.4948 - val_loss: 1.5715 - val_acc: 0.4487\n",
      "Epoch 7/25\n",
      "50000/50000 [==============================] - 8s 153us/step - loss: 1.4043 - acc: 0.5099 - val_loss: 1.5625 - val_acc: 0.4492\n",
      "Epoch 8/25\n",
      "50000/50000 [==============================] - 8s 154us/step - loss: 1.3695 - acc: 0.5216 - val_loss: 1.5300 - val_acc: 0.4620\n",
      "Epoch 9/25\n",
      "50000/50000 [==============================] - 8s 153us/step - loss: 1.3360 - acc: 0.5352 - val_loss: 1.5158 - val_acc: 0.4667\n",
      "Epoch 10/25\n",
      "50000/50000 [==============================] - 8s 155us/step - loss: 1.3050 - acc: 0.5461 - val_loss: 1.5272 - val_acc: 0.4653\n",
      "Epoch 11/25\n",
      "50000/50000 [==============================] - 8s 154us/step - loss: 1.2780 - acc: 0.5565 - val_loss: 1.5093 - val_acc: 0.4708\n",
      "Epoch 12/25\n",
      "50000/50000 [==============================] - 8s 155us/step - loss: 1.2509 - acc: 0.5650 - val_loss: 1.4963 - val_acc: 0.4804\n",
      "Epoch 13/25\n",
      "50000/50000 [==============================] - 8s 154us/step - loss: 1.2244 - acc: 0.5762 - val_loss: 1.4790 - val_acc: 0.4771\n",
      "Epoch 14/25\n",
      "50000/50000 [==============================] - 8s 154us/step - loss: 1.1975 - acc: 0.5881 - val_loss: 1.4742 - val_acc: 0.4854\n",
      "Epoch 15/25\n",
      "50000/50000 [==============================] - 8s 155us/step - loss: 1.1747 - acc: 0.5941 - val_loss: 1.4724 - val_acc: 0.4821\n",
      "Epoch 16/25\n",
      "50000/50000 [==============================] - 8s 155us/step - loss: 1.1506 - acc: 0.6070 - val_loss: 1.4679 - val_acc: 0.4860\n",
      "Epoch 17/25\n",
      "50000/50000 [==============================] - 8s 155us/step - loss: 1.1286 - acc: 0.6128 - val_loss: 1.4653 - val_acc: 0.4875\n",
      "Epoch 18/25\n",
      "50000/50000 [==============================] - 8s 155us/step - loss: 1.1057 - acc: 0.6204 - val_loss: 1.4707 - val_acc: 0.4822\n",
      "Epoch 19/25\n",
      "50000/50000 [==============================] - 8s 154us/step - loss: 1.0839 - acc: 0.6289 - val_loss: 1.4640 - val_acc: 0.4859\n",
      "Epoch 20/25\n",
      "50000/50000 [==============================] - 8s 155us/step - loss: 1.0607 - acc: 0.6386 - val_loss: 1.4655 - val_acc: 0.4853\n",
      "Epoch 21/25\n",
      "50000/50000 [==============================] - 8s 156us/step - loss: 1.0372 - acc: 0.6480 - val_loss: 1.4659 - val_acc: 0.4880\n",
      "Epoch 22/25\n",
      "50000/50000 [==============================] - 8s 156us/step - loss: 1.0167 - acc: 0.6561 - val_loss: 1.4677 - val_acc: 0.4895\n",
      "Epoch 23/25\n",
      "50000/50000 [==============================] - 8s 157us/step - loss: 0.9964 - acc: 0.6619 - val_loss: 1.4701 - val_acc: 0.4877\n",
      "Epoch 24/25\n",
      "50000/50000 [==============================] - 8s 156us/step - loss: 0.9777 - acc: 0.6712 - val_loss: 1.4669 - val_acc: 0.4887\n",
      "\n",
      "Epoch 00024: ReduceLROnPlateau reducing learning rate to 0.0005000000237487257.\n",
      "Epoch 25/25\n",
      "50000/50000 [==============================] - 8s 154us/step - loss: 0.9497 - acc: 0.6814 - val_loss: 1.4552 - val_acc: 0.4967\n"
     ]
    }
   ],
   "source": [
    "model = build_mlp(input_shape=x_train.shape[1:])\n",
    "model.summary()\n",
    "optimizer = keras.optimizers.SGD(lr=LEARNING_RATE, nesterov=True, momentum=MOMENTUM)\n",
    "model.compile(loss=\"categorical_crossentropy\", metrics=[\"accuracy\"], optimizer=optimizer)\n",
    "\n",
    "model.fit(x_train, y_train, \n",
    "          epochs=EPOCHS, \n",
    "          batch_size=BATCH_SIZE, \n",
    "          validation_data=(x_test, y_test), \n",
    "          shuffle=True,\n",
    "          callbacks=[reduce_lr]\n",
    "         )\n",
    "\n",
    "# Collect results\n",
    "train_loss = model.history.history[\"loss\"]\n",
    "valid_loss = model.history.history[\"val_loss\"]\n",
    "train_acc = model.history.history[\"acc\"]\n",
    "valid_acc = model.history.history[\"val_acc\"]"
   ]
  },
  {
   "cell_type": "code",
   "execution_count": null,
   "metadata": {},
   "outputs": [],
   "source": []
  },
  {
   "cell_type": "code",
   "execution_count": 23,
   "metadata": {},
   "outputs": [],
   "source": [
    "from keras.layers import BatchNormalization\n",
    "\n",
    "\"\"\"\n",
    "建立神經網路，並加入 BN layer\n",
    "\"\"\"\n",
    "def build_mlp(input_shape, output_units=10, num_neurons=[512, 256, 128]):\n",
    "    input_layer = keras.layers.Input(input_shape)\n",
    "    \n",
    "    for i, n_units in enumerate(num_neurons):\n",
    "        if i == 0:\n",
    "            x = keras.layers.Dense(units=n_units, \n",
    "                                   activation=\"relu\", \n",
    "                                   name=\"hidden_layer\"+str(i+1))(input_layer)\n",
    "            x = BatchNormalization()(x)\n",
    "        else:\n",
    "            x = keras.layers.Dense(units=n_units, \n",
    "                                   activation=\"relu\", \n",
    "                                   name=\"hidden_layer\"+str(i+1))(x)\n",
    "            x = BatchNormalization()(x)\n",
    "    \n",
    "    out = keras.layers.Dense(units=output_units, activation=\"softmax\", name=\"output\")(x)\n",
    "    \n",
    "    model = keras.models.Model(inputs=[input_layer], outputs=[out])\n",
    "    return model"
   ]
  },
  {
   "cell_type": "code",
   "execution_count": 24,
   "metadata": {},
   "outputs": [],
   "source": [
    "## 超參數設定\n",
    "LEARNING_RATE = 1e-3\n",
    "EPOCHS = 25\n",
    "BATCH_SIZE = 1024\n",
    "MOMENTUM = 0.95"
   ]
  },
  {
   "cell_type": "code",
   "execution_count": 25,
   "metadata": {},
   "outputs": [],
   "source": [
    "\"\"\"\n",
    "# 載入 Callbacks, 並設定監控目標為 validation loss\n",
    "\"\"\"\n",
    "from keras.callbacks import ReduceLROnPlateau\n",
    "\n",
    "reduce_lr = ReduceLROnPlateau(factor=0.5, \n",
    "                              min_lr=1e-12, \n",
    "                              monitor='val_loss', \n",
    "                              patience=5, \n",
    "                              verbose=1)"
   ]
  },
  {
   "cell_type": "code",
   "execution_count": 28,
   "metadata": {},
   "outputs": [
    {
     "name": "stdout",
     "output_type": "stream",
     "text": [
      "_________________________________________________________________\n",
      "Layer (type)                 Output Shape              Param #   \n",
      "=================================================================\n",
      "input_7 (InputLayer)         (None, 3072)              0         \n",
      "_________________________________________________________________\n",
      "hidden_layer1 (Dense)        (None, 512)               1573376   \n",
      "_________________________________________________________________\n",
      "batch_normalization_19 (Batc (None, 512)               2048      \n",
      "_________________________________________________________________\n",
      "hidden_layer2 (Dense)        (None, 256)               131328    \n",
      "_________________________________________________________________\n",
      "batch_normalization_20 (Batc (None, 256)               1024      \n",
      "_________________________________________________________________\n",
      "hidden_layer3 (Dense)        (None, 128)               32896     \n",
      "_________________________________________________________________\n",
      "batch_normalization_21 (Batc (None, 128)               512       \n",
      "_________________________________________________________________\n",
      "output (Dense)               (None, 10)                1290      \n",
      "=================================================================\n",
      "Total params: 1,742,474\n",
      "Trainable params: 1,740,682\n",
      "Non-trainable params: 1,792\n",
      "_________________________________________________________________\n",
      "Train on 50000 samples, validate on 10000 samples\n",
      "Epoch 1/25\n",
      "50000/50000 [==============================] - 11s 214us/step - loss: 1.7748 - acc: 0.3840 - val_loss: 1.9428 - val_acc: 0.3239\n",
      "Epoch 2/25\n",
      "50000/50000 [==============================] - 8s 161us/step - loss: 1.4881 - acc: 0.4748 - val_loss: 1.8109 - val_acc: 0.3717\n",
      "Epoch 3/25\n",
      "50000/50000 [==============================] - 8s 154us/step - loss: 1.3935 - acc: 0.5092 - val_loss: 1.8241 - val_acc: 0.3506\n",
      "Epoch 4/25\n",
      "50000/50000 [==============================] - 8s 155us/step - loss: 1.3141 - acc: 0.5377 - val_loss: 1.9728 - val_acc: 0.3618\n",
      "Epoch 5/25\n",
      "50000/50000 [==============================] - 8s 157us/step - loss: 1.2502 - acc: 0.5571 - val_loss: 1.7056 - val_acc: 0.3997\n",
      "Epoch 6/25\n",
      "50000/50000 [==============================] - 8s 158us/step - loss: 1.1923 - acc: 0.5793 - val_loss: 1.7953 - val_acc: 0.3740\n",
      "Epoch 7/25\n",
      "50000/50000 [==============================] - 8s 158us/step - loss: 1.1396 - acc: 0.5980 - val_loss: 1.7564 - val_acc: 0.3970\n",
      "Epoch 8/25\n",
      "50000/50000 [==============================] - 8s 159us/step - loss: 1.0915 - acc: 0.6163 - val_loss: 1.9192 - val_acc: 0.3708\n",
      "Epoch 9/25\n",
      "50000/50000 [==============================] - 8s 159us/step - loss: 1.0528 - acc: 0.6291 - val_loss: 1.6695 - val_acc: 0.4175\n",
      "Epoch 10/25\n",
      "50000/50000 [==============================] - 8s 160us/step - loss: 1.0043 - acc: 0.6476 - val_loss: 1.9036 - val_acc: 0.3823\n",
      "Epoch 11/25\n",
      "50000/50000 [==============================] - 8s 160us/step - loss: 0.9755 - acc: 0.6575 - val_loss: 1.7939 - val_acc: 0.4016\n",
      "Epoch 12/25\n",
      "50000/50000 [==============================] - 8s 159us/step - loss: 0.9339 - acc: 0.6718 - val_loss: 1.6759 - val_acc: 0.4254\n",
      "Epoch 13/25\n",
      "50000/50000 [==============================] - 8s 161us/step - loss: 0.8874 - acc: 0.6883 - val_loss: 1.7969 - val_acc: 0.4072\n",
      "Epoch 14/25\n",
      "50000/50000 [==============================] - 8s 162us/step - loss: 0.8582 - acc: 0.7010 - val_loss: 2.1758 - val_acc: 0.3383\n",
      "\n",
      "Epoch 00014: ReduceLROnPlateau reducing learning rate to 0.0005000000237487257.\n",
      "Epoch 15/25\n",
      "50000/50000 [==============================] - 8s 160us/step - loss: 0.7515 - acc: 0.7433 - val_loss: 1.6039 - val_acc: 0.4753\n",
      "Epoch 16/25\n",
      "50000/50000 [==============================] - 8s 161us/step - loss: 0.6870 - acc: 0.7669 - val_loss: 1.4938 - val_acc: 0.4901\n",
      "Epoch 17/25\n",
      "50000/50000 [==============================] - 8s 161us/step - loss: 0.6524 - acc: 0.7824 - val_loss: 1.5821 - val_acc: 0.4836\n",
      "Epoch 18/25\n",
      "50000/50000 [==============================] - 8s 162us/step - loss: 0.6239 - acc: 0.7917 - val_loss: 1.5330 - val_acc: 0.4992\n",
      "Epoch 19/25\n",
      "50000/50000 [==============================] - 8s 161us/step - loss: 0.5982 - acc: 0.8006 - val_loss: 1.7394 - val_acc: 0.4650\n",
      "Epoch 20/25\n",
      "50000/50000 [==============================] - 8s 162us/step - loss: 0.5624 - acc: 0.8161 - val_loss: 1.6109 - val_acc: 0.4951\n",
      "Epoch 21/25\n",
      "50000/50000 [==============================] - 8s 163us/step - loss: 0.5325 - acc: 0.8255 - val_loss: 1.7581 - val_acc: 0.4686\n",
      "\n",
      "Epoch 00021: ReduceLROnPlateau reducing learning rate to 0.0002500000118743628.\n",
      "Epoch 22/25\n",
      "50000/50000 [==============================] - 8s 162us/step - loss: 0.4603 - acc: 0.8599 - val_loss: 1.5814 - val_acc: 0.5119\n",
      "Epoch 23/25\n",
      "50000/50000 [==============================] - 8s 162us/step - loss: 0.4209 - acc: 0.8773 - val_loss: 1.6107 - val_acc: 0.5013\n",
      "Epoch 24/25\n",
      "50000/50000 [==============================] - 8s 162us/step - loss: 0.4007 - acc: 0.8845 - val_loss: 1.6378 - val_acc: 0.5104\n",
      "Epoch 25/25\n",
      "50000/50000 [==============================] - 8s 163us/step - loss: 0.3807 - acc: 0.8929 - val_loss: 1.6882 - val_acc: 0.5061\n"
     ]
    }
   ],
   "source": [
    "model = build_mlp(input_shape=x_train.shape[1:])\n",
    "model.summary()\n",
    "optimizer = keras.optimizers.Adam(lr=LEARNING_RATE)\n",
    "model.compile(loss=\"categorical_crossentropy\", metrics=[\"accuracy\"], optimizer=optimizer)\n",
    "\n",
    "model.fit(x_train, y_train, \n",
    "          epochs=EPOCHS, \n",
    "          batch_size=BATCH_SIZE, \n",
    "          validation_data=(x_test, y_test), \n",
    "          shuffle=True,\n",
    "          callbacks=[reduce_lr]\n",
    "         )\n",
    "\n",
    "# Collect results\n",
    "train_loss = model.history.history[\"loss\"]\n",
    "valid_loss = model.history.history[\"val_loss\"]\n",
    "train_acc = model.history.history[\"acc\"]\n",
    "valid_acc = model.history.history[\"val_acc\"]"
   ]
  },
  {
   "cell_type": "code",
   "execution_count": 29,
   "metadata": {},
   "outputs": [
    {
     "data": {
      "image/png": "[encoded data removed]",
      "text/plain": [
       "<Figure size 432x288 with 1 Axes>"
      ]
     },
     "metadata": {
      "needs_background": "light"
     },
     "output_type": "display_data"
    },
    {
     "data": {
      "image/png": "[encoded data removed]",
      "text/plain": [
       "<Figure size 432x288 with 1 Axes>"
      ]
     },
     "metadata": {
      "needs_background": "light"
     },
     "output_type": "display_data"
    }
   ],
   "source": [
    "import matplotlib.pyplot as plt\n",
    "%matplotlib inline\n",
    "\n",
    "plt.plot(range(len(train_loss)), train_loss, label=\"train loss\")\n",
    "plt.plot(range(len(valid_loss)), valid_loss, label=\"valid loss\")\n",
    "plt.legend()\n",
    "plt.title(\"Loss\")\n",
    "plt.show()\n",
    "\n",
    "plt.plot(range(len(train_acc)), train_acc, label=\"train accuracy\")\n",
    "plt.plot(range(len(valid_acc)), valid_acc, label=\"valid accuracy\")\n",
    "plt.legend()\n",
    "plt.title(\"Accuracy\")\n",
    "plt.show()"
   ]
  },
  {
   "cell_type": "code",
   "execution_count": 30,
   "metadata": {},
   "outputs": [],
   "source": [
    "from keras.layers import BatchNormalization\n",
    "\n",
    "\"\"\"\n",
    "建立神經網路，並加入 BN layer\n",
    "\"\"\"\n",
    "def build_mlp(input_shape, output_units=10, num_neurons=[512, 256, 128]):\n",
    "    input_layer = keras.layers.Input(input_shape)\n",
    "    \n",
    "    for i, n_units in enumerate(num_neurons):\n",
    "        if i == 0:\n",
    "            x = keras.layers.Dense(units=n_units, \n",
    "                                   activation=\"relu\", \n",
    "                                   name=\"hidden_layer\"+str(i+1))(input_layer)\n",
    "            x = BatchNormalization()(x)\n",
    "        else:\n",
    "            x = keras.layers.Dense(units=n_units, \n",
    "                                   activation=\"relu\", \n",
    "                                   name=\"hidden_layer\"+str(i+1))(x)\n",
    "            x = BatchNormalization()(x)\n",
    "    \n",
    "    out = keras.layers.Dense(units=output_units, activation=\"softmax\", name=\"output\")(x)\n",
    "    \n",
    "    model = keras.models.Model(inputs=[input_layer], outputs=[out])\n",
    "    return model"
   ]
  },
  {
   "cell_type": "code",
   "execution_count": 31,
   "metadata": {},
   "outputs": [],
   "source": [
    "## 超參數設定\n",
    "LEARNING_RATE = 1e-3\n",
    "EPOCHS = 25\n",
    "BATCH_SIZE = 1024\n",
    "MOMENTUM = 0.95"
   ]
  },
  {
   "cell_type": "code",
   "execution_count": 32,
   "metadata": {},
   "outputs": [],
   "source": [
    "\"\"\"\n",
    "# 載入 Callbacks, 並設定監控目標為 validation loss\n",
    "\"\"\"\n",
    "from keras.callbacks import ReduceLROnPlateau\n",
    "\n",
    "reduce_lr = ReduceLROnPlateau(factor=0.5, \n",
    "                              min_lr=1e-12, \n",
    "                              monitor='val_loss', \n",
    "                              patience=5, \n",
    "                              verbose=1)"
   ]
  },
  {
   "cell_type": "code",
   "execution_count": 33,
   "metadata": {},
   "outputs": [
    {
     "name": "stdout",
     "output_type": "stream",
     "text": [
      "_________________________________________________________________\n",
      "Layer (type)                 Output Shape              Param #   \n",
      "=================================================================\n",
      "input_8 (InputLayer)         (None, 3072)              0         \n",
      "_________________________________________________________________\n",
      "hidden_layer1 (Dense)        (None, 512)               1573376   \n",
      "_________________________________________________________________\n",
      "batch_normalization_22 (Batc (None, 512)               2048      \n",
      "_________________________________________________________________\n",
      "hidden_layer2 (Dense)        (None, 256)               131328    \n",
      "_________________________________________________________________\n",
      "batch_normalization_23 (Batc (None, 256)               1024      \n",
      "_________________________________________________________________\n",
      "hidden_layer3 (Dense)        (None, 128)               32896     \n",
      "_________________________________________________________________\n",
      "batch_normalization_24 (Batc (None, 128)               512       \n",
      "_________________________________________________________________\n",
      "output (Dense)               (None, 10)                1290      \n",
      "=================================================================\n",
      "Total params: 1,742,474\n",
      "Trainable params: 1,740,682\n",
      "Non-trainable params: 1,792\n",
      "_________________________________________________________________\n",
      "Train on 50000 samples, validate on 10000 samples\n",
      "Epoch 1/25\n",
      "50000/50000 [==============================] - 9s 186us/step - loss: 1.8062 - acc: 0.3727 - val_loss: 2.2496 - val_acc: 0.2924\n",
      "Epoch 2/25\n",
      "50000/50000 [==============================] - 7s 146us/step - loss: 1.5363 - acc: 0.4576 - val_loss: 2.6254 - val_acc: 0.2811\n",
      "Epoch 3/25\n",
      "50000/50000 [==============================] - 7s 148us/step - loss: 1.4290 - acc: 0.4954 - val_loss: 2.3165 - val_acc: 0.2861\n",
      "Epoch 4/25\n",
      "50000/50000 [==============================] - 7s 149us/step - loss: 1.3609 - acc: 0.5207 - val_loss: 2.0925 - val_acc: 0.3149\n",
      "Epoch 5/25\n",
      "50000/50000 [==============================] - 8s 150us/step - loss: 1.2983 - acc: 0.5408 - val_loss: 1.9167 - val_acc: 0.3445\n",
      "Epoch 6/25\n",
      "50000/50000 [==============================] - 8s 151us/step - loss: 1.2405 - acc: 0.5648 - val_loss: 2.0768 - val_acc: 0.3343\n",
      "Epoch 7/25\n",
      "50000/50000 [==============================] - 8s 153us/step - loss: 1.2020 - acc: 0.5759 - val_loss: 1.9133 - val_acc: 0.3470\n",
      "Epoch 8/25\n",
      "50000/50000 [==============================] - 8s 152us/step - loss: 1.1577 - acc: 0.5911 - val_loss: 1.8323 - val_acc: 0.3529\n",
      "Epoch 9/25\n",
      "50000/50000 [==============================] - 8s 154us/step - loss: 1.1153 - acc: 0.6072 - val_loss: 2.1525 - val_acc: 0.3294\n",
      "Epoch 10/25\n",
      "50000/50000 [==============================] - 8s 154us/step - loss: 1.0819 - acc: 0.6206 - val_loss: 1.8499 - val_acc: 0.3821\n",
      "Epoch 11/25\n",
      "50000/50000 [==============================] - 8s 154us/step - loss: 1.0481 - acc: 0.6310 - val_loss: 2.2724 - val_acc: 0.3338\n",
      "Epoch 12/25\n",
      "50000/50000 [==============================] - 8s 155us/step - loss: 1.0126 - acc: 0.6445 - val_loss: 1.9658 - val_acc: 0.3686\n",
      "Epoch 13/25\n",
      "50000/50000 [==============================] - 8s 156us/step - loss: 0.9797 - acc: 0.6549 - val_loss: 1.7738 - val_acc: 0.4060\n",
      "Epoch 14/25\n",
      "50000/50000 [==============================] - 8s 156us/step - loss: 0.9493 - acc: 0.6688 - val_loss: 1.6628 - val_acc: 0.4487\n",
      "Epoch 15/25\n",
      "50000/50000 [==============================] - 8s 158us/step - loss: 0.9216 - acc: 0.6762 - val_loss: 1.8783 - val_acc: 0.4011\n",
      "Epoch 16/25\n",
      "50000/50000 [==============================] - 8s 156us/step - loss: 0.8853 - acc: 0.6925 - val_loss: 2.0139 - val_acc: 0.3923\n",
      "Epoch 17/25\n",
      "50000/50000 [==============================] - 8s 157us/step - loss: 0.8602 - acc: 0.7001 - val_loss: 2.1286 - val_acc: 0.3667\n",
      "Epoch 18/25\n",
      "50000/50000 [==============================] - 8s 157us/step - loss: 0.8350 - acc: 0.7082 - val_loss: 1.8546 - val_acc: 0.4226\n",
      "Epoch 19/25\n",
      "50000/50000 [==============================] - 8s 157us/step - loss: 0.8079 - acc: 0.7174 - val_loss: 2.0719 - val_acc: 0.3961\n",
      "\n",
      "Epoch 00019: ReduceLROnPlateau reducing learning rate to 0.0005000000237487257.\n",
      "Epoch 20/25\n",
      "50000/50000 [==============================] - 8s 157us/step - loss: 0.6811 - acc: 0.7716 - val_loss: 1.5959 - val_acc: 0.4781\n",
      "Epoch 21/25\n",
      "50000/50000 [==============================] - 8s 159us/step - loss: 0.6454 - acc: 0.7842 - val_loss: 1.5761 - val_acc: 0.4969\n",
      "Epoch 22/25\n",
      "50000/50000 [==============================] - 8s 158us/step - loss: 0.6186 - acc: 0.7934 - val_loss: 1.5370 - val_acc: 0.5011\n",
      "Epoch 23/25\n",
      "50000/50000 [==============================] - 8s 159us/step - loss: 0.5921 - acc: 0.8027 - val_loss: 1.6156 - val_acc: 0.4940\n",
      "Epoch 24/25\n",
      "50000/50000 [==============================] - 8s 158us/step - loss: 0.5685 - acc: 0.8112 - val_loss: 1.6619 - val_acc: 0.4939\n",
      "Epoch 25/25\n",
      "50000/50000 [==============================] - 8s 158us/step - loss: 0.5500 - acc: 0.8205 - val_loss: 1.6015 - val_acc: 0.5086\n"
     ]
    }
   ],
   "source": [
    "model = build_mlp(input_shape=x_train.shape[1:])\n",
    "model.summary()\n",
    "optimizer = keras.optimizers.RMSprop(lr=LEARNING_RATE)\n",
    "model.compile(loss=\"categorical_crossentropy\", metrics=[\"accuracy\"], optimizer=optimizer)\n",
    "\n",
    "model.fit(x_train, y_train, \n",
    "          epochs=EPOCHS, \n",
    "          batch_size=BATCH_SIZE, \n",
    "          validation_data=(x_test, y_test), \n",
    "          shuffle=True,\n",
    "          callbacks=[reduce_lr]\n",
    "         )\n",
    "\n",
    "# Collect results\n",
    "train_loss = model.history.history[\"loss\"]\n",
    "valid_loss = model.history.history[\"val_loss\"]\n",
    "train_acc = model.history.history[\"acc\"]\n",
    "valid_acc = model.history.history[\"val_acc\"]"
   ]
  },
  {
   "cell_type": "code",
   "execution_count": 34,
   "metadata": {},
   "outputs": [
    {
     "data": {
      "image/png": "[encoded data removed]",
      "text/plain": [
       "<Figure size 432x288 with 1 Axes>"
      ]
     },
     "metadata": {
      "needs_background": "light"
     },
     "output_type": "display_data"
    },
    {
     "data": {
      "image/png": "[encoded data removed]",
      "text/plain": [
       "<Figure size 432x288 with 1 Axes>"
      ]
     },
     "metadata": {
      "needs_background": "light"
     },
     "output_type": "display_data"
    }
   ],
   "source": [
    "import matplotlib.pyplot as plt\n",
    "%matplotlib inline\n",
    "\n",
    "plt.plot(range(len(train_loss)), train_loss, label=\"train loss\")\n",
    "plt.plot(range(len(valid_loss)), valid_loss, label=\"valid loss\")\n",
    "plt.legend()\n",
    "plt.title(\"Loss\")\n",
    "plt.show()\n",
    "\n",
    "plt.plot(range(len(train_acc)), train_acc, label=\"train accuracy\")\n",
    "plt.plot(range(len(valid_acc)), valid_acc, label=\"valid accuracy\")\n",
    "plt.legend()\n",
    "plt.title(\"Accuracy\")\n",
    "plt.show()"
   ]
  },
  {
   "cell_type": "code",
   "execution_count": null,
   "metadata": {},
   "outputs": [],
   "source": []
  }
 ],
 "metadata": {
  "kernelspec": {
   "display_name": "Python 3",
   "language": "python",
   "name": "python3"
  },
  "language_info": {
   "codemirror_mode": {
    "name": "ipython",
    "version": 3
   },
   "file_extension": ".py",
   "mimetype": "text/x-python",
   "name": "python",
   "nbconvert_exporter": "python",
   "pygments_lexer": "ipython3",
   "version": "3.7.3"
  }
 },
 "nbformat": 4,
 "nbformat_minor": 2
}
