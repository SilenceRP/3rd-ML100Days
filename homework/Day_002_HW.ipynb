{
 "cells": [
  {
   "cell_type": "markdown",
   "metadata": {},
   "source": [
    "## [作業目標]\n",
    "了解機器學習適合應用的領域與範疇。"
   ]
  },
  {
   "cell_type": "markdown",
   "metadata": {},
   "source": [
    "## [作業重點]\n",
    "透過瞭解機器學習的運作方式，找出非常適用機器學習應用的領域及其原因"
   ]
  },
  {
   "cell_type": "markdown",
   "metadata": {},
   "source": [
    "## 作業\n",
    "請找出一個你認為機器學習可以發光發熱的領域並闡述原因? "
   ]
  },
  {
   "cell_type": "markdown",
   "metadata": {},
   "source": [
    "# 作業 "
   ]
  },
  {
   "cell_type": "code",
   "execution_count": null,
   "metadata": {},
   "outputs": [],
   "source": [
    "# Ans\n",
    "\n",
    "# 金融產業的放貸金額。金融產業因為掌握多數人的存款名單，因此在資料眾多的情形下，可以透過機器學習相關演算法，\n",
    "# 建立出放貸模型，ex：學歷、職業屬性、每月收入、年所得以及相關個人基本資料。在這些大量資料的情況下，可以建立\n",
    "# 出各個不同行為特徵的預測模式。在模型完成後，嵌入所屬的資料分析系統中，當後續人們有借貸需求時，只需將此客戶的\n",
    "# 相關資料輸入電腦，就可以透過先前建立的機器學習模型，來預測此人可核算的貸款金額。\n",
    "\n"
   ]
  }
 ],
 "metadata": {
  "kernelspec": {
   "display_name": "Python 3",
   "language": "python",
   "name": "python3"
  },
  "language_info": {
   "codemirror_mode": {
    "name": "ipython",
    "version": 3
   },
   "file_extension": ".py",
   "mimetype": "text/x-python",
   "name": "python",
   "nbconvert_exporter": "python",
   "pygments_lexer": "ipython3",
   "version": "3.7.3"
  }
 },
 "nbformat": 4,
 "nbformat_minor": 2
}
