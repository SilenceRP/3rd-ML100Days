{
 "cells": [
  {
   "cell_type": "markdown",
   "metadata": {},
   "source": [
    "## Work\n",
    "1. 試比較 save_best_only 與否的差異\n",
    "2. 請僅存入將 save_weights_only 設定為 True, 並嘗試 reset ipynb 並將模型與權重重新建回並預測 x_test"
   ]
  },
  {
   "cell_type": "code",
   "execution_count": 1,
   "metadata": {},
   "outputs": [
    {
     "name": "stderr",
     "output_type": "stream",
     "text": [
      "Using TensorFlow backend.\n"
     ]
    }
   ],
   "source": [
    "import os\n",
    "import keras\n",
    "\n",
    "# Disable GPU\n",
    "os.environ[\"CUDA_VISIBLE_DEVICES\"] = \"\""
   ]
  },
  {
   "cell_type": "code",
   "execution_count": 2,
   "metadata": {},
   "outputs": [],
   "source": [
    "train, test = keras.datasets.cifar10.load_data()"
   ]
  },
  {
   "cell_type": "code",
   "execution_count": 3,
   "metadata": {},
   "outputs": [],
   "source": [
    "## 資料前處理\n",
    "def preproc_x(x, flatten=True):\n",
    "    x = x / 255.\n",
    "    if flatten:\n",
    "        x = x.reshape((len(x), -1))\n",
    "    return x\n",
    "\n",
    "def preproc_y(y, num_classes=10):\n",
    "    if y.shape[-1] == 1:\n",
    "        y = keras.utils.to_categorical(y, num_classes)\n",
    "    return y    "
   ]
  },
  {
   "cell_type": "code",
   "execution_count": 4,
   "metadata": {},
   "outputs": [],
   "source": [
    "x_train, y_train = train\n",
    "x_test, y_test = test\n",
    "\n",
    "# Preproc the inputs\n",
    "x_train = preproc_x(x_train)\n",
    "x_test = preproc_x(x_test)\n",
    "\n",
    "# Preprc the outputs\n",
    "y_train = preproc_y(y_train)\n",
    "y_test = preproc_y(y_test)"
   ]
  },
  {
   "cell_type": "code",
   "execution_count": 8,
   "metadata": {},
   "outputs": [],
   "source": [
    "from keras.layers import BatchNormalization\n",
    "\n",
    "\"\"\"\n",
    "建立神經網路，並加入 BN layer\n",
    "\"\"\"\n",
    "def build_mlp(input_shape, output_units=10, num_neurons=[512, 256, 128]):\n",
    "    input_layer = keras.layers.Input(input_shape)\n",
    "    \n",
    "    for i, n_units in enumerate(num_neurons):\n",
    "        if i == 0:\n",
    "            x = keras.layers.Dense(units=n_units, \n",
    "                                   activation=\"relu\", \n",
    "                                   name=\"hidden_layer\"+str(i+1))(input_layer)\n",
    "            x = BatchNormalization()(x)\n",
    "        else:\n",
    "            x = keras.layers.Dense(units=n_units, \n",
    "                                   activation=\"relu\", \n",
    "                                   name=\"hidden_layer\"+str(i+1))(x)\n",
    "            x = BatchNormalization()(x)\n",
    "    \n",
    "    out = keras.layers.Dense(units=output_units, activation=\"softmax\", name=\"output\")(x)\n",
    "    \n",
    "    model = keras.models.Model(inputs=[input_layer], outputs=[out])\n",
    "    return model"
   ]
  },
  {
   "cell_type": "code",
   "execution_count": 9,
   "metadata": {},
   "outputs": [],
   "source": [
    "## 超參數設定\n",
    "LEARNING_RATE = 1e-3\n",
    "EPOCHS = 25\n",
    "BATCH_SIZE = 1024\n",
    "MOMENTUM = 0.95"
   ]
  },
  {
   "cell_type": "code",
   "execution_count": 10,
   "metadata": {},
   "outputs": [],
   "source": [
    "\"\"\"\n",
    "# 載入 Callbacks, 並將監控目標設為 validation loss, 且只存最佳參數時的模型\n",
    "\"\"\"\n",
    "from keras.callbacks import ModelCheckpoint\n",
    "\n",
    "model_ckpt = ModelCheckpoint(filepath=\"./tmp.h5\", \n",
    "                             monitor=\"val_loss\", \n",
    "                             save_best_only=False)"
   ]
  },
  {
   "cell_type": "code",
   "execution_count": 11,
   "metadata": {},
   "outputs": [
    {
     "name": "stdout",
     "output_type": "stream",
     "text": [
      "_________________________________________________________________\n",
      "Layer (type)                 Output Shape              Param #   \n",
      "=================================================================\n",
      "input_2 (InputLayer)         (None, 3072)              0         \n",
      "_________________________________________________________________\n",
      "hidden_layer1 (Dense)        (None, 512)               1573376   \n",
      "_________________________________________________________________\n",
      "batch_normalization_4 (Batch (None, 512)               2048      \n",
      "_________________________________________________________________\n",
      "hidden_layer2 (Dense)        (None, 256)               131328    \n",
      "_________________________________________________________________\n",
      "batch_normalization_5 (Batch (None, 256)               1024      \n",
      "_________________________________________________________________\n",
      "hidden_layer3 (Dense)        (None, 128)               32896     \n",
      "_________________________________________________________________\n",
      "batch_normalization_6 (Batch (None, 128)               512       \n",
      "_________________________________________________________________\n",
      "output (Dense)               (None, 10)                1290      \n",
      "=================================================================\n",
      "Total params: 1,742,474\n",
      "Trainable params: 1,740,682\n",
      "Non-trainable params: 1,792\n",
      "_________________________________________________________________\n",
      "WARNING:tensorflow:From C:\\Anaconda3\\lib\\site-packages\\tensorflow\\python\\ops\\math_ops.py:3066: to_int32 (from tensorflow.python.ops.math_ops) is deprecated and will be removed in a future version.\n",
      "Instructions for updating:\n",
      "Use tf.cast instead.\n",
      "Train on 50000 samples, validate on 10000 samples\n",
      "Epoch 1/25\n",
      "50000/50000 [==============================] - 9s 173us/step - loss: 2.2077 - acc: 0.2680 - val_loss: 2.1026 - val_acc: 0.3112\n",
      "Epoch 2/25\n",
      "50000/50000 [==============================] - 7s 146us/step - loss: 1.7412 - acc: 0.3900 - val_loss: 1.8036 - val_acc: 0.3754\n",
      "Epoch 3/25\n",
      "50000/50000 [==============================] - 9s 187us/step - loss: 1.6240 - acc: 0.4308 - val_loss: 1.6863 - val_acc: 0.4058\n",
      "Epoch 4/25\n",
      "50000/50000 [==============================] - 10s 193us/step - loss: 1.5523 - acc: 0.4564 - val_loss: 1.6342 - val_acc: 0.4209\n",
      "Epoch 5/25\n",
      "50000/50000 [==============================] - 9s 179us/step - loss: 1.4996 - acc: 0.4750 - val_loss: 1.5863 - val_acc: 0.4463\n",
      "Epoch 6/25\n",
      "50000/50000 [==============================] - 9s 176us/step - loss: 1.4556 - acc: 0.4919 - val_loss: 1.5745 - val_acc: 0.4505\n",
      "Epoch 7/25\n",
      "50000/50000 [==============================] - 9s 175us/step - loss: 1.4170 - acc: 0.5059 - val_loss: 1.5419 - val_acc: 0.4615\n",
      "Epoch 8/25\n",
      "50000/50000 [==============================] - 9s 177us/step - loss: 1.3831 - acc: 0.5178 - val_loss: 1.5433 - val_acc: 0.4618\n",
      "Epoch 9/25\n",
      "50000/50000 [==============================] - 9s 177us/step - loss: 1.3525 - acc: 0.5288 - val_loss: 1.5225 - val_acc: 0.4626\n",
      "Epoch 10/25\n",
      "50000/50000 [==============================] - 9s 177us/step - loss: 1.3221 - acc: 0.5397 - val_loss: 1.5064 - val_acc: 0.4686\n",
      "Epoch 11/25\n",
      "50000/50000 [==============================] - 9s 176us/step - loss: 1.2958 - acc: 0.5491 - val_loss: 1.5074 - val_acc: 0.4688\n",
      "Epoch 12/25\n",
      "50000/50000 [==============================] - 9s 177us/step - loss: 1.2704 - acc: 0.5598 - val_loss: 1.4868 - val_acc: 0.4787\n",
      "Epoch 13/25\n",
      "50000/50000 [==============================] - 9s 177us/step - loss: 1.2434 - acc: 0.5692 - val_loss: 1.4821 - val_acc: 0.4804\n",
      "Epoch 14/25\n",
      "50000/50000 [==============================] - 9s 177us/step - loss: 1.2213 - acc: 0.5781 - val_loss: 1.4681 - val_acc: 0.4863\n",
      "Epoch 15/25\n",
      "50000/50000 [==============================] - 9s 179us/step - loss: 1.1995 - acc: 0.5861 - val_loss: 1.4732 - val_acc: 0.4835\n",
      "Epoch 16/25\n",
      "50000/50000 [==============================] - 9s 179us/step - loss: 1.1762 - acc: 0.5964 - val_loss: 1.4658 - val_acc: 0.4889\n",
      "Epoch 17/25\n",
      "50000/50000 [==============================] - 9s 177us/step - loss: 1.1534 - acc: 0.6037 - val_loss: 1.4703 - val_acc: 0.4885\n",
      "Epoch 18/25\n",
      "50000/50000 [==============================] - 9s 177us/step - loss: 1.1328 - acc: 0.6124 - val_loss: 1.4569 - val_acc: 0.4906\n",
      "Epoch 19/25\n",
      "50000/50000 [==============================] - 9s 178us/step - loss: 1.1124 - acc: 0.6202 - val_loss: 1.4588 - val_acc: 0.4886\n",
      "Epoch 20/25\n",
      "50000/50000 [==============================] - 9s 183us/step - loss: 1.0907 - acc: 0.6278 - val_loss: 1.4648 - val_acc: 0.4915\n",
      "Epoch 21/25\n",
      "50000/50000 [==============================] - 10s 197us/step - loss: 1.0689 - acc: 0.6371 - val_loss: 1.4506 - val_acc: 0.4964\n",
      "Epoch 22/25\n",
      "50000/50000 [==============================] - 9s 178us/step - loss: 1.0493 - acc: 0.6450 - val_loss: 1.4602 - val_acc: 0.4926\n",
      "Epoch 23/25\n",
      "50000/50000 [==============================] - 9s 182us/step - loss: 1.0291 - acc: 0.6526 - val_loss: 1.4708 - val_acc: 0.4913\n",
      "Epoch 24/25\n",
      "50000/50000 [==============================] - 10s 191us/step - loss: 1.0105 - acc: 0.6611 - val_loss: 1.4571 - val_acc: 0.4993\n",
      "Epoch 25/25\n",
      "50000/50000 [==============================] - 9s 186us/step - loss: 0.9898 - acc: 0.6677 - val_loss: 1.4551 - val_acc: 0.4968\n",
      "10000/10000 [==============================] - 1s 150us/step\n"
     ]
    }
   ],
   "source": [
    "model = build_mlp(input_shape=x_train.shape[1:])\n",
    "model.summary()\n",
    "optimizer = keras.optimizers.SGD(lr=LEARNING_RATE, nesterov=True, momentum=MOMENTUM)\n",
    "model.compile(loss=\"categorical_crossentropy\", metrics=[\"accuracy\"], optimizer=optimizer)\n",
    "\n",
    "model.fit(x_train, y_train, \n",
    "          epochs=EPOCHS, \n",
    "          batch_size=BATCH_SIZE, \n",
    "          validation_data=(x_test, y_test), \n",
    "          shuffle=True,\n",
    "          callbacks=[model_ckpt]\n",
    "         )\n",
    "\n",
    "# Collect results\n",
    "train_loss = model.history.history[\"loss\"]\n",
    "valid_loss = model.history.history[\"val_loss\"]\n",
    "train_acc = model.history.history[\"acc\"]\n",
    "valid_acc = model.history.history[\"val_acc\"]\n",
    "\n",
    "# Load back\n",
    "model = keras.models.load_model(\"./tmp.h5\")\n",
    "loss_loadback, acc_loadback = model.evaluate(x_test, y_test)"
   ]
  },
  {
   "cell_type": "code",
   "execution_count": 12,
   "metadata": {
    "scrolled": true
   },
   "outputs": [
    {
     "data": {
      "image/png": "[encoded data removed]",
      "text/plain": [
       "<Figure size 432x288 with 1 Axes>"
      ]
     },
     "metadata": {
      "needs_background": "light"
     },
     "output_type": "display_data"
    },
    {
     "data": {
      "image/png": "[encoded data removed]",
      "text/plain": [
       "<Figure size 432x288 with 1 Axes>"
      ]
     },
     "metadata": {
      "needs_background": "light"
     },
     "output_type": "display_data"
    }
   ],
   "source": [
    "import matplotlib.pyplot as plt\n",
    "%matplotlib inline\n",
    "\n",
    "plt.plot(range(len(train_loss)), train_loss, label=\"train loss\")\n",
    "plt.plot(range(len(valid_loss)), valid_loss, label=\"valid loss\")\n",
    "plt.hlines(y=loss_loadback, xmin=0, xmax=len(train_loss), colors='r', linestyles='--')\n",
    "plt.legend()\n",
    "plt.title(\"Loss\")\n",
    "plt.show()\n",
    "\n",
    "plt.plot(range(len(train_acc)), train_acc, label=\"train accuracy\")\n",
    "plt.plot(range(len(valid_acc)), valid_acc, label=\"valid accuracy\")\n",
    "plt.hlines(y=acc_loadback, xmin=0, xmax=len(train_loss), colors='r', linestyles='--')\n",
    "plt.legend()\n",
    "plt.title(\"Accuracy\")\n",
    "plt.show()"
   ]
  },
  {
   "cell_type": "code",
   "execution_count": null,
   "metadata": {},
   "outputs": [],
   "source": [
    "# 請僅存入將 save_weights_only 設定為 True, 並嘗試 reset ipynb 並將模型與權重重新建回並預測 x_test"
   ]
  },
  {
   "cell_type": "code",
   "execution_count": 15,
   "metadata": {},
   "outputs": [],
   "source": [
    "from keras.layers import BatchNormalization\n",
    "\n",
    "\"\"\"\n",
    "建立神經網路，並加入 BN layer\n",
    "\"\"\"\n",
    "def build_mlp(input_shape, output_units=10, num_neurons=[512, 256, 128]):\n",
    "    input_layer = keras.layers.Input(input_shape)\n",
    "    \n",
    "    for i, n_units in enumerate(num_neurons):\n",
    "        if i == 0:\n",
    "            x = keras.layers.Dense(units=n_units, \n",
    "                                   activation=\"relu\", \n",
    "                                   name=\"hidden_layer\"+str(i+1))(input_layer)\n",
    "            x = BatchNormalization()(x)\n",
    "        else:\n",
    "            x = keras.layers.Dense(units=n_units, \n",
    "                                   activation=\"relu\", \n",
    "                                   name=\"hidden_layer\"+str(i+1))(x)\n",
    "            x = BatchNormalization()(x)\n",
    "    \n",
    "    out = keras.layers.Dense(units=output_units, activation=\"softmax\", name=\"output\")(x)\n",
    "    \n",
    "    model = keras.models.Model(inputs=[input_layer], outputs=[out])\n",
    "    return model"
   ]
  },
  {
   "cell_type": "code",
   "execution_count": 16,
   "metadata": {},
   "outputs": [],
   "source": [
    "## 超參數設定\n",
    "LEARNING_RATE = 1e-3\n",
    "EPOCHS = 25\n",
    "BATCH_SIZE = 1024\n",
    "MOMENTUM = 0.95"
   ]
  },
  {
   "cell_type": "code",
   "execution_count": 17,
   "metadata": {},
   "outputs": [],
   "source": [
    "\"\"\"\n",
    "# 載入 Callbacks, 並將監控目標設為 validation loss, 且只存最佳參數時的模型\n",
    "\"\"\"\n",
    "from keras.callbacks import ModelCheckpoint\n",
    "\n",
    "model_ckpt = ModelCheckpoint(filepath=\"./tmp.h5\", \n",
    "                             monitor=\"val_loss\", \n",
    "                             save_best_only=True,\n",
    "                             save_weights_only=True)"
   ]
  },
  {
   "cell_type": "code",
   "execution_count": 19,
   "metadata": {},
   "outputs": [
    {
     "name": "stdout",
     "output_type": "stream",
     "text": [
      "_________________________________________________________________\n",
      "Layer (type)                 Output Shape              Param #   \n",
      "=================================================================\n",
      "input_5 (InputLayer)         (None, 3072)              0         \n",
      "_________________________________________________________________\n",
      "hidden_layer1 (Dense)        (None, 512)               1573376   \n",
      "_________________________________________________________________\n",
      "batch_normalization_13 (Batc (None, 512)               2048      \n",
      "_________________________________________________________________\n",
      "hidden_layer2 (Dense)        (None, 256)               131328    \n",
      "_________________________________________________________________\n",
      "batch_normalization_14 (Batc (None, 256)               1024      \n",
      "_________________________________________________________________\n",
      "hidden_layer3 (Dense)        (None, 128)               32896     \n",
      "_________________________________________________________________\n",
      "batch_normalization_15 (Batc (None, 128)               512       \n",
      "_________________________________________________________________\n",
      "output (Dense)               (None, 10)                1290      \n",
      "=================================================================\n",
      "Total params: 1,742,474\n",
      "Trainable params: 1,740,682\n",
      "Non-trainable params: 1,792\n",
      "_________________________________________________________________\n",
      "Train on 50000 samples, validate on 10000 samples\n",
      "Epoch 1/25\n",
      "50000/50000 [==============================] - 9s 188us/step - loss: 2.2133 - acc: 0.2661 - val_loss: 2.1385 - val_acc: 0.3185\n",
      "Epoch 2/25\n",
      "50000/50000 [==============================] - 7s 149us/step - loss: 1.7455 - acc: 0.3913 - val_loss: 1.8048 - val_acc: 0.3855\n",
      "Epoch 3/25\n",
      "50000/50000 [==============================] - 8s 152us/step - loss: 1.6240 - acc: 0.4318 - val_loss: 1.6745 - val_acc: 0.4117\n",
      "Epoch 4/25\n",
      "50000/50000 [==============================] - 8s 153us/step - loss: 1.5533 - acc: 0.4557 - val_loss: 1.6295 - val_acc: 0.4271\n",
      "Epoch 5/25\n",
      "50000/50000 [==============================] - 8s 154us/step - loss: 1.4979 - acc: 0.4779 - val_loss: 1.5949 - val_acc: 0.4389\n",
      "Epoch 6/25\n",
      "50000/50000 [==============================] - 8s 154us/step - loss: 1.4510 - acc: 0.4924 - val_loss: 1.5698 - val_acc: 0.4426\n",
      "Epoch 7/25\n",
      "50000/50000 [==============================] - 8s 155us/step - loss: 1.4134 - acc: 0.5069 - val_loss: 1.5424 - val_acc: 0.4551\n",
      "Epoch 8/25\n",
      "50000/50000 [==============================] - 8s 155us/step - loss: 1.3767 - acc: 0.5215 - val_loss: 1.5325 - val_acc: 0.4572\n",
      "Epoch 9/25\n",
      "50000/50000 [==============================] - 8s 156us/step - loss: 1.3432 - acc: 0.5323 - val_loss: 1.5168 - val_acc: 0.4625\n",
      "Epoch 10/25\n",
      "50000/50000 [==============================] - 8s 155us/step - loss: 1.3132 - acc: 0.5434 - val_loss: 1.4970 - val_acc: 0.4659\n",
      "Epoch 11/25\n",
      "50000/50000 [==============================] - 8s 158us/step - loss: 1.2836 - acc: 0.5565 - val_loss: 1.4829 - val_acc: 0.4770\n",
      "Epoch 12/25\n",
      "50000/50000 [==============================] - 8s 161us/step - loss: 1.2565 - acc: 0.5652 - val_loss: 1.4819 - val_acc: 0.4728\n",
      "Epoch 13/25\n",
      "50000/50000 [==============================] - 8s 155us/step - loss: 1.2308 - acc: 0.5738 - val_loss: 1.4785 - val_acc: 0.4748\n",
      "Epoch 14/25\n",
      "50000/50000 [==============================] - 8s 160us/step - loss: 1.2058 - acc: 0.5821 - val_loss: 1.4713 - val_acc: 0.4774\n",
      "Epoch 15/25\n",
      "50000/50000 [==============================] - 9s 171us/step - loss: 1.1815 - acc: 0.5936 - val_loss: 1.4684 - val_acc: 0.4835\n",
      "Epoch 16/25\n",
      "50000/50000 [==============================] - 8s 160us/step - loss: 1.1583 - acc: 0.6009 - val_loss: 1.4601 - val_acc: 0.4790\n",
      "Epoch 17/25\n",
      "50000/50000 [==============================] - 8s 163us/step - loss: 1.1344 - acc: 0.6104 - val_loss: 1.4542 - val_acc: 0.4847\n",
      "Epoch 18/25\n",
      "50000/50000 [==============================] - 8s 156us/step - loss: 1.1102 - acc: 0.6204 - val_loss: 1.4628 - val_acc: 0.4860\n",
      "Epoch 19/25\n",
      "50000/50000 [==============================] - 8s 156us/step - loss: 1.0882 - acc: 0.6288 - val_loss: 1.4570 - val_acc: 0.4861\n",
      "Epoch 20/25\n",
      "50000/50000 [==============================] - 8s 156us/step - loss: 1.0672 - acc: 0.6378 - val_loss: 1.4567 - val_acc: 0.4877\n",
      "Epoch 21/25\n",
      "50000/50000 [==============================] - 8s 157us/step - loss: 1.0444 - acc: 0.6457 - val_loss: 1.4519 - val_acc: 0.4910\n",
      "Epoch 22/25\n",
      "50000/50000 [==============================] - 8s 155us/step - loss: 1.0222 - acc: 0.6546 - val_loss: 1.4509 - val_acc: 0.4887\n",
      "Epoch 23/25\n",
      "50000/50000 [==============================] - 8s 156us/step - loss: 1.0025 - acc: 0.6619 - val_loss: 1.4497 - val_acc: 0.4934\n",
      "Epoch 24/25\n",
      "50000/50000 [==============================] - 8s 169us/step - loss: 0.9829 - acc: 0.6688 - val_loss: 1.4649 - val_acc: 0.4955\n",
      "Epoch 25/25\n",
      "50000/50000 [==============================] - 9s 171us/step - loss: 0.9591 - acc: 0.6771 - val_loss: 1.4499 - val_acc: 0.5004\n"
     ]
    }
   ],
   "source": [
    "model = build_mlp(input_shape=x_train.shape[1:])\n",
    "model.summary()\n",
    "optimizer = keras.optimizers.SGD(lr=LEARNING_RATE, nesterov=True, momentum=MOMENTUM)\n",
    "model.compile(loss=\"categorical_crossentropy\", metrics=[\"accuracy\"], optimizer=optimizer)\n",
    "\n",
    "model.fit(x_train, y_train, \n",
    "          epochs=EPOCHS, \n",
    "          batch_size=BATCH_SIZE, \n",
    "          validation_data=(x_test, y_test), \n",
    "          shuffle=True,\n",
    "          callbacks=[model_ckpt]\n",
    "         )\n",
    "\n",
    "# Collect results\n",
    "train_loss = model.history.history[\"loss\"]\n",
    "valid_loss = model.history.history[\"val_loss\"]\n",
    "train_acc = model.history.history[\"acc\"]\n",
    "valid_acc = model.history.history[\"val_acc\"]\n",
    "\n",
    "# Load back\n",
    "# model = keras.models.load_model(\"./tmp.h5\")\n",
    "# loss_loadback, acc_loadback = model.evaluate(x_test, y_test)"
   ]
  },
  {
   "cell_type": "code",
   "execution_count": 21,
   "metadata": {},
   "outputs": [
    {
     "data": {
      "image/png": "[encoded data removed]",
      "text/plain": [
       "<Figure size 432x288 with 1 Axes>"
      ]
     },
     "metadata": {
      "needs_background": "light"
     },
     "output_type": "display_data"
    },
    {
     "data": {
      "image/png": "[encoded data removed]",
      "text/plain": [
       "<Figure size 432x288 with 1 Axes>"
      ]
     },
     "metadata": {
      "needs_background": "light"
     },
     "output_type": "display_data"
    }
   ],
   "source": [
    "import matplotlib.pyplot as plt\n",
    "%matplotlib inline\n",
    "\n",
    "plt.plot(range(len(train_loss)), train_loss, label=\"train loss\")\n",
    "plt.plot(range(len(valid_loss)), valid_loss, label=\"valid loss\")\n",
    "plt.hlines(y=loss_loadback, xmin=0, xmax=len(train_loss), colors='r', linestyles='--')\n",
    "plt.legend()\n",
    "plt.title(\"Loss\")\n",
    "plt.show()\n",
    "\n",
    "plt.plot(range(len(train_acc)), train_acc, label=\"train accuracy\")\n",
    "plt.plot(range(len(valid_acc)), valid_acc, label=\"valid accuracy\")\n",
    "plt.hlines(y=acc_loadback, xmin=0, xmax=len(train_loss), colors='r', linestyles='--')\n",
    "plt.legend()\n",
    "plt.title(\"Accuracy\")\n",
    "plt.show()"
   ]
  },
  {
   "cell_type": "code",
   "execution_count": null,
   "metadata": {},
   "outputs": [],
   "source": []
  }
 ],
 "metadata": {
  "kernelspec": {
   "display_name": "Python 3",
   "language": "python",
   "name": "python3"
  },
  "language_info": {
   "codemirror_mode": {
    "name": "ipython",
    "version": 3
   },
   "file_extension": ".py",
   "mimetype": "text/x-python",
   "name": "python",
   "nbconvert_exporter": "python",
   "pygments_lexer": "ipython3",
   "version": "3.7.3"
  }
 },
 "nbformat": 4,
 "nbformat_minor": 2
}
