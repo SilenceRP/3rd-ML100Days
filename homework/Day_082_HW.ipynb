{
 "cells": [
  {
   "cell_type": "markdown",
   "metadata": {},
   "source": [
    "## Work\n",
    "1. 請比較使用不同層數以及不同 Dropout rate 對訓練的效果\n",
    "2. 將 optimizer 改成使用 Adam 並加上適當的 dropout rate 檢視結果"
   ]
  },
  {
   "cell_type": "code",
   "execution_count": 1,
   "metadata": {},
   "outputs": [
    {
     "name": "stderr",
     "output_type": "stream",
     "text": [
      "Using TensorFlow backend.\n"
     ]
    }
   ],
   "source": [
    "import os\n",
    "import keras\n",
    "import itertools\n",
    "# Disable GPU\n",
    "os.environ[\"CUDA_VISIBLE_DEVICES\"] = \"\""
   ]
  },
  {
   "cell_type": "code",
   "execution_count": 2,
   "metadata": {},
   "outputs": [],
   "source": [
    "train, test = keras.datasets.cifar10.load_data()"
   ]
  },
  {
   "cell_type": "code",
   "execution_count": 3,
   "metadata": {},
   "outputs": [],
   "source": [
    "## 資料前處理\n",
    "def preproc_x(x, flatten=True):\n",
    "    x = x / 255.\n",
    "    if flatten:\n",
    "        x = x.reshape((len(x), -1))\n",
    "    return x\n",
    "\n",
    "def preproc_y(y, num_classes=10):\n",
    "    if y.shape[-1] == 1:\n",
    "        y = keras.utils.to_categorical(y, num_classes)\n",
    "    return y    "
   ]
  },
  {
   "cell_type": "code",
   "execution_count": 4,
   "metadata": {},
   "outputs": [],
   "source": [
    "x_train, y_train = train\n",
    "x_test, y_test = test\n",
    "\n",
    "# Preproc the inputs\n",
    "x_train = preproc_x(x_train)\n",
    "x_test = preproc_x(x_test)\n",
    "\n",
    "# Preprc the outputs\n",
    "y_train = preproc_y(y_train)\n",
    "y_test = preproc_y(y_test)"
   ]
  },
  {
   "cell_type": "code",
   "execution_count": 6,
   "metadata": {},
   "outputs": [],
   "source": [
    "from keras.layers import Dropout\n",
    "\n",
    "\"\"\"\n",
    "建立神經網路，並加入 dropout layer\n",
    "\"\"\"\n",
    "def build_mlp(input_shape, output_units=10, num_neurons=[256, 128], drp_ratio=0.2):\n",
    "    input_layer = keras.layers.Input(input_shape)\n",
    "    \n",
    "    for i, n_units in enumerate(num_neurons):\n",
    "        if i == 0:\n",
    "            x = keras.layers.Dense(units=n_units, \n",
    "                                   activation=\"relu\", \n",
    "                                   name=\"hidden_layer\"+str(i+1))(input_layer)\n",
    "            x = Dropout(drp_ratio)(x)\n",
    "        else:\n",
    "            x = keras.layers.Dense(units=n_units, \n",
    "                                   activation=\"relu\", \n",
    "                                   name=\"hidden_layer\"+str(i+1))(x)\n",
    "            x = Dropout(drp_ratio)(x)\n",
    "    \n",
    "    out = keras.layers.Dense(units=output_units, activation=\"softmax\", name=\"output\")(x)\n",
    "    \n",
    "    model = keras.models.Model(inputs=[input_layer], outputs=[out])\n",
    "    return model"
   ]
  },
  {
   "cell_type": "code",
   "execution_count": 9,
   "metadata": {},
   "outputs": [],
   "source": [
    "## 超參數設定\n",
    "LEARNING_RATE = 1e-3\n",
    "EPOCHS = 25\n",
    "BATCH_SIZE = 256\n",
    "MOMENTUM = 0.95\n",
    "Dropout_EXP = 0.20"
   ]
  },
  {
   "cell_type": "code",
   "execution_count": 10,
   "metadata": {
    "scrolled": true
   },
   "outputs": [
    {
     "name": "stdout",
     "output_type": "stream",
     "text": [
      "_________________________________________________________________\n",
      "Layer (type)                 Output Shape              Param #   \n",
      "=================================================================\n",
      "input_2 (InputLayer)         (None, 3072)              0         \n",
      "_________________________________________________________________\n",
      "hidden_layer1 (Dense)        (None, 256)               786688    \n",
      "_________________________________________________________________\n",
      "dropout_3 (Dropout)          (None, 256)               0         \n",
      "_________________________________________________________________\n",
      "hidden_layer2 (Dense)        (None, 128)               32896     \n",
      "_________________________________________________________________\n",
      "dropout_4 (Dropout)          (None, 128)               0         \n",
      "_________________________________________________________________\n",
      "output (Dense)               (None, 10)                1290      \n",
      "=================================================================\n",
      "Total params: 820,874\n",
      "Trainable params: 820,874\n",
      "Non-trainable params: 0\n",
      "_________________________________________________________________\n",
      "Train on 50000 samples, validate on 10000 samples\n",
      "Epoch 1/25\n",
      "50000/50000 [==============================] - 6s 127us/step - loss: 2.1452 - acc: 0.2075 - val_loss: 1.9603 - val_acc: 0.3021\n",
      "Epoch 2/25\n",
      "50000/50000 [==============================] - 6s 123us/step - loss: 1.9585 - acc: 0.2927 - val_loss: 1.8616 - val_acc: 0.3436\n",
      "Epoch 3/25\n",
      "50000/50000 [==============================] - 7s 143us/step - loss: 1.8815 - acc: 0.3275 - val_loss: 1.8000 - val_acc: 0.3642\n",
      "Epoch 4/25\n",
      "50000/50000 [==============================] - 7s 147us/step - loss: 1.8306 - acc: 0.3477 - val_loss: 1.7524 - val_acc: 0.3868\n",
      "Epoch 5/25\n",
      "50000/50000 [==============================] - 8s 155us/step - loss: 1.7846 - acc: 0.3655 - val_loss: 1.7111 - val_acc: 0.3993\n",
      "Epoch 6/25\n",
      "50000/50000 [==============================] - 7s 143us/step - loss: 1.7539 - acc: 0.3791 - val_loss: 1.6802 - val_acc: 0.4094\n",
      "Epoch 7/25\n",
      "50000/50000 [==============================] - 7s 141us/step - loss: 1.7262 - acc: 0.3855 - val_loss: 1.6487 - val_acc: 0.4222\n",
      "Epoch 8/25\n",
      "50000/50000 [==============================] - 7s 139us/step - loss: 1.7020 - acc: 0.3975 - val_loss: 1.6299 - val_acc: 0.4272\n",
      "Epoch 9/25\n",
      "50000/50000 [==============================] - 7s 138us/step - loss: 1.6807 - acc: 0.4062 - val_loss: 1.6116 - val_acc: 0.4346\n",
      "Epoch 10/25\n",
      "50000/50000 [==============================] - 7s 139us/step - loss: 1.6619 - acc: 0.4081 - val_loss: 1.5834 - val_acc: 0.4420\n",
      "Epoch 11/25\n",
      "50000/50000 [==============================] - 7s 140us/step - loss: 1.6425 - acc: 0.4200 - val_loss: 1.5741 - val_acc: 0.4465\n",
      "Epoch 12/25\n",
      "50000/50000 [==============================] - 7s 139us/step - loss: 1.6302 - acc: 0.4231 - val_loss: 1.5635 - val_acc: 0.4546\n",
      "Epoch 13/25\n",
      "50000/50000 [==============================] - 7s 140us/step - loss: 1.6134 - acc: 0.4289 - val_loss: 1.5465 - val_acc: 0.4595\n",
      "Epoch 14/25\n",
      "50000/50000 [==============================] - 7s 139us/step - loss: 1.5971 - acc: 0.4339 - val_loss: 1.5362 - val_acc: 0.4636\n",
      "Epoch 15/25\n",
      "50000/50000 [==============================] - 7s 141us/step - loss: 1.5856 - acc: 0.4402 - val_loss: 1.5221 - val_acc: 0.4659\n",
      "Epoch 16/25\n",
      "50000/50000 [==============================] - 7s 141us/step - loss: 1.5689 - acc: 0.4461 - val_loss: 1.5111 - val_acc: 0.4700\n",
      "Epoch 17/25\n",
      "50000/50000 [==============================] - 7s 142us/step - loss: 1.5578 - acc: 0.4486 - val_loss: 1.4993 - val_acc: 0.4715\n",
      "Epoch 18/25\n",
      "50000/50000 [==============================] - 7s 140us/step - loss: 1.5490 - acc: 0.4535 - val_loss: 1.4946 - val_acc: 0.4783\n",
      "Epoch 19/25\n",
      "50000/50000 [==============================] - 7s 140us/step - loss: 1.5387 - acc: 0.4556 - val_loss: 1.4791 - val_acc: 0.4818\n",
      "Epoch 20/25\n",
      "50000/50000 [==============================] - 7s 140us/step - loss: 1.5313 - acc: 0.4599 - val_loss: 1.4724 - val_acc: 0.4844\n",
      "Epoch 21/25\n",
      "50000/50000 [==============================] - 7s 140us/step - loss: 1.5180 - acc: 0.4652 - val_loss: 1.4618 - val_acc: 0.4861\n",
      "Epoch 22/25\n",
      "50000/50000 [==============================] - 7s 140us/step - loss: 1.5065 - acc: 0.4665 - val_loss: 1.4608 - val_acc: 0.4840\n",
      "Epoch 23/25\n",
      "50000/50000 [==============================] - 7s 140us/step - loss: 1.5002 - acc: 0.4705 - val_loss: 1.4510 - val_acc: 0.4903\n",
      "Epoch 24/25\n",
      "50000/50000 [==============================] - 7s 141us/step - loss: 1.4901 - acc: 0.4714 - val_loss: 1.4445 - val_acc: 0.4929\n",
      "Epoch 25/25\n",
      "50000/50000 [==============================] - 7s 141us/step - loss: 1.4806 - acc: 0.4763 - val_loss: 1.4349 - val_acc: 0.4937\n"
     ]
    }
   ],
   "source": [
    "model = build_mlp(input_shape=x_train.shape[1:], drp_ratio=Dropout_EXP)\n",
    "model.summary()\n",
    "optimizer = keras.optimizers.SGD(lr=LEARNING_RATE, nesterov=True, momentum=MOMENTUM)\n",
    "model.compile(loss=\"categorical_crossentropy\", metrics=[\"accuracy\"], optimizer=optimizer)\n",
    "\n",
    "model.fit(x_train, y_train, \n",
    "          epochs=EPOCHS, \n",
    "          batch_size=BATCH_SIZE, \n",
    "          validation_data=(x_test, y_test), \n",
    "          shuffle=True)\n",
    "\n",
    "# Collect results\n",
    "train_loss = model.history.history[\"loss\"]\n",
    "valid_loss = model.history.history[\"val_loss\"]\n",
    "train_acc = model.history.history[\"acc\"]\n",
    "valid_acc = model.history.history[\"val_acc\"]"
   ]
  },
  {
   "cell_type": "code",
   "execution_count": 11,
   "metadata": {},
   "outputs": [
    {
     "data": {
      "image/png": "[encoded data removed]",
      "text/plain": [
       "<Figure size 432x288 with 1 Axes>"
      ]
     },
     "metadata": {
      "needs_background": "light"
     },
     "output_type": "display_data"
    },
    {
     "data": {
      "image/png": "[encoded data removed]",
      "text/plain": [
       "<Figure size 432x288 with 1 Axes>"
      ]
     },
     "metadata": {
      "needs_background": "light"
     },
     "output_type": "display_data"
    }
   ],
   "source": [
    "import matplotlib.pyplot as plt\n",
    "%matplotlib inline\n",
    "\n",
    "plt.plot(range(len(train_loss)), train_loss, label=\"train loss\")\n",
    "plt.plot(range(len(valid_loss)), valid_loss, label=\"valid loss\")\n",
    "plt.legend()\n",
    "plt.title(\"Loss\")\n",
    "plt.show()\n",
    "\n",
    "plt.plot(range(len(train_acc)), train_acc, label=\"train accuracy\")\n",
    "plt.plot(range(len(valid_acc)), valid_acc, label=\"valid accuracy\")\n",
    "plt.legend()\n",
    "plt.title(\"Accuracy\")\n",
    "plt.show()"
   ]
  },
  {
   "cell_type": "code",
   "execution_count": null,
   "metadata": {},
   "outputs": [],
   "source": [
    "# 將 optimizer 改成使用 Adam 並加上適當的 dropout rate 檢視結果"
   ]
  },
  {
   "cell_type": "code",
   "execution_count": 12,
   "metadata": {},
   "outputs": [],
   "source": [
    "from keras.layers import Dropout\n",
    "\n",
    "\"\"\"\n",
    "建立神經網路，並加入 dropout layer\n",
    "\"\"\"\n",
    "def build_mlp(input_shape, output_units=10, num_neurons=[256, 128], drp_ratio=0.2):\n",
    "    input_layer = keras.layers.Input(input_shape)\n",
    "    \n",
    "    for i, n_units in enumerate(num_neurons):\n",
    "        if i == 0:\n",
    "            x = keras.layers.Dense(units=n_units, \n",
    "                                   activation=\"relu\", \n",
    "                                   name=\"hidden_layer\"+str(i+1))(input_layer)\n",
    "            x = Dropout(drp_ratio)(x)\n",
    "        else:\n",
    "            x = keras.layers.Dense(units=n_units, \n",
    "                                   activation=\"relu\", \n",
    "                                   name=\"hidden_layer\"+str(i+1))(x)\n",
    "            x = Dropout(drp_ratio)(x)\n",
    "    \n",
    "    out = keras.layers.Dense(units=output_units, activation=\"softmax\", name=\"output\")(x)\n",
    "    \n",
    "    model = keras.models.Model(inputs=[input_layer], outputs=[out])\n",
    "    return model"
   ]
  },
  {
   "cell_type": "code",
   "execution_count": 13,
   "metadata": {},
   "outputs": [],
   "source": [
    "## 超參數設定\n",
    "LEARNING_RATE = 1e-3\n",
    "EPOCHS = 25\n",
    "BATCH_SIZE = 256\n",
    "MOMENTUM = 0.95\n",
    "Dropout_EXP = 0.30"
   ]
  },
  {
   "cell_type": "code",
   "execution_count": 16,
   "metadata": {},
   "outputs": [
    {
     "name": "stdout",
     "output_type": "stream",
     "text": [
      "_________________________________________________________________\n",
      "Layer (type)                 Output Shape              Param #   \n",
      "=================================================================\n",
      "input_5 (InputLayer)         (None, 3072)              0         \n",
      "_________________________________________________________________\n",
      "hidden_layer1 (Dense)        (None, 256)               786688    \n",
      "_________________________________________________________________\n",
      "dropout_9 (Dropout)          (None, 256)               0         \n",
      "_________________________________________________________________\n",
      "hidden_layer2 (Dense)        (None, 128)               32896     \n",
      "_________________________________________________________________\n",
      "dropout_10 (Dropout)         (None, 128)               0         \n",
      "_________________________________________________________________\n",
      "output (Dense)               (None, 10)                1290      \n",
      "=================================================================\n",
      "Total params: 820,874\n",
      "Trainable params: 820,874\n",
      "Non-trainable params: 0\n",
      "_________________________________________________________________\n",
      "Train on 50000 samples, validate on 10000 samples\n",
      "Epoch 1/25\n",
      "50000/50000 [==============================] - 7s 143us/step - loss: 2.0775 - acc: 0.2268 - val_loss: 1.8798 - val_acc: 0.2933\n",
      "Epoch 2/25\n",
      "50000/50000 [==============================] - 6s 125us/step - loss: 1.9207 - acc: 0.2908 - val_loss: 1.8094 - val_acc: 0.3527\n",
      "Epoch 3/25\n",
      "50000/50000 [==============================] - 8s 156us/step - loss: 1.8782 - acc: 0.3044 - val_loss: 1.7782 - val_acc: 0.3604\n",
      "Epoch 4/25\n",
      "50000/50000 [==============================] - 7s 149us/step - loss: 1.8542 - acc: 0.3180 - val_loss: 1.7538 - val_acc: 0.3699\n",
      "Epoch 5/25\n",
      "50000/50000 [==============================] - 7s 148us/step - loss: 1.8266 - acc: 0.3290 - val_loss: 1.7258 - val_acc: 0.3861\n",
      "Epoch 6/25\n",
      "50000/50000 [==============================] - 7s 149us/step - loss: 1.8025 - acc: 0.3404 - val_loss: 1.7101 - val_acc: 0.3973\n",
      "Epoch 7/25\n",
      "50000/50000 [==============================] - 7s 148us/step - loss: 1.7948 - acc: 0.3420 - val_loss: 1.7091 - val_acc: 0.3900\n",
      "Epoch 8/25\n",
      "50000/50000 [==============================] - 7s 149us/step - loss: 1.7812 - acc: 0.3467 - val_loss: 1.6980 - val_acc: 0.3996\n",
      "Epoch 9/25\n",
      "50000/50000 [==============================] - 8s 153us/step - loss: 1.7783 - acc: 0.3493 - val_loss: 1.6830 - val_acc: 0.4049\n",
      "Epoch 10/25\n",
      "50000/50000 [==============================] - 8s 168us/step - loss: 1.7611 - acc: 0.3561 - val_loss: 1.6778 - val_acc: 0.4058\n",
      "Epoch 11/25\n",
      "50000/50000 [==============================] - 8s 155us/step - loss: 1.7556 - acc: 0.3579 - val_loss: 1.6726 - val_acc: 0.4093\n",
      "Epoch 12/25\n",
      "50000/50000 [==============================] - 7s 148us/step - loss: 1.7522 - acc: 0.3589 - val_loss: 1.7035 - val_acc: 0.3988\n",
      "Epoch 13/25\n",
      "50000/50000 [==============================] - 7s 149us/step - loss: 1.7472 - acc: 0.3624 - val_loss: 1.6728 - val_acc: 0.4168\n",
      "Epoch 14/25\n",
      "50000/50000 [==============================] - 7s 149us/step - loss: 1.7433 - acc: 0.3636 - val_loss: 1.6683 - val_acc: 0.4028\n",
      "Epoch 15/25\n",
      "50000/50000 [==============================] - 7s 149us/step - loss: 1.7368 - acc: 0.3670 - val_loss: 1.6455 - val_acc: 0.4266\n",
      "Epoch 16/25\n",
      "50000/50000 [==============================] - 8s 153us/step - loss: 1.7293 - acc: 0.3680 - val_loss: 1.6503 - val_acc: 0.4253\n",
      "Epoch 17/25\n",
      "50000/50000 [==============================] - 7s 149us/step - loss: 1.7230 - acc: 0.3671 - val_loss: 1.6522 - val_acc: 0.4184\n",
      "Epoch 18/25\n",
      "50000/50000 [==============================] - 7s 149us/step - loss: 1.7275 - acc: 0.3673 - val_loss: 1.6468 - val_acc: 0.4214\n",
      "Epoch 19/25\n",
      "50000/50000 [==============================] - 7s 149us/step - loss: 1.7144 - acc: 0.3762 - val_loss: 1.6532 - val_acc: 0.4270\n",
      "Epoch 20/25\n",
      "50000/50000 [==============================] - 7s 150us/step - loss: 1.7165 - acc: 0.3713 - val_loss: 1.6517 - val_acc: 0.4217\n",
      "Epoch 21/25\n",
      "50000/50000 [==============================] - 7s 150us/step - loss: 1.7177 - acc: 0.3767 - val_loss: 1.6449 - val_acc: 0.4219\n",
      "Epoch 22/25\n",
      "50000/50000 [==============================] - 7s 149us/step - loss: 1.7047 - acc: 0.3819 - val_loss: 1.6348 - val_acc: 0.4274\n",
      "Epoch 23/25\n",
      "50000/50000 [==============================] - 8s 152us/step - loss: 1.7128 - acc: 0.3767 - val_loss: 1.6513 - val_acc: 0.4166\n",
      "Epoch 24/25\n",
      "50000/50000 [==============================] - 7s 150us/step - loss: 1.7030 - acc: 0.3794 - val_loss: 1.6307 - val_acc: 0.4344\n",
      "Epoch 25/25\n",
      "50000/50000 [==============================] - 7s 149us/step - loss: 1.7023 - acc: 0.3806 - val_loss: 1.6262 - val_acc: 0.4210\n"
     ]
    }
   ],
   "source": [
    "model = build_mlp(input_shape=x_train.shape[1:], drp_ratio=Dropout_EXP)\n",
    "model.summary()\n",
    "optimizer = keras.optimizers.Adam(lr=LEARNING_RATE)\n",
    "model.compile(loss=\"categorical_crossentropy\", metrics=[\"accuracy\"], optimizer=optimizer)\n",
    "\n",
    "model.fit(x_train, y_train, \n",
    "          epochs=EPOCHS, \n",
    "          batch_size=BATCH_SIZE, \n",
    "          validation_data=(x_test, y_test), \n",
    "          shuffle=True)\n",
    "\n",
    "# Collect results\n",
    "train_loss = model.history.history[\"loss\"]\n",
    "valid_loss = model.history.history[\"val_loss\"]\n",
    "train_acc = model.history.history[\"acc\"]\n",
    "valid_acc = model.history.history[\"val_acc\"]"
   ]
  },
  {
   "cell_type": "code",
   "execution_count": 17,
   "metadata": {},
   "outputs": [
    {
     "data": {
      "image/png": "[encoded data removed]",
      "text/plain": [
       "<Figure size 432x288 with 1 Axes>"
      ]
     },
     "metadata": {
      "needs_background": "light"
     },
     "output_type": "display_data"
    },
    {
     "data": {
      "image/png": "[encoded data removed]",
      "text/plain": [
       "<Figure size 432x288 with 1 Axes>"
      ]
     },
     "metadata": {
      "needs_background": "light"
     },
     "output_type": "display_data"
    }
   ],
   "source": [
    "import matplotlib.pyplot as plt\n",
    "%matplotlib inline\n",
    "\n",
    "plt.plot(range(len(train_loss)), train_loss, label=\"train loss\")\n",
    "plt.plot(range(len(valid_loss)), valid_loss, label=\"valid loss\")\n",
    "plt.legend()\n",
    "plt.title(\"Loss\")\n",
    "plt.show()\n",
    "\n",
    "plt.plot(range(len(train_acc)), train_acc, label=\"train accuracy\")\n",
    "plt.plot(range(len(valid_acc)), valid_acc, label=\"valid accuracy\")\n",
    "plt.legend()\n",
    "plt.title(\"Accuracy\")\n",
    "plt.show()"
   ]
  },
  {
   "cell_type": "code",
   "execution_count": null,
   "metadata": {},
   "outputs": [],
   "source": []
  }
 ],
 "metadata": {
  "kernelspec": {
   "display_name": "Python 3",
   "language": "python",
   "name": "python3"
  },
  "language_info": {
   "codemirror_mode": {
    "name": "ipython",
    "version": 3
   },
   "file_extension": ".py",
   "mimetype": "text/x-python",
   "name": "python",
   "nbconvert_exporter": "python",
   "pygments_lexer": "ipython3",
   "version": "3.7.3"
  }
 },
 "nbformat": 4,
 "nbformat_minor": 2
}
